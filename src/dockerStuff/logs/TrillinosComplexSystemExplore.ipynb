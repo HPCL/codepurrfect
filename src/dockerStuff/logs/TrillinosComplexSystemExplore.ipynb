{
 "cells": [
  {
   "cell_type": "code",
   "execution_count": 1,
   "id": "90f394b5",
   "metadata": {},
   "outputs": [
    {
     "data": {
      "text/html": [
       "\n",
       "\t\t\t<script type=\"text/javascript\">\n",
       "\t\t\t<!--\n",
       "\t\t\t\t\n",
       "\t\t\t{\n",
       "\t\t\t\tvar element = document.getElementById('NetworKit_script');\n",
       "\t\t\t\tif (element) {\n",
       "\t\t\t\t\telement.parentNode.removeChild(element);\n",
       "\t\t\t\t}\n",
       "\t\t\t\telement = document.createElement('script');\n",
       "\t\t\t\telement.type = 'text/javascript';\n",
       "\t\t\t\telement.innerHTML = 'function NetworKit_pageEmbed(id) { var i, j; var elements; elements = document.getElementById(id).getElementsByClassName(\"Plot\"); for (i=0; i<elements.length; i++) { elements[i].id = id + \"_Plot_\" + i; var data = elements[i].getAttribute(\"data-image\").split(\"|\"); elements[i].removeAttribute(\"data-image\"); var content = \"<div class=\\\\\"Image\\\\\" id=\\\\\"\" + elements[i].id + \"_Image\\\\\" />\"; elements[i].innerHTML = content; elements[i].setAttribute(\"data-image-index\", 0); elements[i].setAttribute(\"data-image-length\", data.length); for (j=0; j<data.length; j++) { elements[i].setAttribute(\"data-image-\" + j, data[j]); } NetworKit_plotUpdate(elements[i]); elements[i].onclick = function (e) { NetworKit_overlayShow((e.target) ? e.target : e.srcElement); } } elements = document.getElementById(id).getElementsByClassName(\"HeatCell\"); for (i=0; i<elements.length; i++) { var data = parseFloat(elements[i].getAttribute(\"data-heat\")); var color = \"#00FF00\"; if (data <= 1 && data > 0) { color = \"hsla(0, 100%, 75%, \" + (data) + \")\"; } else if (data <= 0 && data >= -1) { color = \"hsla(240, 100%, 75%, \" + (-data) + \")\"; } elements[i].style.backgroundColor = color; } elements = document.getElementById(id).getElementsByClassName(\"Details\"); for (i=0; i<elements.length; i++) { elements[i].setAttribute(\"data-title\", \"-\"); NetworKit_toggleDetails(elements[i]); elements[i].onclick = function (e) { NetworKit_toggleDetails((e.target) ? e.target : e.srcElement); } } elements = document.getElementById(id).getElementsByClassName(\"MathValue\"); for (i=elements.length-1; i>=0; i--) { value = elements[i].innerHTML.trim(); if (value === \"nan\") { elements[i].parentNode.innerHTML = \"\" } } elements = document.getElementById(id).getElementsByClassName(\"SubCategory\"); for (i=elements.length-1; i>=0; i--) { value = elements[i].innerHTML.trim(); if (value === \"\") { elements[i].parentNode.removeChild(elements[i]) } } elements = document.getElementById(id).getElementsByClassName(\"Category\"); for (i=elements.length-1; i>=0; i--) { value = elements[i].innerHTML.trim(); if (value === \"\") { elements[i].parentNode.removeChild(elements[i]) } } var isFirefox = false; try { isFirefox = typeof InstallTrigger !== \"undefined\"; } catch (e) {} if (!isFirefox) { alert(\"Currently the function\\'s output is only fully supported by Firefox.\"); } } function NetworKit_plotUpdate(source) { var index = source.getAttribute(\"data-image-index\"); var data = source.getAttribute(\"data-image-\" + index); var image = document.getElementById(source.id + \"_Image\"); image.style.backgroundImage = \"url(\" + data + \")\"; } function NetworKit_showElement(id, show) { var element = document.getElementById(id); element.style.display = (show) ? \"block\" : \"none\"; } function NetworKit_overlayShow(source) { NetworKit_overlayUpdate(source); NetworKit_showElement(\"NetworKit_Overlay\", true); } function NetworKit_overlayUpdate(source) { document.getElementById(\"NetworKit_Overlay_Title\").innerHTML = source.title; var index = source.getAttribute(\"data-image-index\"); var data = source.getAttribute(\"data-image-\" + index); var image = document.getElementById(\"NetworKit_Overlay_Image\"); image.setAttribute(\"data-id\", source.id); image.style.backgroundImage = \"url(\" + data + \")\"; var link = document.getElementById(\"NetworKit_Overlay_Toolbar_Bottom_Save\"); link.href = data; link.download = source.title + \".svg\"; } function NetworKit_overlayImageShift(delta) { var image = document.getElementById(\"NetworKit_Overlay_Image\"); var source = document.getElementById(image.getAttribute(\"data-id\")); var index = parseInt(source.getAttribute(\"data-image-index\")); var length = parseInt(source.getAttribute(\"data-image-length\")); var index = (index+delta) % length; if (index < 0) { index = length + index; } source.setAttribute(\"data-image-index\", index); NetworKit_overlayUpdate(source); } function NetworKit_toggleDetails(source) { var childs = source.children; var show = false; if (source.getAttribute(\"data-title\") == \"-\") { source.setAttribute(\"data-title\", \"+\"); show = false; } else { source.setAttribute(\"data-title\", \"-\"); show = true; } for (i=0; i<childs.length; i++) { if (show) { childs[i].style.display = \"block\"; } else { childs[i].style.display = \"none\"; } } }';\n",
       "\t\t\t\telement.setAttribute('id', 'NetworKit_script');\n",
       "\t\t\t\tdocument.head.appendChild(element);\n",
       "\t\t\t}\n",
       "\t\t\n",
       "\t\t\t\t\n",
       "\t\t\t{\n",
       "\t\t\t\tvar element = document.getElementById('NetworKit_style');\n",
       "\t\t\t\tif (element) {\n",
       "\t\t\t\t\telement.parentNode.removeChild(element);\n",
       "\t\t\t\t}\n",
       "\t\t\t\telement = document.createElement('style');\n",
       "\t\t\t\telement.type = 'text/css';\n",
       "\t\t\t\telement.innerHTML = '.NetworKit_Page { font-family: Arial, Helvetica, sans-serif; font-size: 14px; } .NetworKit_Page .Value:before { font-family: Arial, Helvetica, sans-serif; font-size: 1.05em; content: attr(data-title) \":\"; margin-left: -2.5em; padding-right: 0.5em; } .NetworKit_Page .Details .Value:before { display: block; } .NetworKit_Page .Value { font-family: monospace; white-space: pre; padding-left: 2.5em; white-space: -moz-pre-wrap !important; white-space: -pre-wrap; white-space: -o-pre-wrap; white-space: pre-wrap; word-wrap: break-word; tab-size: 4; -moz-tab-size: 4; } .NetworKit_Page .Category { clear: both; padding-left: 1em; margin-bottom: 1.5em; } .NetworKit_Page .Category:before { content: attr(data-title); font-size: 1.75em; display: block; margin-left: -0.8em; margin-bottom: 0.5em; } .NetworKit_Page .SubCategory { margin-bottom: 1.5em; padding-left: 1em; } .NetworKit_Page .SubCategory:before { font-size: 1.6em; display: block; margin-left: -0.8em; margin-bottom: 0.5em; } .NetworKit_Page .SubCategory[data-title]:before { content: attr(data-title); } .NetworKit_Page .Block { display: block; } .NetworKit_Page .Block:after { content: \".\"; visibility: hidden; display: block; height: 0; clear: both; } .NetworKit_Page .Block .Thumbnail_Overview, .NetworKit_Page .Block .Thumbnail_ScatterPlot { width: 260px; float: left; } .NetworKit_Page .Block .Thumbnail_Overview img, .NetworKit_Page .Block .Thumbnail_ScatterPlot img { width: 260px; } .NetworKit_Page .Block .Thumbnail_Overview:before, .NetworKit_Page .Block .Thumbnail_ScatterPlot:before { display: block; text-align: center; font-weight: bold; } .NetworKit_Page .Block .Thumbnail_Overview:before { content: attr(data-title); } .NetworKit_Page .HeatCell { font-family: \"Courier New\", Courier, monospace; cursor: pointer; } .NetworKit_Page .HeatCell, .NetworKit_Page .HeatCellName { display: inline; padding: 0.1em; margin-right: 2px; background-color: #FFFFFF } .NetworKit_Page .HeatCellName { margin-left: 0.25em; } .NetworKit_Page .HeatCell:before { content: attr(data-heat); display: inline-block; color: #000000; width: 4em; text-align: center; } .NetworKit_Page .Measure { clear: both; } .NetworKit_Page .Measure .Details { cursor: pointer; } .NetworKit_Page .Measure .Details:before { content: \"[\" attr(data-title) \"]\"; display: block; } .NetworKit_Page .Measure .Details .Value { border-left: 1px dotted black; margin-left: 0.4em; padding-left: 3.5em; pointer-events: none; } .NetworKit_Page .Measure .Details .Spacer:before { content: \".\"; opacity: 0.0; pointer-events: none; } .NetworKit_Page .Measure .Plot { width: 440px; height: 440px; cursor: pointer; float: left; margin-left: -0.9em; margin-right: 20px; } .NetworKit_Page .Measure .Plot .Image { background-repeat: no-repeat; background-position: center center; background-size: contain; height: 100%; pointer-events: none; } .NetworKit_Page .Measure .Stat { width: 500px; float: left; } .NetworKit_Page .Measure .Stat .Group { padding-left: 1.25em; margin-bottom: 0.75em; } .NetworKit_Page .Measure .Stat .Group .Title { font-size: 1.1em; display: block; margin-bottom: 0.3em; margin-left: -0.75em; border-right-style: dotted; border-right-width: 1px; border-bottom-style: dotted; border-bottom-width: 1px; background-color: #D0D0D0; padding-left: 0.2em; } .NetworKit_Page .Measure .Stat .Group .List { -webkit-column-count: 3; -moz-column-count: 3; column-count: 3; } .NetworKit_Page .Measure .Stat .Group .List .Entry { position: relative; line-height: 1.75em; } .NetworKit_Page .Measure .Stat .Group .List .Entry[data-tooltip]:before { position: absolute; left: 0; top: -40px; background-color: #808080; color: #ffffff; height: 30px; line-height: 30px; border-radius: 5px; padding: 0 15px; content: attr(data-tooltip); white-space: nowrap; display: none; } .NetworKit_Page .Measure .Stat .Group .List .Entry[data-tooltip]:after { position: absolute; left: 15px; top: -10px; border-top: 7px solid #808080; border-left: 7px solid transparent; border-right: 7px solid transparent; content: \"\"; display: none; } .NetworKit_Page .Measure .Stat .Group .List .Entry[data-tooltip]:hover:after, .NetworKit_Page .Measure .Stat .Group .List .Entry[data-tooltip]:hover:before { display: block; } .NetworKit_Page .Measure .Stat .Group .List .Entry .MathValue { font-family: \"Courier New\", Courier, monospace; } .NetworKit_Page .Measure:after { content: \".\"; visibility: hidden; display: block; height: 0; clear: both; } .NetworKit_Page .PartitionPie { clear: both; } .NetworKit_Page .PartitionPie img { width: 600px; } #NetworKit_Overlay { left: 0px; top: 0px; display: none; position: absolute; width: 100%; height: 100%; background-color: rgba(0,0,0,0.6); z-index: 1000; } #NetworKit_Overlay_Title { position: absolute; color: white; transform: rotate(-90deg); width: 32em; height: 32em; padding-right: 0.5em; padding-top: 0.5em; text-align: right; font-size: 40px; } #NetworKit_Overlay .button { background: white; cursor: pointer; } #NetworKit_Overlay .button:before { size: 13px; display: inline-block; text-align: center; margin-top: 0.5em; margin-bottom: 0.5em; width: 1.5em; height: 1.5em; } #NetworKit_Overlay .icon-close:before { content: \"X\"; } #NetworKit_Overlay .icon-previous:before { content: \"P\"; } #NetworKit_Overlay .icon-next:before { content: \"N\"; } #NetworKit_Overlay .icon-save:before { content: \"S\"; } #NetworKit_Overlay_Toolbar_Top, #NetworKit_Overlay_Toolbar_Bottom { position: absolute; width: 40px; right: 13px; text-align: right; z-index: 1100; } #NetworKit_Overlay_Toolbar_Top { top: 0.5em; } #NetworKit_Overlay_Toolbar_Bottom { Bottom: 0.5em; } #NetworKit_Overlay_ImageContainer { position: absolute; top: 5%; left: 5%; height: 90%; width: 90%; background-repeat: no-repeat; background-position: center center; background-size: contain; } #NetworKit_Overlay_Image { height: 100%; width: 100%; background-repeat: no-repeat; background-position: center center; background-size: contain; }';\n",
       "\t\t\t\telement.setAttribute('id', 'NetworKit_style');\n",
       "\t\t\t\tdocument.head.appendChild(element);\n",
       "\t\t\t}\n",
       "\t\t\n",
       "\t\t\t\t\n",
       "\t\t\t{\n",
       "\t\t\t\tvar element = document.getElementById('NetworKit_Overlay');\n",
       "\t\t\t\tif (element) {\n",
       "\t\t\t\t\telement.parentNode.removeChild(element);\n",
       "\t\t\t\t}\n",
       "\t\t\t\telement = document.createElement('div');\n",
       "\t\t\t\telement.innerHTML = '<div id=\"NetworKit_Overlay_Toolbar_Top\"><div class=\"button icon-close\" id=\"NetworKit_Overlay_Close\" /></div><div id=\"NetworKit_Overlay_Title\" /> <div id=\"NetworKit_Overlay_ImageContainer\"> <div id=\"NetworKit_Overlay_Image\" /> </div> <div id=\"NetworKit_Overlay_Toolbar_Bottom\"> <div class=\"button icon-previous\" onclick=\"NetworKit_overlayImageShift(-1)\" /> <div class=\"button icon-next\" onclick=\"NetworKit_overlayImageShift(1)\" /> <a id=\"NetworKit_Overlay_Toolbar_Bottom_Save\"><div class=\"button icon-save\" /></a> </div>';\n",
       "\t\t\t\telement.setAttribute('id', 'NetworKit_Overlay');\n",
       "\t\t\t\tdocument.body.appendChild(element);\n",
       "\t\t\t\tdocument.getElementById('NetworKit_Overlay_Close').onclick = function (e) {\n",
       "\t\t\t\t\tdocument.getElementById('NetworKit_Overlay').style.display = 'none';\n",
       "\t\t\t\t}\n",
       "\t\t\t}\n",
       "\t\t\n",
       "\t\t\t-->\n",
       "\t\t\t</script>\n",
       "\t\t"
      ]
     },
     "metadata": {},
     "output_type": "display_data"
    }
   ],
   "source": [
    "import networkit as nk \n",
    "import pandas as pd \n",
    "import numpy as np \n",
    "import matplotlib.pyplot as plt "
   ]
  },
  {
   "cell_type": "code",
   "execution_count": 2,
   "id": "513aa23b",
   "metadata": {},
   "outputs": [],
   "source": [
    "import networkx as nx "
   ]
  },
  {
   "cell_type": "code",
   "execution_count": 3,
   "id": "98b98e25",
   "metadata": {},
   "outputs": [],
   "source": [
    "import os "
   ]
  },
  {
   "cell_type": "markdown",
   "id": "c50303d9",
   "metadata": {},
   "source": [
    "# General Callgraphs: Scale-Free Exploration "
   ]
  },
  {
   "cell_type": "markdown",
   "id": "d1d8b229",
   "metadata": {},
   "source": [
    "### Use the largest weakly connected component in place of the whole callgraph"
   ]
  },
  {
   "cell_type": "code",
   "execution_count": 4,
   "id": "c5632e6e",
   "metadata": {},
   "outputs": [],
   "source": [
    "callgraphMetrics = {} \n",
    "callgraphs       = {}\n",
    "for file in os.listdir('/logs'):\n",
    "    filepath     = '/'.join(['/logs', file])\n",
    "    if os.path.isfile(filepath): \n",
    "        if 'TrilinosCG' in file: \n",
    "            file_pd                    = pd.read_csv(filepath)\n",
    "            callgraphMetrics[filepath] = file_pd \n",
    "        if 'TrilinosGR' in file: \n",
    "            file_nx              = nx.read_edgelist(filepath, create_using=nx.DiGraph())\n",
    "#             file_nx = max(nx.weakly_connected_components(file_nx),key=len)[0]\n",
    "            file_nk              = nk.nxadapter.nx2nk(file_nx)\n",
    "            wcc                  = nk.components.WeaklyConnectedComponents(file_nk)\n",
    "            wcc.run()\n",
    "            components           = wcc.getComponents()\n",
    "            largst_wcc_l         = [x for x in components if len(x) == max(len(y) for y in components)]\n",
    "            largst_wcc           = largst_wcc_l[0]\n",
    "            sample_gr_lwcc       = nk.graphtools.subgraphFromNodes(file_nk, largst_wcc)\n",
    "            callgraphs[filepath] = sample_gr_lwcc\n",
    "            "
   ]
  },
  {
   "cell_type": "markdown",
   "id": "8f0d0ddf",
   "metadata": {},
   "source": [
    "why read using networkx and then convert to networkit thereby adding extra conversion-time, you ask? Because apparently networkit has no easy way of reading directed graphs. "
   ]
  },
  {
   "cell_type": "code",
   "execution_count": 5,
   "id": "1b0b6679",
   "metadata": {},
   "outputs": [
    {
     "data": {
      "text/plain": [
       "['/logs/TrilinosGR.TabOne',\n",
       " '/logs/TrilinosGR1300.TabOne',\n",
       " '/logs/TrilinosGR1301.TabOne',\n",
       " '/logs/TrilinosGR1320.TabOne',\n",
       " '/logs/TrilinosGRApr16th2015.TabOne']"
      ]
     },
     "execution_count": 5,
     "metadata": {},
     "output_type": "execute_result"
    }
   ],
   "source": [
    "list(callgraphs.keys())[:5]"
   ]
  },
  {
   "cell_type": "code",
   "execution_count": 6,
   "id": "4199d9f3",
   "metadata": {},
   "outputs": [
    {
     "name": "stdout",
     "output_type": "stream",
     "text": [
      "Network Properties:\n",
      "nodes, edges\t\t\t21020, 101875\n",
      "directed?\t\t\tTrue\n",
      "weighted?\t\t\tFalse\n",
      "isolated nodes\t\t\t2983\n",
      "self-loops\t\t\t258\n",
      "density\t\t\t\t0.000230\n",
      "min/max/avg degree\t\t0, 294, 4.846575\n",
      "degree assortativity\t\t0.058990\n",
      "number of connected components\t20979\n",
      "size of largest component\t7 (0.03 %)\n"
     ]
    }
   ],
   "source": [
    "nk.overview(list(callgraphs.values())[0])"
   ]
  },
  {
   "cell_type": "code",
   "execution_count": 7,
   "id": "7ba6a6bd",
   "metadata": {},
   "outputs": [
    {
     "data": {
      "text/plain": [
       "41"
      ]
     },
     "execution_count": 7,
     "metadata": {},
     "output_type": "execute_result"
    }
   ],
   "source": [
    "len(callgraphs.values())"
   ]
  },
  {
   "cell_type": "code",
   "execution_count": 8,
   "id": "eca80d82",
   "metadata": {},
   "outputs": [
    {
     "data": {
      "text/html": [
       "<div>\n",
       "<style scoped>\n",
       "    .dataframe tbody tr th:only-of-type {\n",
       "        vertical-align: middle;\n",
       "    }\n",
       "\n",
       "    .dataframe tbody tr th {\n",
       "        vertical-align: top;\n",
       "    }\n",
       "\n",
       "    .dataframe thead th {\n",
       "        text-align: right;\n",
       "    }\n",
       "</style>\n",
       "<table border=\"1\" class=\"dataframe\">\n",
       "  <thead>\n",
       "    <tr style=\"text-align: right;\">\n",
       "      <th></th>\n",
       "      <th>Unnamed: 0</th>\n",
       "      <th>Name</th>\n",
       "      <th>FanIn</th>\n",
       "      <th>FanOut</th>\n",
       "      <th>IsIsolated</th>\n",
       "      <th>AvgShortestPath</th>\n",
       "      <th>Closeness</th>\n",
       "      <th>Betweenness</th>\n",
       "      <th>Eccentricity_R</th>\n",
       "      <th>Eccentricity_N</th>\n",
       "    </tr>\n",
       "  </thead>\n",
       "  <tbody>\n",
       "    <tr>\n",
       "      <th>0</th>\n",
       "      <td>0</td>\n",
       "      <td>_ZNK6shards11ArrayDimTag9to_stringB5cxx11Eii</td>\n",
       "      <td>0</td>\n",
       "      <td>9</td>\n",
       "      <td>False</td>\n",
       "      <td>1975.4</td>\n",
       "      <td>0.000506</td>\n",
       "      <td>0.0</td>\n",
       "      <td>2</td>\n",
       "      <td>15</td>\n",
       "    </tr>\n",
       "    <tr>\n",
       "      <th>1</th>\n",
       "      <td>1</td>\n",
       "      <td>_ZN6shards12array_traits11check_rangeEii</td>\n",
       "      <td>2</td>\n",
       "      <td>10</td>\n",
       "      <td>False</td>\n",
       "      <td>2116.5</td>\n",
       "      <td>0.000472</td>\n",
       "      <td>16.0</td>\n",
       "      <td>1</td>\n",
       "      <td>9</td>\n",
       "    </tr>\n",
       "    <tr>\n",
       "      <th>2</th>\n",
       "      <td>2</td>\n",
       "      <td>_ZNSt7__cxx1119basic_ostringstreamIcSt11char_t...</td>\n",
       "      <td>1138</td>\n",
       "      <td>0</td>\n",
       "      <td>False</td>\n",
       "      <td>inf</td>\n",
       "      <td>0.000000</td>\n",
       "      <td>0.0</td>\n",
       "      <td>0</td>\n",
       "      <td>2</td>\n",
       "    </tr>\n",
       "    <tr>\n",
       "      <th>3</th>\n",
       "      <td>3</td>\n",
       "      <td>_ZNSolsEi</td>\n",
       "      <td>1014</td>\n",
       "      <td>0</td>\n",
       "      <td>False</td>\n",
       "      <td>inf</td>\n",
       "      <td>0.000000</td>\n",
       "      <td>0.0</td>\n",
       "      <td>0</td>\n",
       "      <td>3</td>\n",
       "    </tr>\n",
       "    <tr>\n",
       "      <th>4</th>\n",
       "      <td>4</td>\n",
       "      <td>_ZNSt7__cxx1112basic_stringIcSt11char_traitsIc...</td>\n",
       "      <td>608</td>\n",
       "      <td>0</td>\n",
       "      <td>False</td>\n",
       "      <td>inf</td>\n",
       "      <td>0.000000</td>\n",
       "      <td>0.0</td>\n",
       "      <td>0</td>\n",
       "      <td>4</td>\n",
       "    </tr>\n",
       "  </tbody>\n",
       "</table>\n",
       "</div>"
      ],
      "text/plain": [
       "   Unnamed: 0                                               Name  FanIn  \\\n",
       "0           0       _ZNK6shards11ArrayDimTag9to_stringB5cxx11Eii      0   \n",
       "1           1           _ZN6shards12array_traits11check_rangeEii      2   \n",
       "2           2  _ZNSt7__cxx1119basic_ostringstreamIcSt11char_t...   1138   \n",
       "3           3                                          _ZNSolsEi   1014   \n",
       "4           4  _ZNSt7__cxx1112basic_stringIcSt11char_traitsIc...    608   \n",
       "\n",
       "   FanOut  IsIsolated  AvgShortestPath  Closeness  Betweenness  \\\n",
       "0       9       False           1975.4   0.000506          0.0   \n",
       "1      10       False           2116.5   0.000472         16.0   \n",
       "2       0       False              inf   0.000000          0.0   \n",
       "3       0       False              inf   0.000000          0.0   \n",
       "4       0       False              inf   0.000000          0.0   \n",
       "\n",
       "   Eccentricity_R  Eccentricity_N  \n",
       "0               2              15  \n",
       "1               1               9  \n",
       "2               0               2  \n",
       "3               0               3  \n",
       "4               0               4  "
      ]
     },
     "execution_count": 8,
     "metadata": {},
     "output_type": "execute_result"
    }
   ],
   "source": [
    "list(callgraphMetrics.values())[0].head()"
   ]
  },
  {
   "cell_type": "markdown",
   "id": "6b2ca00e",
   "metadata": {},
   "source": [
    "Note that for every CG and GR file, there exists a corresponding NM file. Thus, even though the C++ identifiers are kept mangled, one can easily \n",
    "unmangle them by piping the contents of the file through c++filt. "
   ]
  },
  {
   "cell_type": "markdown",
   "id": "b61e644f",
   "metadata": {},
   "source": [
    "Moreover, if the average shortest path of a given node is infinite, this should mean that  \n",
    "there exists at least one node in the network that the node in question is not connected to. If, in addition, the node's fan-out is zero, then all paths end at the node, and thus is betweenness is zero. For our problem domain, nodes are functions and for a function to be such an end-point, the function would have to be a built-in function.  We drop such built-in functions."
   ]
  },
  {
   "cell_type": "code",
   "execution_count": 9,
   "id": "eed8b7ff",
   "metadata": {},
   "outputs": [],
   "source": [
    "sample_pd = list(callgraphMetrics.values())[0][['FanIn', 'FanOut', 'AvgShortestPath', 'Betweenness', 'Eccentricity_R']]"
   ]
  },
  {
   "cell_type": "code",
   "execution_count": 10,
   "id": "7a7ffd1c",
   "metadata": {},
   "outputs": [],
   "source": [
    "sample_gr = list(callgraphs.values())[0] "
   ]
  },
  {
   "cell_type": "code",
   "execution_count": 11,
   "id": "cff2ab83",
   "metadata": {},
   "outputs": [],
   "source": [
    "import math "
   ]
  },
  {
   "cell_type": "code",
   "execution_count": 12,
   "id": "4424e072",
   "metadata": {},
   "outputs": [
    {
     "name": "stdout",
     "output_type": "stream",
     "text": [
      "True\n",
      "0\n",
      "[]\n"
     ]
    }
   ],
   "source": [
    "ans   = True \n",
    "count = 0\n",
    "counterex = []\n",
    "for i in sample_pd.index: \n",
    "    if sample_pd.AvgShortestPath[i] == math.inf: \n",
    "        if sample_pd.FanOut[i] == 0: \n",
    "            if sample_pd.Betweenness[i] != 0:\n",
    "                ans = False \n",
    "                count += 1 \n",
    "                counterex.append((i, sample_pd.FanOut[i]))\n",
    "print(ans) \n",
    "print(count)\n",
    "print(counterex)"
   ]
  },
  {
   "cell_type": "markdown",
   "id": "de272cce",
   "metadata": {},
   "source": [
    "Our condition holds, and we proceed to drop"
   ]
  },
  {
   "cell_type": "code",
   "execution_count": 13,
   "id": "8cfb17c1",
   "metadata": {},
   "outputs": [],
   "source": [
    "sample_pd = sample_pd.drop(\n",
    "              sample_pd[\n",
    "                  (sample_pd.AvgShortestPath == math.inf) & \n",
    "                  (sample_pd.FanOut == 0) \n",
    "              ].index \n",
    "            )"
   ]
  },
  {
   "cell_type": "code",
   "execution_count": 14,
   "id": "2042158b",
   "metadata": {},
   "outputs": [],
   "source": [
    "sample_pd = sample_pd.drop(sample_pd[sample_pd.AvgShortestPath == math.inf].index)"
   ]
  },
  {
   "cell_type": "markdown",
   "id": "c2b403be",
   "metadata": {},
   "source": [
    "### Fan-In & Fan-Out"
   ]
  },
  {
   "cell_type": "markdown",
   "id": "5469d423",
   "metadata": {},
   "source": [
    "#### single version"
   ]
  },
  {
   "cell_type": "code",
   "execution_count": 15,
   "id": "e7ce372e",
   "metadata": {},
   "outputs": [],
   "source": [
    "sample_pd_fanin  = sample_pd.FanIn.value_counts().rename_axis('unique_fanins').reset_index(name='counts')\n",
    "sample_pd_fanout = sample_pd.FanOut.value_counts().rename_axis('unique_fanouts').reset_index(name='counts')"
   ]
  },
  {
   "cell_type": "code",
   "execution_count": 16,
   "id": "46595962",
   "metadata": {},
   "outputs": [],
   "source": [
    "sample_pd_fanin['probs'] = sample_pd_fanin['counts'] / sample_pd_fanin['counts'].sum()\n",
    "sample_pd_fanout['probs'] = sample_pd_fanout['counts'] / sample_pd_fanout['counts'].sum()"
   ]
  },
  {
   "cell_type": "code",
   "execution_count": 17,
   "id": "65f2b26a",
   "metadata": {},
   "outputs": [
    {
     "data": {
      "text/html": [
       "<div>\n",
       "<style scoped>\n",
       "    .dataframe tbody tr th:only-of-type {\n",
       "        vertical-align: middle;\n",
       "    }\n",
       "\n",
       "    .dataframe tbody tr th {\n",
       "        vertical-align: top;\n",
       "    }\n",
       "\n",
       "    .dataframe thead th {\n",
       "        text-align: right;\n",
       "    }\n",
       "</style>\n",
       "<table border=\"1\" class=\"dataframe\">\n",
       "  <thead>\n",
       "    <tr style=\"text-align: right;\">\n",
       "      <th></th>\n",
       "      <th>unique_fanins</th>\n",
       "      <th>counts</th>\n",
       "      <th>probs</th>\n",
       "    </tr>\n",
       "  </thead>\n",
       "  <tbody>\n",
       "    <tr>\n",
       "      <th>0</th>\n",
       "      <td>1</td>\n",
       "      <td>7641</td>\n",
       "      <td>0.418960</td>\n",
       "    </tr>\n",
       "    <tr>\n",
       "      <th>1</th>\n",
       "      <td>0</td>\n",
       "      <td>6866</td>\n",
       "      <td>0.376467</td>\n",
       "    </tr>\n",
       "    <tr>\n",
       "      <th>2</th>\n",
       "      <td>2</td>\n",
       "      <td>2016</td>\n",
       "      <td>0.110538</td>\n",
       "    </tr>\n",
       "    <tr>\n",
       "      <th>3</th>\n",
       "      <td>3</td>\n",
       "      <td>486</td>\n",
       "      <td>0.026648</td>\n",
       "    </tr>\n",
       "    <tr>\n",
       "      <th>4</th>\n",
       "      <td>4</td>\n",
       "      <td>366</td>\n",
       "      <td>0.020068</td>\n",
       "    </tr>\n",
       "  </tbody>\n",
       "</table>\n",
       "</div>"
      ],
      "text/plain": [
       "   unique_fanins  counts     probs\n",
       "0              1    7641  0.418960\n",
       "1              0    6866  0.376467\n",
       "2              2    2016  0.110538\n",
       "3              3     486  0.026648\n",
       "4              4     366  0.020068"
      ]
     },
     "execution_count": 17,
     "metadata": {},
     "output_type": "execute_result"
    }
   ],
   "source": [
    "sample_pd_fanin.head()"
   ]
  },
  {
   "cell_type": "code",
   "execution_count": 18,
   "id": "421b9b5f",
   "metadata": {},
   "outputs": [
    {
     "data": {
      "text/plain": [
       "Text(0, 0.5, 'P(FanIn)')"
      ]
     },
     "execution_count": 18,
     "metadata": {},
     "output_type": "execute_result"
    },
    {
     "data": {
      "image/png": "[encoded data removed]",
      "text/plain": [
       "<Figure size 432x288 with 1 Axes>"
      ]
     },
     "metadata": {
      "needs_background": "light"
     },
     "output_type": "display_data"
    }
   ],
   "source": [
    "fig = plt.figure() \n",
    "ax = plt.gca()\n",
    "ax.scatter(sample_pd_fanin.unique_fanins, sample_pd_fanin.probs, color='r')\n",
    "# ax.plot(np.unique(sample_pd_fanin.unique_fanins), \n",
    "#                 np.poly1d(np.polyfit(sample_pd_fanin.unique_fanins, \n",
    "#                                      sample_pd_fanin.probs, 1))\n",
    "#         (np.unique(sample_pd_fanin.unique_fanins)))\n",
    "ax.set_yscale('log') \n",
    "ax.set_xscale('log')\n",
    "ax.set_title('FanIn vs Prob(FanIn) for Trilinos')\n",
    "ax.set_xlabel('FanIn') \n",
    "ax.set_ylabel('P(FanIn)')"
   ]
  },
  {
   "cell_type": "code",
   "execution_count": 19,
   "id": "185e4ab1",
   "metadata": {},
   "outputs": [
    {
     "data": {
      "text/plain": [
       "Text(0, 0.5, 'P(FanOut)')"
      ]
     },
     "execution_count": 19,
     "metadata": {},
     "output_type": "execute_result"
    },
    {
     "data": {
      "image/png": "[encoded data removed]",
      "text/plain": [
       "<Figure size 432x288 with 1 Axes>"
      ]
     },
     "metadata": {
      "needs_background": "light"
     },
     "output_type": "display_data"
    }
   ],
   "source": [
    "fig = plt.figure() \n",
    "ax = plt.gca()\n",
    "ax.scatter(sample_pd_fanout.unique_fanouts, sample_pd_fanout.probs, color='r')\n",
    "# ax.plot(np.unique(np.log(sample_pd_fanout.unique_fanouts)), np.poly1d(np.polyfit(np.log(sample_pd_fanout.unique_fanouts), np.log(sample_pd_fanout.probs), 1))(np.unique(np.log(sample_pd_fanout.unique_fanouts))), ':')\n",
    "ax.set_yscale('log') \n",
    "ax.set_xscale('log')\n",
    "ax.set_title('FanOut vs Prob(FanOut) for Trilinos')\n",
    "ax.set_xlabel('FanOut') \n",
    "ax.set_ylabel('P(FanOut)')"
   ]
  },
  {
   "cell_type": "markdown",
   "id": "58092243",
   "metadata": {},
   "source": [
    "Since the probabilities P(FanIn) and P(FanOut) seem to be in a linear relationship with negative slope to FanIn and FanOut values respectively, it follows that Trilinos' overall callgraph (for this version) seems to be small-world network."
   ]
  },
  {
   "cell_type": "markdown",
   "id": "7fff14b0",
   "metadata": {},
   "source": [
    "# General Callgraphs: Small-World Exploration"
   ]
  },
  {
   "cell_type": "markdown",
   "id": "9f3e6b77",
   "metadata": {},
   "source": [
    "A *Small-World Network* is a simple connected graph G exhibiting two properties:\n",
    "     - **Large Clustering Coefficient**: Each vertex of G is linked to a relatively well-connected set of neighboring vertices, resulting in a large value for the clustering coefficient C(G). \n",
    "     - **Small Characteristic Path Length** The presence of short-cut connections between some vertices results in a small characteristic path length L(G)."
   ]
  },
  {
   "cell_type": "code",
   "execution_count": 20,
   "id": "e64045cb",
   "metadata": {},
   "outputs": [
    {
     "data": {
      "text/plain": [
       "91190"
      ]
     },
     "execution_count": 20,
     "metadata": {},
     "output_type": "execute_result"
    }
   ],
   "source": [
    "sample_pd.size "
   ]
  },
  {
   "cell_type": "code",
   "execution_count": 21,
   "id": "13a84f41",
   "metadata": {},
   "outputs": [
    {
     "data": {
      "text/plain": [
       "1135.164105395523"
      ]
     },
     "execution_count": 21,
     "metadata": {},
     "output_type": "execute_result"
    }
   ],
   "source": [
    "sample_pd.AvgShortestPath.sum() / sample_pd.size  "
   ]
  },
  {
   "cell_type": "code",
   "execution_count": 22,
   "id": "04de3138",
   "metadata": {},
   "outputs": [
    {
     "data": {
      "text/plain": [
       "4.673644148430067"
      ]
     },
     "execution_count": 22,
     "metadata": {},
     "output_type": "execute_result"
    }
   ],
   "source": [
    "ed = nk.distance.EffectiveDiameter(nk.graphtools.toUndirected(sample_gr))\n",
    "ed.run()\n",
    "ed.getEffectiveDiameter()"
   ]
  },
  {
   "cell_type": "markdown",
   "id": "f247e578",
   "metadata": {},
   "source": [
    "**N.B: It is weird that average shortest path should be so large when the effective diameter of the graph is so small. Doesn't it follow that the diameter of a graph is always greater than or equal to its average shortest path? This makes me think that average shortest path calculation (which is currently being calculated as the reciprocal of the closeness centrality metric) is most likely wrong!!!**"
   ]
  },
  {
   "cell_type": "code",
   "execution_count": 23,
   "id": "a90e3d79",
   "metadata": {},
   "outputs": [
    {
     "data": {
      "text/plain": [
       "Index(['FanIn', 'FanOut', 'AvgShortestPath', 'Betweenness', 'Eccentricity_R'], dtype='object')"
      ]
     },
     "execution_count": 23,
     "metadata": {},
     "output_type": "execute_result"
    }
   ],
   "source": [
    "sample_pd.columns"
   ]
  },
  {
   "cell_type": "code",
   "execution_count": 24,
   "id": "f99912ff",
   "metadata": {},
   "outputs": [
    {
     "data": {
      "text/plain": [
       "3.253591402566071"
      ]
     },
     "execution_count": 24,
     "metadata": {},
     "output_type": "execute_result"
    }
   ],
   "source": [
    "sample_pd.Eccentricity_R.mean()"
   ]
  },
  {
   "cell_type": "markdown",
   "id": "581927f5",
   "metadata": {},
   "source": [
    "If the eccentricity of a given node represents its maximum shortest path from the node to any other node in the network, then the average eccentricity in a network should always be greater than its all-pairs average shortest path. Consequently, if the average eccentricity of a network is relatively small, then its average shortest path is relatively small also, and the second property of small-world networks can be verified by confirming that this average eccentricity stays small as the network evolves: "
   ]
  },
  {
   "cell_type": "code",
   "execution_count": 25,
   "id": "995b1cae",
   "metadata": {},
   "outputs": [],
   "source": [
    "avg_eccentricities = {}\n",
    "for f, f_pd in callgraphMetrics.items(): \n",
    "    f_pd = f_pd.drop(\n",
    "              f_pd[\n",
    "                  (f_pd.AvgShortestPath == math.inf) & \n",
    "                  (f_pd.FanOut == 0) \n",
    "              ].index \n",
    "            )\n",
    "    avg_eccentricities[f] = f_pd.Eccentricity_R.mean() "
   ]
  },
  {
   "cell_type": "code",
   "execution_count": 26,
   "id": "d781299b",
   "metadata": {},
   "outputs": [
    {
     "data": {
      "text/plain": [
       "[<matplotlib.lines.Line2D at 0x7f5c48d07dc0>]"
      ]
     },
     "execution_count": 26,
     "metadata": {},
     "output_type": "execute_result"
    },
    {
     "data": {
      "image/png": "[encoded data removed]",
      "text/plain": [
       "<Figure size 432x288 with 1 Axes>"
      ]
     },
     "metadata": {
      "needs_background": "light"
     },
     "output_type": "display_data"
    }
   ],
   "source": [
    "plt.plot(avg_eccentricities.values())"
   ]
  },
  {
   "cell_type": "code",
   "execution_count": 27,
   "id": "7e38eaf1",
   "metadata": {},
   "outputs": [
    {
     "data": {
      "text/plain": [
       "2.8311943655225895"
      ]
     },
     "execution_count": 27,
     "metadata": {},
     "output_type": "execute_result"
    }
   ],
   "source": [
    "sum(avg_eccentricities.values()) / len(avg_eccentricities.values())"
   ]
  },
  {
   "cell_type": "code",
   "execution_count": 28,
   "id": "00e72d7d",
   "metadata": {},
   "outputs": [],
   "source": [
    "gr_sizes = {} \n",
    "for f, f_gr in callgraphs.items(): \n",
    "    num_edges = f_gr.numberOfEdges() \n",
    "    gr_sizes[f] = num_edges "
   ]
  },
  {
   "cell_type": "code",
   "execution_count": 29,
   "id": "dcf6a0cf",
   "metadata": {},
   "outputs": [
    {
     "data": {
      "text/plain": [
       "[<matplotlib.lines.Line2D at 0x7f5c489e6c40>]"
      ]
     },
     "execution_count": 29,
     "metadata": {},
     "output_type": "execute_result"
    },
    {
     "data": {
      "image/png": "[encoded data removed]",
      "text/plain": [
       "<Figure size 432x288 with 1 Axes>"
      ]
     },
     "metadata": {
      "needs_background": "light"
     },
     "output_type": "display_data"
    }
   ],
   "source": [
    "plt.plot(gr_sizes.values())"
   ]
  },
  {
   "cell_type": "code",
   "execution_count": 30,
   "id": "d6f505c8",
   "metadata": {},
   "outputs": [
    {
     "data": {
      "text/plain": [
       "64471.829268292684"
      ]
     },
     "execution_count": 30,
     "metadata": {},
     "output_type": "execute_result"
    }
   ],
   "source": [
    "sum(gr_sizes.values()) / len(gr_sizes.values())"
   ]
  },
  {
   "cell_type": "markdown",
   "id": "bda700b3",
   "metadata": {},
   "source": [
    "Clearly these eccentricities, staying between 2.5 and 3.3, are relatively small compared to the number of edges in each network (between 10k and 110k). Thus, we can conclude that, on average, it takes a maximum of around 3 hops for any function in the callgraph (of around 64472 nodes on average) to call any other function in the Trilinos---a characteristic which might have implications relating to propagation of bugs in the software, for example."
   ]
  },
  {
   "cell_type": "code",
   "execution_count": 31,
   "id": "636d2497",
   "metadata": {},
   "outputs": [
    {
     "data": {
      "text/plain": [
       "0.07504560062538"
      ]
     },
     "execution_count": 31,
     "metadata": {},
     "output_type": "execute_result"
    }
   ],
   "source": [
    "nk.globals.clustering(sample_gr)"
   ]
  },
  {
   "cell_type": "code",
   "execution_count": 32,
   "id": "d9dcbaa5",
   "metadata": {},
   "outputs": [
    {
     "data": {
      "text/plain": [
       "0.0959695769823756"
      ]
     },
     "execution_count": 32,
     "metadata": {},
     "output_type": "execute_result"
    }
   ],
   "source": [
    "sample_gr_nx = nk.nxadapter.nk2nx(sample_gr)\n",
    "nx.average_clustering(sample_gr_nx)"
   ]
  },
  {
   "cell_type": "markdown",
   "id": "e0f6c649",
   "metadata": {},
   "source": [
    "**Are 7% or 9% small values of the clustering coefficient?**"
   ]
  },
  {
   "cell_type": "markdown",
   "id": "9eb1d560",
   "metadata": {},
   "source": [
    "### TODO\n",
    "\n",
    "   * #### Generate Barabasi albert model with characteristics almost similar to above graphs \n",
    "   * #### Generate Erdos-Renyi model with charactersitics almost similar to above graphs \n",
    "   * #### Generate Clustered-Networks with characteristics ''      \"          \"    \" "
   ]
  },
  {
   "cell_type": "code",
   "execution_count": 33,
   "id": "fe98f2c9",
   "metadata": {},
   "outputs": [],
   "source": [
    "ba_gen = nk.generators.BarabasiAlbertGenerator(k=0, nMax=21020)"
   ]
  },
  {
   "cell_type": "code",
   "execution_count": 34,
   "id": "10d6fb5d",
   "metadata": {},
   "outputs": [
    {
     "data": {
      "text/plain": [
       "networkit.generators.BarabasiAlbertGenerator"
      ]
     },
     "execution_count": 34,
     "metadata": {},
     "output_type": "execute_result"
    }
   ],
   "source": [
    "f_ba_gen = ba_gen.fit(sample_gr)\n",
    "type(f_ba_gen)"
   ]
  },
  {
   "cell_type": "code",
   "execution_count": 35,
   "id": "cda6cc23",
   "metadata": {},
   "outputs": [
    {
     "data": {
      "text/plain": [
       "['__class__',\n",
       " '__delattr__',\n",
       " '__dir__',\n",
       " '__doc__',\n",
       " '__eq__',\n",
       " '__format__',\n",
       " '__ge__',\n",
       " '__getattribute__',\n",
       " '__gt__',\n",
       " '__hash__',\n",
       " '__init__',\n",
       " '__init_subclass__',\n",
       " '__le__',\n",
       " '__lt__',\n",
       " '__ne__',\n",
       " '__new__',\n",
       " '__reduce__',\n",
       " '__reduce_ex__',\n",
       " '__repr__',\n",
       " '__setattr__',\n",
       " '__setstate__',\n",
       " '__sizeof__',\n",
       " '__str__',\n",
       " '__subclasshook__',\n",
       " 'fit',\n",
       " 'generate']"
      ]
     },
     "execution_count": 35,
     "metadata": {},
     "output_type": "execute_result"
    }
   ],
   "source": [
    "dir(nk.generators.BarabasiAlbertGenerator)"
   ]
  },
  {
   "cell_type": "code",
   "execution_count": 36,
   "id": "619c2871",
   "metadata": {},
   "outputs": [
    {
     "name": "stdout",
     "output_type": "stream",
     "text": [
      "Help on method_descriptor:\n",
      "\n",
      "generate(...)\n",
      "    Generates the graph.\n",
      "    \n",
      "    Returns:\n",
      "    --------\n",
      "    networkit.Graph\n",
      "\n"
     ]
    }
   ],
   "source": [
    "help(nk.generators.BarabasiAlbertGenerator.generate)"
   ]
  },
  {
   "cell_type": "code",
   "execution_count": null,
   "id": "63ecf770",
   "metadata": {},
   "outputs": [],
   "source": [
    "sample_gr_BA_G = ba_gen.generate()\n",
    "type(sample_gr_BA_G)"
   ]
  },
  {
   "cell_type": "code",
   "execution_count": null,
   "id": "c2109d56",
   "metadata": {},
   "outputs": [],
   "source": [
    "nk.overview(sample_gr_BA_G)"
   ]
  },
  {
   "cell_type": "code",
   "execution_count": null,
   "id": "c717d89e",
   "metadata": {},
   "outputs": [],
   "source": [
    "sample_gr_undr = nk.graphtools.toUndirected(sample_gr)"
   ]
  },
  {
   "cell_type": "code",
   "execution_count": null,
   "id": "ddc9360e",
   "metadata": {},
   "outputs": [],
   "source": [
    "nk.overview(sample_gr_undr)"
   ]
  },
  {
   "cell_type": "code",
   "execution_count": null,
   "id": "13fe0dc3",
   "metadata": {},
   "outputs": [],
   "source": []
  },
  {
   "cell_type": "code",
   "execution_count": null,
   "id": "a900ec9c",
   "metadata": {},
   "outputs": [],
   "source": []
  },
  {
   "cell_type": "code",
   "execution_count": null,
   "id": "0d3d4adf",
   "metadata": {},
   "outputs": [],
   "source": []
  }
 ],
 "metadata": {
  "kernelspec": {
   "display_name": "Python 3 (ipykernel)",
   "language": "python",
   "name": "python3"
  },
  "language_info": {
   "codemirror_mode": {
    "name": "ipython",
    "version": 3
   },
   "file_extension": ".py",
   "mimetype": "text/x-python",
   "name": "python",
   "nbconvert_exporter": "python",
   "pygments_lexer": "ipython3",
   "version": "3.8.10"
  }
 },
 "nbformat": 4,
 "nbformat_minor": 5
}
