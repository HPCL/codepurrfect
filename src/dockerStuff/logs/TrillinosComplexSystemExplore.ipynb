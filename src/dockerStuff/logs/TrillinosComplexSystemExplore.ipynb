{
 "cells": [
  {
   "cell_type": "code",
   "execution_count": 3,
   "id": "90f394b5",
   "metadata": {},
   "outputs": [
    {
     "data": {
      "text/html": [
       "\n",
       "\t\t\t<script type=\"text/javascript\">\n",
       "\t\t\t<!--\n",
       "\t\t\t\t\n",
       "\t\t\t{\n",
       "\t\t\t\tvar element = document.getElementById('NetworKit_script');\n",
       "\t\t\t\tif (element) {\n",
       "\t\t\t\t\telement.parentNode.removeChild(element);\n",
       "\t\t\t\t}\n",
       "\t\t\t\telement = document.createElement('script');\n",
       "\t\t\t\telement.type = 'text/javascript';\n",
       "\t\t\t\telement.innerHTML = 'function NetworKit_pageEmbed(id) { var i, j; var elements; elements = document.getElementById(id).getElementsByClassName(\"Plot\"); for (i=0; i<elements.length; i++) { elements[i].id = id + \"_Plot_\" + i; var data = elements[i].getAttribute(\"data-image\").split(\"|\"); elements[i].removeAttribute(\"data-image\"); var content = \"<div class=\\\\\"Image\\\\\" id=\\\\\"\" + elements[i].id + \"_Image\\\\\" />\"; elements[i].innerHTML = content; elements[i].setAttribute(\"data-image-index\", 0); elements[i].setAttribute(\"data-image-length\", data.length); for (j=0; j<data.length; j++) { elements[i].setAttribute(\"data-image-\" + j, data[j]); } NetworKit_plotUpdate(elements[i]); elements[i].onclick = function (e) { NetworKit_overlayShow((e.target) ? e.target : e.srcElement); } } elements = document.getElementById(id).getElementsByClassName(\"HeatCell\"); for (i=0; i<elements.length; i++) { var data = parseFloat(elements[i].getAttribute(\"data-heat\")); var color = \"#00FF00\"; if (data <= 1 && data > 0) { color = \"hsla(0, 100%, 75%, \" + (data) + \")\"; } else if (data <= 0 && data >= -1) { color = \"hsla(240, 100%, 75%, \" + (-data) + \")\"; } elements[i].style.backgroundColor = color; } elements = document.getElementById(id).getElementsByClassName(\"Details\"); for (i=0; i<elements.length; i++) { elements[i].setAttribute(\"data-title\", \"-\"); NetworKit_toggleDetails(elements[i]); elements[i].onclick = function (e) { NetworKit_toggleDetails((e.target) ? e.target : e.srcElement); } } elements = document.getElementById(id).getElementsByClassName(\"MathValue\"); for (i=elements.length-1; i>=0; i--) { value = elements[i].innerHTML.trim(); if (value === \"nan\") { elements[i].parentNode.innerHTML = \"\" } } elements = document.getElementById(id).getElementsByClassName(\"SubCategory\"); for (i=elements.length-1; i>=0; i--) { value = elements[i].innerHTML.trim(); if (value === \"\") { elements[i].parentNode.removeChild(elements[i]) } } elements = document.getElementById(id).getElementsByClassName(\"Category\"); for (i=elements.length-1; i>=0; i--) { value = elements[i].innerHTML.trim(); if (value === \"\") { elements[i].parentNode.removeChild(elements[i]) } } var isFirefox = false; try { isFirefox = typeof InstallTrigger !== \"undefined\"; } catch (e) {} if (!isFirefox) { alert(\"Currently the function\\'s output is only fully supported by Firefox.\"); } } function NetworKit_plotUpdate(source) { var index = source.getAttribute(\"data-image-index\"); var data = source.getAttribute(\"data-image-\" + index); var image = document.getElementById(source.id + \"_Image\"); image.style.backgroundImage = \"url(\" + data + \")\"; } function NetworKit_showElement(id, show) { var element = document.getElementById(id); element.style.display = (show) ? \"block\" : \"none\"; } function NetworKit_overlayShow(source) { NetworKit_overlayUpdate(source); NetworKit_showElement(\"NetworKit_Overlay\", true); } function NetworKit_overlayUpdate(source) { document.getElementById(\"NetworKit_Overlay_Title\").innerHTML = source.title; var index = source.getAttribute(\"data-image-index\"); var data = source.getAttribute(\"data-image-\" + index); var image = document.getElementById(\"NetworKit_Overlay_Image\"); image.setAttribute(\"data-id\", source.id); image.style.backgroundImage = \"url(\" + data + \")\"; var link = document.getElementById(\"NetworKit_Overlay_Toolbar_Bottom_Save\"); link.href = data; link.download = source.title + \".svg\"; } function NetworKit_overlayImageShift(delta) { var image = document.getElementById(\"NetworKit_Overlay_Image\"); var source = document.getElementById(image.getAttribute(\"data-id\")); var index = parseInt(source.getAttribute(\"data-image-index\")); var length = parseInt(source.getAttribute(\"data-image-length\")); var index = (index+delta) % length; if (index < 0) { index = length + index; } source.setAttribute(\"data-image-index\", index); NetworKit_overlayUpdate(source); } function NetworKit_toggleDetails(source) { var childs = source.children; var show = false; if (source.getAttribute(\"data-title\") == \"-\") { source.setAttribute(\"data-title\", \"+\"); show = false; } else { source.setAttribute(\"data-title\", \"-\"); show = true; } for (i=0; i<childs.length; i++) { if (show) { childs[i].style.display = \"block\"; } else { childs[i].style.display = \"none\"; } } }';\n",
       "\t\t\t\telement.setAttribute('id', 'NetworKit_script');\n",
       "\t\t\t\tdocument.head.appendChild(element);\n",
       "\t\t\t}\n",
       "\t\t\n",
       "\t\t\t\t\n",
       "\t\t\t{\n",
       "\t\t\t\tvar element = document.getElementById('NetworKit_style');\n",
       "\t\t\t\tif (element) {\n",
       "\t\t\t\t\telement.parentNode.removeChild(element);\n",
       "\t\t\t\t}\n",
       "\t\t\t\telement = document.createElement('style');\n",
       "\t\t\t\telement.type = 'text/css';\n",
       "\t\t\t\telement.innerHTML = '.NetworKit_Page { font-family: Arial, Helvetica, sans-serif; font-size: 14px; } .NetworKit_Page .Value:before { font-family: Arial, Helvetica, sans-serif; font-size: 1.05em; content: attr(data-title) \":\"; margin-left: -2.5em; padding-right: 0.5em; } .NetworKit_Page .Details .Value:before { display: block; } .NetworKit_Page .Value { font-family: monospace; white-space: pre; padding-left: 2.5em; white-space: -moz-pre-wrap !important; white-space: -pre-wrap; white-space: -o-pre-wrap; white-space: pre-wrap; word-wrap: break-word; tab-size: 4; -moz-tab-size: 4; } .NetworKit_Page .Category { clear: both; padding-left: 1em; margin-bottom: 1.5em; } .NetworKit_Page .Category:before { content: attr(data-title); font-size: 1.75em; display: block; margin-left: -0.8em; margin-bottom: 0.5em; } .NetworKit_Page .SubCategory { margin-bottom: 1.5em; padding-left: 1em; } .NetworKit_Page .SubCategory:before { font-size: 1.6em; display: block; margin-left: -0.8em; margin-bottom: 0.5em; } .NetworKit_Page .SubCategory[data-title]:before { content: attr(data-title); } .NetworKit_Page .Block { display: block; } .NetworKit_Page .Block:after { content: \".\"; visibility: hidden; display: block; height: 0; clear: both; } .NetworKit_Page .Block .Thumbnail_Overview, .NetworKit_Page .Block .Thumbnail_ScatterPlot { width: 260px; float: left; } .NetworKit_Page .Block .Thumbnail_Overview img, .NetworKit_Page .Block .Thumbnail_ScatterPlot img { width: 260px; } .NetworKit_Page .Block .Thumbnail_Overview:before, .NetworKit_Page .Block .Thumbnail_ScatterPlot:before { display: block; text-align: center; font-weight: bold; } .NetworKit_Page .Block .Thumbnail_Overview:before { content: attr(data-title); } .NetworKit_Page .HeatCell { font-family: \"Courier New\", Courier, monospace; cursor: pointer; } .NetworKit_Page .HeatCell, .NetworKit_Page .HeatCellName { display: inline; padding: 0.1em; margin-right: 2px; background-color: #FFFFFF } .NetworKit_Page .HeatCellName { margin-left: 0.25em; } .NetworKit_Page .HeatCell:before { content: attr(data-heat); display: inline-block; color: #000000; width: 4em; text-align: center; } .NetworKit_Page .Measure { clear: both; } .NetworKit_Page .Measure .Details { cursor: pointer; } .NetworKit_Page .Measure .Details:before { content: \"[\" attr(data-title) \"]\"; display: block; } .NetworKit_Page .Measure .Details .Value { border-left: 1px dotted black; margin-left: 0.4em; padding-left: 3.5em; pointer-events: none; } .NetworKit_Page .Measure .Details .Spacer:before { content: \".\"; opacity: 0.0; pointer-events: none; } .NetworKit_Page .Measure .Plot { width: 440px; height: 440px; cursor: pointer; float: left; margin-left: -0.9em; margin-right: 20px; } .NetworKit_Page .Measure .Plot .Image { background-repeat: no-repeat; background-position: center center; background-size: contain; height: 100%; pointer-events: none; } .NetworKit_Page .Measure .Stat { width: 500px; float: left; } .NetworKit_Page .Measure .Stat .Group { padding-left: 1.25em; margin-bottom: 0.75em; } .NetworKit_Page .Measure .Stat .Group .Title { font-size: 1.1em; display: block; margin-bottom: 0.3em; margin-left: -0.75em; border-right-style: dotted; border-right-width: 1px; border-bottom-style: dotted; border-bottom-width: 1px; background-color: #D0D0D0; padding-left: 0.2em; } .NetworKit_Page .Measure .Stat .Group .List { -webkit-column-count: 3; -moz-column-count: 3; column-count: 3; } .NetworKit_Page .Measure .Stat .Group .List .Entry { position: relative; line-height: 1.75em; } .NetworKit_Page .Measure .Stat .Group .List .Entry[data-tooltip]:before { position: absolute; left: 0; top: -40px; background-color: #808080; color: #ffffff; height: 30px; line-height: 30px; border-radius: 5px; padding: 0 15px; content: attr(data-tooltip); white-space: nowrap; display: none; } .NetworKit_Page .Measure .Stat .Group .List .Entry[data-tooltip]:after { position: absolute; left: 15px; top: -10px; border-top: 7px solid #808080; border-left: 7px solid transparent; border-right: 7px solid transparent; content: \"\"; display: none; } .NetworKit_Page .Measure .Stat .Group .List .Entry[data-tooltip]:hover:after, .NetworKit_Page .Measure .Stat .Group .List .Entry[data-tooltip]:hover:before { display: block; } .NetworKit_Page .Measure .Stat .Group .List .Entry .MathValue { font-family: \"Courier New\", Courier, monospace; } .NetworKit_Page .Measure:after { content: \".\"; visibility: hidden; display: block; height: 0; clear: both; } .NetworKit_Page .PartitionPie { clear: both; } .NetworKit_Page .PartitionPie img { width: 600px; } #NetworKit_Overlay { left: 0px; top: 0px; display: none; position: absolute; width: 100%; height: 100%; background-color: rgba(0,0,0,0.6); z-index: 1000; } #NetworKit_Overlay_Title { position: absolute; color: white; transform: rotate(-90deg); width: 32em; height: 32em; padding-right: 0.5em; padding-top: 0.5em; text-align: right; font-size: 40px; } #NetworKit_Overlay .button { background: white; cursor: pointer; } #NetworKit_Overlay .button:before { size: 13px; display: inline-block; text-align: center; margin-top: 0.5em; margin-bottom: 0.5em; width: 1.5em; height: 1.5em; } #NetworKit_Overlay .icon-close:before { content: \"X\"; } #NetworKit_Overlay .icon-previous:before { content: \"P\"; } #NetworKit_Overlay .icon-next:before { content: \"N\"; } #NetworKit_Overlay .icon-save:before { content: \"S\"; } #NetworKit_Overlay_Toolbar_Top, #NetworKit_Overlay_Toolbar_Bottom { position: absolute; width: 40px; right: 13px; text-align: right; z-index: 1100; } #NetworKit_Overlay_Toolbar_Top { top: 0.5em; } #NetworKit_Overlay_Toolbar_Bottom { Bottom: 0.5em; } #NetworKit_Overlay_ImageContainer { position: absolute; top: 5%; left: 5%; height: 90%; width: 90%; background-repeat: no-repeat; background-position: center center; background-size: contain; } #NetworKit_Overlay_Image { height: 100%; width: 100%; background-repeat: no-repeat; background-position: center center; background-size: contain; }';\n",
       "\t\t\t\telement.setAttribute('id', 'NetworKit_style');\n",
       "\t\t\t\tdocument.head.appendChild(element);\n",
       "\t\t\t}\n",
       "\t\t\n",
       "\t\t\t\t\n",
       "\t\t\t{\n",
       "\t\t\t\tvar element = document.getElementById('NetworKit_Overlay');\n",
       "\t\t\t\tif (element) {\n",
       "\t\t\t\t\telement.parentNode.removeChild(element);\n",
       "\t\t\t\t}\n",
       "\t\t\t\telement = document.createElement('div');\n",
       "\t\t\t\telement.innerHTML = '<div id=\"NetworKit_Overlay_Toolbar_Top\"><div class=\"button icon-close\" id=\"NetworKit_Overlay_Close\" /></div><div id=\"NetworKit_Overlay_Title\" /> <div id=\"NetworKit_Overlay_ImageContainer\"> <div id=\"NetworKit_Overlay_Image\" /> </div> <div id=\"NetworKit_Overlay_Toolbar_Bottom\"> <div class=\"button icon-previous\" onclick=\"NetworKit_overlayImageShift(-1)\" /> <div class=\"button icon-next\" onclick=\"NetworKit_overlayImageShift(1)\" /> <a id=\"NetworKit_Overlay_Toolbar_Bottom_Save\"><div class=\"button icon-save\" /></a> </div>';\n",
       "\t\t\t\telement.setAttribute('id', 'NetworKit_Overlay');\n",
       "\t\t\t\tdocument.body.appendChild(element);\n",
       "\t\t\t\tdocument.getElementById('NetworKit_Overlay_Close').onclick = function (e) {\n",
       "\t\t\t\t\tdocument.getElementById('NetworKit_Overlay').style.display = 'none';\n",
       "\t\t\t\t}\n",
       "\t\t\t}\n",
       "\t\t\n",
       "\t\t\t-->\n",
       "\t\t\t</script>\n",
       "\t\t"
      ]
     },
     "metadata": {},
     "output_type": "display_data"
    }
   ],
   "source": [
    "import networkit as nk \n",
    "import pandas as pd \n",
    "import numpy as np \n",
    "import matplotlib.pyplot as plt "
   ]
  },
  {
   "cell_type": "code",
   "execution_count": 4,
   "id": "513aa23b",
   "metadata": {},
   "outputs": [],
   "source": [
    "import networkx as nx "
   ]
  },
  {
   "cell_type": "code",
   "execution_count": 5,
   "id": "98b98e25",
   "metadata": {},
   "outputs": [],
   "source": [
    "import os "
   ]
  },
  {
   "cell_type": "markdown",
   "id": "c50303d9",
   "metadata": {},
   "source": [
    "# General Callgraphs: Scale-Free Exploration "
   ]
  },
  {
   "cell_type": "markdown",
   "id": "d1d8b229",
   "metadata": {},
   "source": [
    "### Use the largest weakly connected component in place of the whole callgraph"
   ]
  },
  {
   "cell_type": "code",
   "execution_count": 6,
   "id": "c5632e6e",
   "metadata": {},
   "outputs": [],
   "source": [
    "callgraphMetrics        = {} \n",
    "callgraphs              = {}\n",
    "callgraph_vs_wcc_ratios = {} \n",
    "for file in os.listdir('/logs'):\n",
    "    filepath     = '/'.join(['/logs', file])\n",
    "    if os.path.isfile(filepath): \n",
    "        if 'TrilinosCG' in file: \n",
    "            file_pd                    = pd.read_csv(filepath)\n",
    "            callgraphMetrics[filepath] = file_pd \n",
    "        if 'TrilinosGR' in file: \n",
    "            file_nx              = nx.read_edgelist(filepath, create_using=nx.DiGraph())\n",
    "            file_nk              = nk.nxadapter.nx2nk(file_nx)\n",
    "            wcc                  = nk.components.WeaklyConnectedComponents(file_nk)\n",
    "            wcc.run()\n",
    "            components           = wcc.getComponents()\n",
    "            largst_wcc_l         = [x for x in components if len(x) == max(len(y) for y in components)]\n",
    "            largst_wcc           = largst_wcc_l[0]\n",
    "            sample_gr_lwcc       = nk.graphtools.subgraphFromNodes(file_nk, largst_wcc)\n",
    "            callgraphs[filepath] = sample_gr_lwcc\n",
    "            "
   ]
  },
  {
   "cell_type": "code",
   "execution_count": 7,
   "id": "421f5544",
   "metadata": {},
   "outputs": [],
   "source": [
    "data_p_year = {}\n",
    "for k in callgraphs.keys(): \n",
    "        k_l = k.split('.') \n",
    "        k_l_y = k_l[0][-4:]\n",
    "        if k_l_y in data_p_year.keys():\n",
    "            data_p_year[k_l_y].append(k) \n",
    "        else: \n",
    "            data_p_year[k_l_y] = [k]"
   ]
  },
  {
   "cell_type": "code",
   "execution_count": 8,
   "id": "ad48e206",
   "metadata": {},
   "outputs": [
    {
     "data": {
      "text/plain": [
       "{'osGR': ['/logs/TrilinosGR.TabOne'],\n",
       " '1300': ['/logs/TrilinosGR1300.TabOne'],\n",
       " '1301': ['/logs/TrilinosGR1301.TabOne'],\n",
       " '1320': ['/logs/TrilinosGR1320.TabOne'],\n",
       " '2015': ['/logs/TrilinosGRApr16th2015.TabOne',\n",
       "  '/logs/TrilinosGRApr21st2015.TabOne',\n",
       "  '/logs/TrilinosGRAug6th2015.TabOne',\n",
       "  '/logs/TrilinosGRJan22nd2015.TabOne',\n",
       "  '/logs/TrilinosGRJul14th2015.TabOne',\n",
       "  '/logs/TrilinosGRMar6th2015.TabOne',\n",
       "  '/logs/TrilinosGRMay7th2015.TabOne',\n",
       "  '/logs/TrilinosGRNov12th2015.TabOne',\n",
       "  '/logs/TrilinosGRNov3rd2015.TabOne',\n",
       "  '/logs/TrilinosGROct6th2015.TabOne'],\n",
       " '2016': ['/logs/TrilinosGRApr21st2016.TabOne',\n",
       "  '/logs/TrilinosGRApr28th2016.TabOne',\n",
       "  '/logs/TrilinosGRFeb9th2016.TabOne',\n",
       "  '/logs/TrilinosGRJan12th2016.TabOne',\n",
       "  '/logs/TrilinosGRJan28th2016.TabOne',\n",
       "  '/logs/TrilinosGRJul12th2016.TabOne',\n",
       "  '/logs/TrilinosGRJul26th2016.TabOne',\n",
       "  '/logs/TrilinosGRNov22nd2016.TabOne',\n",
       "  '/logs/TrilinosGRNov9th2016.TabOne'],\n",
       " '2014': ['/logs/TrilinosGRApr29th2014.TabOne',\n",
       "  '/logs/TrilinosGRAug5th2014.TabOne',\n",
       "  '/logs/TrilinosGRJan14th2014.TabOne',\n",
       "  '/logs/TrilinosGRJan29th2014.TabOne',\n",
       "  '/logs/TrilinosGRJul15th2014.TabOne',\n",
       "  '/logs/TrilinosGRMay16th2014.TabOne',\n",
       "  '/logs/TrilinosGROct23rd2014.TabOne',\n",
       "  '/logs/TrilinosGROct8th2014.TabOne'],\n",
       " '2017': ['/logs/TrilinosGRFeb20th2017.TabOne',\n",
       "  '/logs/TrilinosGRJul19th2017.TabOne',\n",
       "  '/logs/TrilinosGRSep28th2017.TabOne'],\n",
       " '2019': ['/logs/TrilinosGRFeb27th2019.TabOne',\n",
       "  '/logs/TrilinosGRNov11th2019.TabOne',\n",
       "  '/logs/TrilinosGROct23rd2019.TabOne'],\n",
       " '2013': ['/logs/TrilinosGRJul11th2013.TabOne',\n",
       "  '/logs/TrilinosGROct23rd2013.TabOne'],\n",
       " '2020': ['/logs/TrilinosGRMay5th2020.TabOne'],\n",
       " '2018': ['/logs/TrilinosGRSep13th2018.TabOne']}"
      ]
     },
     "execution_count": 8,
     "metadata": {},
     "output_type": "execute_result"
    }
   ],
   "source": [
    "data_p_year"
   ]
  },
  {
   "cell_type": "code",
   "execution_count": 9,
   "id": "49b77fab",
   "metadata": {},
   "outputs": [],
   "source": [
    "ordered_versions = [\n",
    "  'osCG', 'osGR', '1320', '1301', '1300', '2020', '2019', '2018', '2017', '2016', '2015', '2014', '2013'\n",
    "]"
   ]
  },
  {
   "cell_type": "code",
   "execution_count": 10,
   "id": "55e8434f",
   "metadata": {},
   "outputs": [],
   "source": [
    "version_indices = {k : ordered_versions.index(k) for k in ordered_versions}"
   ]
  },
  {
   "cell_type": "code",
   "execution_count": 11,
   "id": "e4b3359d",
   "metadata": {},
   "outputs": [],
   "source": [
    "ordered_months = ['Jan', 'Feb', 'Mar', 'Apr', 'May', 'June', 'Jul', 'Aug', 'Sep', 'Oct', 'Nov', 'Dec']"
   ]
  },
  {
   "cell_type": "code",
   "execution_count": 12,
   "id": "ae558103",
   "metadata": {},
   "outputs": [],
   "source": [
    "months_indices = {k : ordered_months.index(k) for k in ordered_months}"
   ]
  },
  {
   "cell_type": "code",
   "execution_count": 13,
   "id": "2bf3bedc",
   "metadata": {},
   "outputs": [],
   "source": [
    "days_indices = range(30)"
   ]
  },
  {
   "cell_type": "code",
   "execution_count": 14,
   "id": "ebb5fd1f",
   "metadata": {},
   "outputs": [],
   "source": [
    "def get_graph_filename_year(graph): \n",
    "    return graph.split('.')[0][-4:]"
   ]
  },
  {
   "cell_type": "code",
   "execution_count": 15,
   "id": "d5968e63",
   "metadata": {},
   "outputs": [],
   "source": [
    "def get_graph_filename_month(graph): \n",
    "    for m in ordered_months: \n",
    "        if m in graph: \n",
    "            return m "
   ]
  },
  {
   "cell_type": "code",
   "execution_count": 16,
   "id": "e4fdaf41",
   "metadata": {},
   "outputs": [],
   "source": [
    "def get_graph_filename_day(graph): \n",
    "    p_matches = []\n",
    "    for d in days_indices: \n",
    "        postfixes = ['rd', 'th', 'st', 'nd']  \n",
    "        for p in postfixes: \n",
    "#             print(str(d) + p)\n",
    "            if (str(d) + p) in graph: \n",
    "                p_matches.append(d)\n",
    "    if p_matches != []:\n",
    "        return max(p_matches) \n",
    "    else: \n",
    "        return 0 "
   ]
  },
  {
   "cell_type": "code",
   "execution_count": 17,
   "id": "2930d565",
   "metadata": {},
   "outputs": [
    {
     "data": {
      "text/plain": [
       "'2020'"
      ]
     },
     "execution_count": 17,
     "metadata": {},
     "output_type": "execute_result"
    }
   ],
   "source": [
    "get_graph_filename_year('/logs/TrilinosGRMay5th2020.TabOne')"
   ]
  },
  {
   "cell_type": "code",
   "execution_count": 18,
   "id": "68c3f963",
   "metadata": {},
   "outputs": [
    {
     "data": {
      "text/plain": [
       "'May'"
      ]
     },
     "execution_count": 18,
     "metadata": {},
     "output_type": "execute_result"
    }
   ],
   "source": [
    "get_graph_filename_month('/logs/TrilinosGRMay5th2020.TabOne')"
   ]
  },
  {
   "cell_type": "code",
   "execution_count": 19,
   "id": "b8610eef",
   "metadata": {},
   "outputs": [
    {
     "data": {
      "text/plain": [
       "5"
      ]
     },
     "execution_count": 19,
     "metadata": {},
     "output_type": "execute_result"
    }
   ],
   "source": [
    "get_graph_filename_day('/logs/TrilinosGRMay5th2020.TabOne')"
   ]
  },
  {
   "cell_type": "code",
   "execution_count": 20,
   "id": "a7d785b0",
   "metadata": {},
   "outputs": [
    {
     "data": {
      "text/plain": [
       "23"
      ]
     },
     "execution_count": 20,
     "metadata": {},
     "output_type": "execute_result"
    }
   ],
   "source": [
    "get_graph_filename_day('/logs/TrilinosGROct23rd2014.TabOne')"
   ]
  },
  {
   "cell_type": "code",
   "execution_count": 21,
   "id": "68977481",
   "metadata": {},
   "outputs": [],
   "source": [
    "def compare_graph_filenames(graph1, graph2): \n",
    "    # returns whether graph1's date is earlier \n",
    "    # than graph2's date \n",
    "    # since years, and months in our lists above are ascending, use >\n",
    "    if version_indices[get_graph_filename_year(graph1)] > version_indices[get_graph_filename_year(graph2)]: \n",
    "        return -1  \n",
    "    elif version_indices[get_graph_filename_year(graph1)] == version_indices[get_graph_filename_year(graph2)]:\n",
    "        if months_indices[get_graph_filename_month(graph1)] < months_indices[get_graph_filename_month(graph2)]: \n",
    "            return -1 \n",
    "        elif months_indices[get_graph_filename_month(graph1)] == months_indices[get_graph_filename_month(graph2)]:\n",
    "            if get_graph_filename_day(graph1) < get_graph_filename_day(graph2): \n",
    "                return -1 \n",
    "            elif get_graph_filename_day(graph1) == get_graph_filename_day(graph2):\n",
    "                return 0 \n",
    "            else: \n",
    "                return 1 \n",
    "        else: \n",
    "            return 1  \n",
    "    else: \n",
    "        return 1 "
   ]
  },
  {
   "cell_type": "code",
   "execution_count": 22,
   "id": "81686889",
   "metadata": {},
   "outputs": [
    {
     "data": {
      "text/plain": [
       "1"
      ]
     },
     "execution_count": 22,
     "metadata": {},
     "output_type": "execute_result"
    }
   ],
   "source": [
    "compare_graph_filenames('/logs/TrilinosGROct8th2014.TabOne', '/logs/TrilinosGRJul15th2014.TabOne')"
   ]
  },
  {
   "cell_type": "code",
   "execution_count": 23,
   "id": "8cf68935",
   "metadata": {},
   "outputs": [],
   "source": [
    "from functools import cmp_to_key "
   ]
  },
  {
   "cell_type": "code",
   "execution_count": 24,
   "id": "667e7931",
   "metadata": {},
   "outputs": [],
   "source": [
    "def sort_graphs(graphs_list): \n",
    "    return sorted(graphs_list, key=cmp_to_key(compare_graph_filenames))"
   ]
  },
  {
   "cell_type": "code",
   "execution_count": 25,
   "id": "e023c2ab",
   "metadata": {},
   "outputs": [
    {
     "data": {
      "text/plain": [
       "['/logs/TrilinosGRJul11th2013.TabOne',\n",
       " '/logs/TrilinosGROct23rd2013.TabOne',\n",
       " '/logs/TrilinosGRJan14th2014.TabOne',\n",
       " '/logs/TrilinosGRJan29th2014.TabOne',\n",
       " '/logs/TrilinosGRApr29th2014.TabOne',\n",
       " '/logs/TrilinosGRMay16th2014.TabOne',\n",
       " '/logs/TrilinosGRJul15th2014.TabOne',\n",
       " '/logs/TrilinosGRAug5th2014.TabOne',\n",
       " '/logs/TrilinosGROct8th2014.TabOne',\n",
       " '/logs/TrilinosGROct23rd2014.TabOne',\n",
       " '/logs/TrilinosGRJan22nd2015.TabOne',\n",
       " '/logs/TrilinosGRMar6th2015.TabOne',\n",
       " '/logs/TrilinosGRApr16th2015.TabOne',\n",
       " '/logs/TrilinosGRApr21st2015.TabOne',\n",
       " '/logs/TrilinosGRMay7th2015.TabOne',\n",
       " '/logs/TrilinosGRJul14th2015.TabOne',\n",
       " '/logs/TrilinosGRAug6th2015.TabOne',\n",
       " '/logs/TrilinosGROct6th2015.TabOne',\n",
       " '/logs/TrilinosGRNov3rd2015.TabOne',\n",
       " '/logs/TrilinosGRNov12th2015.TabOne',\n",
       " '/logs/TrilinosGRJan12th2016.TabOne',\n",
       " '/logs/TrilinosGRJan28th2016.TabOne',\n",
       " '/logs/TrilinosGRFeb9th2016.TabOne',\n",
       " '/logs/TrilinosGRApr21st2016.TabOne',\n",
       " '/logs/TrilinosGRApr28th2016.TabOne',\n",
       " '/logs/TrilinosGRJul12th2016.TabOne',\n",
       " '/logs/TrilinosGRJul26th2016.TabOne',\n",
       " '/logs/TrilinosGRNov9th2016.TabOne',\n",
       " '/logs/TrilinosGRNov22nd2016.TabOne',\n",
       " '/logs/TrilinosGRFeb20th2017.TabOne',\n",
       " '/logs/TrilinosGRJul19th2017.TabOne',\n",
       " '/logs/TrilinosGRSep28th2017.TabOne',\n",
       " '/logs/TrilinosGRSep13th2018.TabOne',\n",
       " '/logs/TrilinosGRFeb27th2019.TabOne',\n",
       " '/logs/TrilinosGROct23rd2019.TabOne',\n",
       " '/logs/TrilinosGRNov11th2019.TabOne',\n",
       " '/logs/TrilinosGRMay5th2020.TabOne',\n",
       " '/logs/TrilinosGR1300.TabOne',\n",
       " '/logs/TrilinosGR1301.TabOne',\n",
       " '/logs/TrilinosGR1320.TabOne',\n",
       " '/logs/TrilinosGR.TabOne']"
      ]
     },
     "execution_count": 25,
     "metadata": {},
     "output_type": "execute_result"
    }
   ],
   "source": [
    "sorted_callgraph_keys        = sort_graphs(callgraphs.keys())\n",
    "sorted_callgraph_keys"
   ]
  },
  {
   "cell_type": "code",
   "execution_count": 26,
   "id": "7f91cc38",
   "metadata": {},
   "outputs": [],
   "source": [
    "sorted_callgraphMetrics_keys = sort_graphs(callgraphMetrics.keys())"
   ]
  },
  {
   "cell_type": "markdown",
   "id": "8f0d0ddf",
   "metadata": {},
   "source": [
    "why read using networkx and then convert to networkit thereby adding extra conversion-time, you ask? Because apparently networkit has no easy way of reading directed graphs. "
   ]
  },
  {
   "cell_type": "code",
   "execution_count": 27,
   "id": "1b0b6679",
   "metadata": {},
   "outputs": [
    {
     "data": {
      "text/plain": [
       "['/logs/TrilinosGR.TabOne',\n",
       " '/logs/TrilinosGR1300.TabOne',\n",
       " '/logs/TrilinosGR1301.TabOne',\n",
       " '/logs/TrilinosGR1320.TabOne',\n",
       " '/logs/TrilinosGRApr16th2015.TabOne']"
      ]
     },
     "execution_count": 27,
     "metadata": {},
     "output_type": "execute_result"
    }
   ],
   "source": [
    "list(callgraphs.keys())[:5]"
   ]
  },
  {
   "cell_type": "code",
   "execution_count": 28,
   "id": "4199d9f3",
   "metadata": {},
   "outputs": [
    {
     "name": "stdout",
     "output_type": "stream",
     "text": [
      "Network Properties:\n",
      "nodes, edges\t\t\t21020, 101875\n",
      "directed?\t\t\tTrue\n",
      "weighted?\t\t\tFalse\n",
      "isolated nodes\t\t\t2983\n",
      "self-loops\t\t\t258\n",
      "density\t\t\t\t0.000230\n",
      "min/max/avg degree\t\t0, 294, 4.846575\n",
      "degree assortativity\t\t0.058990\n",
      "number of connected components\t20979\n",
      "size of largest component\t7 (0.03 %)\n"
     ]
    }
   ],
   "source": [
    "nk.overview(list(callgraphs.values())[0])"
   ]
  },
  {
   "cell_type": "code",
   "execution_count": 29,
   "id": "7ba6a6bd",
   "metadata": {},
   "outputs": [
    {
     "data": {
      "text/plain": [
       "41"
      ]
     },
     "execution_count": 29,
     "metadata": {},
     "output_type": "execute_result"
    }
   ],
   "source": [
    "len(callgraphs.values())"
   ]
  },
  {
   "cell_type": "code",
   "execution_count": 30,
   "id": "eca80d82",
   "metadata": {},
   "outputs": [
    {
     "data": {
      "text/html": [
       "<div>\n",
       "<style scoped>\n",
       "    .dataframe tbody tr th:only-of-type {\n",
       "        vertical-align: middle;\n",
       "    }\n",
       "\n",
       "    .dataframe tbody tr th {\n",
       "        vertical-align: top;\n",
       "    }\n",
       "\n",
       "    .dataframe thead th {\n",
       "        text-align: right;\n",
       "    }\n",
       "</style>\n",
       "<table border=\"1\" class=\"dataframe\">\n",
       "  <thead>\n",
       "    <tr style=\"text-align: right;\">\n",
       "      <th></th>\n",
       "      <th>Unnamed: 0</th>\n",
       "      <th>Name</th>\n",
       "      <th>FanIn</th>\n",
       "      <th>FanOut</th>\n",
       "      <th>IsIsolated</th>\n",
       "      <th>AvgShortestPath</th>\n",
       "      <th>Closeness</th>\n",
       "      <th>Betweenness</th>\n",
       "      <th>Eccentricity_R</th>\n",
       "      <th>Eccentricity_N</th>\n",
       "    </tr>\n",
       "  </thead>\n",
       "  <tbody>\n",
       "    <tr>\n",
       "      <th>0</th>\n",
       "      <td>0</td>\n",
       "      <td>_ZNK6shards11ArrayDimTag9to_stringB5cxx11Eii</td>\n",
       "      <td>0</td>\n",
       "      <td>9</td>\n",
       "      <td>False</td>\n",
       "      <td>1975.4</td>\n",
       "      <td>0.000506</td>\n",
       "      <td>0.0</td>\n",
       "      <td>2</td>\n",
       "      <td>15</td>\n",
       "    </tr>\n",
       "    <tr>\n",
       "      <th>1</th>\n",
       "      <td>1</td>\n",
       "      <td>_ZN6shards12array_traits11check_rangeEii</td>\n",
       "      <td>2</td>\n",
       "      <td>10</td>\n",
       "      <td>False</td>\n",
       "      <td>2116.5</td>\n",
       "      <td>0.000472</td>\n",
       "      <td>16.0</td>\n",
       "      <td>1</td>\n",
       "      <td>9</td>\n",
       "    </tr>\n",
       "    <tr>\n",
       "      <th>2</th>\n",
       "      <td>2</td>\n",
       "      <td>_ZNSt7__cxx1119basic_ostringstreamIcSt11char_t...</td>\n",
       "      <td>1138</td>\n",
       "      <td>0</td>\n",
       "      <td>False</td>\n",
       "      <td>inf</td>\n",
       "      <td>0.000000</td>\n",
       "      <td>0.0</td>\n",
       "      <td>0</td>\n",
       "      <td>2</td>\n",
       "    </tr>\n",
       "    <tr>\n",
       "      <th>3</th>\n",
       "      <td>3</td>\n",
       "      <td>_ZNSolsEi</td>\n",
       "      <td>1014</td>\n",
       "      <td>0</td>\n",
       "      <td>False</td>\n",
       "      <td>inf</td>\n",
       "      <td>0.000000</td>\n",
       "      <td>0.0</td>\n",
       "      <td>0</td>\n",
       "      <td>3</td>\n",
       "    </tr>\n",
       "    <tr>\n",
       "      <th>4</th>\n",
       "      <td>4</td>\n",
       "      <td>_ZNSt7__cxx1112basic_stringIcSt11char_traitsIc...</td>\n",
       "      <td>608</td>\n",
       "      <td>0</td>\n",
       "      <td>False</td>\n",
       "      <td>inf</td>\n",
       "      <td>0.000000</td>\n",
       "      <td>0.0</td>\n",
       "      <td>0</td>\n",
       "      <td>4</td>\n",
       "    </tr>\n",
       "  </tbody>\n",
       "</table>\n",
       "</div>"
      ],
      "text/plain": [
       "   Unnamed: 0                                               Name  FanIn  \\\n",
       "0           0       _ZNK6shards11ArrayDimTag9to_stringB5cxx11Eii      0   \n",
       "1           1           _ZN6shards12array_traits11check_rangeEii      2   \n",
       "2           2  _ZNSt7__cxx1119basic_ostringstreamIcSt11char_t...   1138   \n",
       "3           3                                          _ZNSolsEi   1014   \n",
       "4           4  _ZNSt7__cxx1112basic_stringIcSt11char_traitsIc...    608   \n",
       "\n",
       "   FanOut  IsIsolated  AvgShortestPath  Closeness  Betweenness  \\\n",
       "0       9       False           1975.4   0.000506          0.0   \n",
       "1      10       False           2116.5   0.000472         16.0   \n",
       "2       0       False              inf   0.000000          0.0   \n",
       "3       0       False              inf   0.000000          0.0   \n",
       "4       0       False              inf   0.000000          0.0   \n",
       "\n",
       "   Eccentricity_R  Eccentricity_N  \n",
       "0               2              15  \n",
       "1               1               9  \n",
       "2               0               2  \n",
       "3               0               3  \n",
       "4               0               4  "
      ]
     },
     "execution_count": 30,
     "metadata": {},
     "output_type": "execute_result"
    }
   ],
   "source": [
    "list(callgraphMetrics.values())[0].head()"
   ]
  },
  {
   "cell_type": "markdown",
   "id": "6b2ca00e",
   "metadata": {},
   "source": [
    "Note that for every CG and GR file, there exists a corresponding NM file. Thus, even though the C++ identifiers are kept mangled, one can easily \n",
    "unmangle them by piping the contents of the file through c++filt. "
   ]
  },
  {
   "cell_type": "markdown",
   "id": "b61e644f",
   "metadata": {},
   "source": [
    "Moreover, if the average shortest path of a given node is infinite, this should mean that  \n",
    "there exists at least one node in the network that the node in question is not connected to. If, in addition, the node's fan-out is zero, then all paths end at the node, and thus is betweenness is zero. For our problem domain, nodes are functions and for a function to be such an end-point, the function would have to be a built-in function.  We drop such built-in functions."
   ]
  },
  {
   "cell_type": "code",
   "execution_count": 31,
   "id": "eed8b7ff",
   "metadata": {},
   "outputs": [],
   "source": [
    "sample_pd = callgraphMetrics['/logs/TrilinosCG1301.csv'][['FanIn', 'FanOut', 'AvgShortestPath', 'Betweenness', 'Eccentricity_R']]"
   ]
  },
  {
   "cell_type": "code",
   "execution_count": 32,
   "id": "7a7ffd1c",
   "metadata": {},
   "outputs": [],
   "source": [
    "sample_gr = callgraphs['/logs/TrilinosGR1301.TabOne']"
   ]
  },
  {
   "cell_type": "code",
   "execution_count": 33,
   "id": "cff2ab83",
   "metadata": {},
   "outputs": [],
   "source": [
    "import math "
   ]
  },
  {
   "cell_type": "code",
   "execution_count": 34,
   "id": "4424e072",
   "metadata": {},
   "outputs": [
    {
     "name": "stdout",
     "output_type": "stream",
     "text": [
      "True\n",
      "0\n",
      "[]\n"
     ]
    }
   ],
   "source": [
    "ans   = True \n",
    "count = 0\n",
    "counterex = []\n",
    "for i in sample_pd.index: \n",
    "    if sample_pd.AvgShortestPath[i] == math.inf: \n",
    "        if sample_pd.FanOut[i] == 0: \n",
    "            if sample_pd.Betweenness[i] != 0:\n",
    "                ans = False \n",
    "                count += 1 \n",
    "                counterex.append((i, sample_pd.FanOut[i]))\n",
    "print(ans) \n",
    "print(count)\n",
    "print(counterex)"
   ]
  },
  {
   "cell_type": "markdown",
   "id": "de272cce",
   "metadata": {},
   "source": [
    "Our condition holds, and we proceed to drop"
   ]
  },
  {
   "cell_type": "code",
   "execution_count": 35,
   "id": "8cfb17c1",
   "metadata": {},
   "outputs": [],
   "source": [
    "sample_pd = sample_pd.drop(\n",
    "              sample_pd[\n",
    "                  (sample_pd.AvgShortestPath == math.inf) & \n",
    "                  (sample_pd.FanOut == 0) \n",
    "              ].index \n",
    "            )"
   ]
  },
  {
   "cell_type": "code",
   "execution_count": 36,
   "id": "2042158b",
   "metadata": {},
   "outputs": [],
   "source": [
    "sample_pd = sample_pd.drop(sample_pd[sample_pd.AvgShortestPath == math.inf].index)"
   ]
  },
  {
   "cell_type": "markdown",
   "id": "c2b403be",
   "metadata": {},
   "source": [
    "### Fan-In & Fan-Out"
   ]
  },
  {
   "cell_type": "markdown",
   "id": "5469d423",
   "metadata": {},
   "source": [
    "#### single version"
   ]
  },
  {
   "cell_type": "code",
   "execution_count": 37,
   "id": "e7ce372e",
   "metadata": {},
   "outputs": [],
   "source": [
    "sample_pd_fanin  = sample_pd.FanIn.value_counts().rename_axis('unique_fanins').reset_index(name='counts')\n",
    "sample_pd_fanout = sample_pd.FanOut.value_counts().rename_axis('unique_fanouts').reset_index(name='counts')"
   ]
  },
  {
   "cell_type": "code",
   "execution_count": 38,
   "id": "46595962",
   "metadata": {},
   "outputs": [],
   "source": [
    "sample_pd_fanin['probs'] = sample_pd_fanin['counts'] / sample_pd_fanin['counts'].sum()\n",
    "sample_pd_fanout['probs'] = sample_pd_fanout['counts'] / sample_pd_fanout['counts'].sum()"
   ]
  },
  {
   "cell_type": "code",
   "execution_count": 39,
   "id": "65f2b26a",
   "metadata": {},
   "outputs": [
    {
     "data": {
      "text/html": [
       "<div>\n",
       "<style scoped>\n",
       "    .dataframe tbody tr th:only-of-type {\n",
       "        vertical-align: middle;\n",
       "    }\n",
       "\n",
       "    .dataframe tbody tr th {\n",
       "        vertical-align: top;\n",
       "    }\n",
       "\n",
       "    .dataframe thead th {\n",
       "        text-align: right;\n",
       "    }\n",
       "</style>\n",
       "<table border=\"1\" class=\"dataframe\">\n",
       "  <thead>\n",
       "    <tr style=\"text-align: right;\">\n",
       "      <th></th>\n",
       "      <th>unique_fanins</th>\n",
       "      <th>counts</th>\n",
       "      <th>probs</th>\n",
       "    </tr>\n",
       "  </thead>\n",
       "  <tbody>\n",
       "    <tr>\n",
       "      <th>0</th>\n",
       "      <td>1</td>\n",
       "      <td>7813</td>\n",
       "      <td>0.437360</td>\n",
       "    </tr>\n",
       "    <tr>\n",
       "      <th>1</th>\n",
       "      <td>0</td>\n",
       "      <td>6403</td>\n",
       "      <td>0.358430</td>\n",
       "    </tr>\n",
       "    <tr>\n",
       "      <th>2</th>\n",
       "      <td>2</td>\n",
       "      <td>1929</td>\n",
       "      <td>0.107983</td>\n",
       "    </tr>\n",
       "    <tr>\n",
       "      <th>3</th>\n",
       "      <td>3</td>\n",
       "      <td>488</td>\n",
       "      <td>0.027318</td>\n",
       "    </tr>\n",
       "    <tr>\n",
       "      <th>4</th>\n",
       "      <td>4</td>\n",
       "      <td>305</td>\n",
       "      <td>0.017073</td>\n",
       "    </tr>\n",
       "  </tbody>\n",
       "</table>\n",
       "</div>"
      ],
      "text/plain": [
       "   unique_fanins  counts     probs\n",
       "0              1    7813  0.437360\n",
       "1              0    6403  0.358430\n",
       "2              2    1929  0.107983\n",
       "3              3     488  0.027318\n",
       "4              4     305  0.017073"
      ]
     },
     "execution_count": 39,
     "metadata": {},
     "output_type": "execute_result"
    }
   ],
   "source": [
    "sample_pd_fanin.head()"
   ]
  },
  {
   "cell_type": "code",
   "execution_count": 40,
   "id": "421b9b5f",
   "metadata": {},
   "outputs": [
    {
     "data": {
      "image/png": "[encoded data removed]",
      "text/plain": [
       "<Figure size 1152x576 with 1 Axes>"
      ]
     },
     "metadata": {
      "needs_background": "light"
     },
     "output_type": "display_data"
    }
   ],
   "source": [
    "fig = plt.figure(figsize=(16, 8)) \n",
    "ax = plt.gca()\n",
    "ax.scatter(sample_pd_fanin.unique_fanins, sample_pd_fanin.probs, color='r')\n",
    "# ax.plot(np.unique(sample_pd_fanin.unique_fanins), \n",
    "#                 np.poly1d(np.polyfit(sample_pd_fanin.unique_fanins, \n",
    "#                                      sample_pd_fanin.probs, 1))\n",
    "#         (np.unique(sample_pd_fanin.unique_fanins)))\n",
    "ax.set_yscale('log') \n",
    "ax.set_xscale('log')\n",
    "ax.set_title('FanIn Power Law for Trilinos')\n",
    "ax.set_xlabel('FanIn') \n",
    "ax.set_ylabel('P(FanIn)')\n",
    "fig.savefig('Trilinos1301FanInPowerLaw.png')"
   ]
  },
  {
   "cell_type": "code",
   "execution_count": 41,
   "id": "185e4ab1",
   "metadata": {},
   "outputs": [
    {
     "data": {
      "image/png": "[encoded data removed]",
      "text/plain": [
       "<Figure size 1152x576 with 1 Axes>"
      ]
     },
     "metadata": {
      "needs_background": "light"
     },
     "output_type": "display_data"
    }
   ],
   "source": [
    "fig = plt.figure(figsize=(16, 8)) \n",
    "ax = plt.gca()\n",
    "ax.scatter(sample_pd_fanout.unique_fanouts, sample_pd_fanout.probs, color='r')\n",
    "# ax.plot(np.unique(np.log(sample_pd_fanout.unique_fanouts)), np.poly1d(np.polyfit(np.log(sample_pd_fanout.unique_fanouts), np.log(sample_pd_fanout.probs), 1))(np.unique(np.log(sample_pd_fanout.unique_fanouts))), ':')\n",
    "ax.set_yscale('log') \n",
    "ax.set_xscale('log')\n",
    "ax.set_title('FanOut Power Law for Trilinos')\n",
    "ax.set_xlabel('FanOut') \n",
    "ax.set_ylabel('P(FanOut)')\n",
    "plt.savefig('Trilinos1301FanOutPowerLaw.png')"
   ]
  },
  {
   "cell_type": "markdown",
   "id": "58092243",
   "metadata": {},
   "source": [
    "Since the probabilities P(FanIn) and P(FanOut) seem to be in a linear relationship with negative slope to FanIn and FanOut values respectively, it follows that Trilinos' overall callgraph (for this version) seems to be small-world network."
   ]
  },
  {
   "cell_type": "markdown",
   "id": "7fff14b0",
   "metadata": {},
   "source": [
    "# General Callgraphs: Small-World Exploration"
   ]
  },
  {
   "cell_type": "markdown",
   "id": "9f3e6b77",
   "metadata": {},
   "source": [
    "A *Small-World Network* is a simple connected graph G exhibiting two properties:\n",
    "     - **Large Clustering Coefficient**: Each vertex of G is linked to a relatively well-connected set of neighboring vertices, resulting in a large value for the clustering coefficient C(G). \n",
    "     - **Small Characteristic Path Length** The presence of short-cut connections between some vertices results in a small characteristic path length L(G)."
   ]
  },
  {
   "cell_type": "code",
   "execution_count": 42,
   "id": "e64045cb",
   "metadata": {},
   "outputs": [
    {
     "data": {
      "text/plain": [
       "89320"
      ]
     },
     "execution_count": 42,
     "metadata": {},
     "output_type": "execute_result"
    }
   ],
   "source": [
    "sample_pd.size "
   ]
  },
  {
   "cell_type": "code",
   "execution_count": 43,
   "id": "13a84f41",
   "metadata": {},
   "outputs": [
    {
     "data": {
      "text/plain": [
       "1024.9407797386668"
      ]
     },
     "execution_count": 43,
     "metadata": {},
     "output_type": "execute_result"
    }
   ],
   "source": [
    "sample_pd.AvgShortestPath.sum() / sample_pd.size  "
   ]
  },
  {
   "cell_type": "code",
   "execution_count": 44,
   "id": "04de3138",
   "metadata": {},
   "outputs": [],
   "source": [
    "ed = nk.distance.EffectiveDiameter(nk.graphtools.toUndirected(sample_gr))\n",
    "ed.run()\n",
    "diameter = ed.getEffectiveDiameter()"
   ]
  },
  {
   "cell_type": "markdown",
   "id": "f247e578",
   "metadata": {},
   "source": [
    "**N.B: It is weird that average shortest path should be so large when the effective diameter of the graph is so small. Doesn't it follow that the diameter of a graph is always greater than or equal to its average shortest path? This makes me think that average shortest path calculation (which is currently being calculated as the reciprocal of the closeness centrality metric) is most likely wrong!!!**"
   ]
  },
  {
   "cell_type": "markdown",
   "id": "4d434d46",
   "metadata": {},
   "source": [
    "It turns out that what we calculate as the average shortest path for every node using avg(i) = 1 / closeness(i) is in fact **not the average shortest path, but *farness***. However, a close relationship between these values and the degree distribution of nodes has also been found. this value, 1 / c is in a linear logarithmic relationship with deg(i)."
   ]
  },
  {
   "cell_type": "code",
   "execution_count": 45,
   "id": "a90e3d79",
   "metadata": {},
   "outputs": [
    {
     "data": {
      "text/plain": [
       "Index(['FanIn', 'FanOut', 'AvgShortestPath', 'Betweenness', 'Eccentricity_R'], dtype='object')"
      ]
     },
     "execution_count": 45,
     "metadata": {},
     "output_type": "execute_result"
    }
   ],
   "source": [
    "sample_pd.columns"
   ]
  },
  {
   "cell_type": "code",
   "execution_count": 46,
   "id": "f99912ff",
   "metadata": {},
   "outputs": [
    {
     "data": {
      "text/plain": [
       "3.248320644872369"
      ]
     },
     "execution_count": 46,
     "metadata": {},
     "output_type": "execute_result"
    }
   ],
   "source": [
    "sample_pd.Eccentricity_R.mean()"
   ]
  },
  {
   "cell_type": "code",
   "execution_count": 47,
   "id": "58dfdf91",
   "metadata": {},
   "outputs": [
    {
     "data": {
      "text/plain": [
       "unique_fanins    5386.00000\n",
       "counts           7813.00000\n",
       "probs               0.43736\n",
       "dtype: float64"
      ]
     },
     "execution_count": 47,
     "metadata": {},
     "output_type": "execute_result"
    }
   ],
   "source": [
    "sample_pd_fanin.max()"
   ]
  },
  {
   "cell_type": "code",
   "execution_count": 48,
   "id": "e55bf665",
   "metadata": {},
   "outputs": [
    {
     "data": {
      "text/plain": [
       "8.605936401250625"
      ]
     },
     "execution_count": 48,
     "metadata": {},
     "output_type": "execute_result"
    }
   ],
   "source": [
    "np.log(5464)"
   ]
  },
  {
   "cell_type": "markdown",
   "id": "581927f5",
   "metadata": {},
   "source": [
    "If the eccentricity of a given node represents its maximum shortest path from the node to any other node in the network, then the average eccentricity in a network should always be greater than its all-pairs average shortest path. Consequently, if the average eccentricity of a network is relatively small, then its average shortest path is relatively small also, and the second property of small-world networks can be verified by confirming that this average eccentricity stays small as the network evolves: "
   ]
  },
  {
   "cell_type": "code",
   "execution_count": 49,
   "id": "995b1cae",
   "metadata": {},
   "outputs": [],
   "source": [
    "avg_eccentricities = {}\n",
    "for f, f_pd in callgraphMetrics.items(): \n",
    "    f_pd = f_pd.drop(\n",
    "              f_pd[\n",
    "                  (f_pd.AvgShortestPath == math.inf) & \n",
    "                  (f_pd.FanOut == 0) \n",
    "              ].index \n",
    "            )\n",
    "    avg_eccentricities[f] = f_pd.Eccentricity_R.mean() "
   ]
  },
  {
   "cell_type": "code",
   "execution_count": 50,
   "id": "ebfbe5d3",
   "metadata": {},
   "outputs": [],
   "source": [
    "sorted_eccentricities = [0] * len(sorted_callgraphMetrics_keys) \n",
    "for i, f in enumerate(sorted_callgraphMetrics_keys): \n",
    "    sorted_eccentricities[i] = avg_eccentricities[f]"
   ]
  },
  {
   "cell_type": "code",
   "execution_count": 51,
   "id": "d781299b",
   "metadata": {},
   "outputs": [
    {
     "data": {
      "image/png": "[encoded data removed]",
      "text/plain": [
       "<Figure size 1008x576 with 1 Axes>"
      ]
     },
     "metadata": {
      "needs_background": "light"
     },
     "output_type": "display_data"
    }
   ],
   "source": [
    "fig, ax1 = plt.subplots(figsize=(14,8), nrows=1, ncols=1)\n",
    "ax1.plot(sorted_eccentricities)\n",
    "ax1.set_xlabel('version number')\n",
    "ax1.set_ylabel('Average Eccentricity') \n",
    "ax1.set_title('Trend of Average Eccentricities in Trilinos')\n",
    "plt.savefig('TrilinosAverageEccentricityTrend.png')"
   ]
  },
  {
   "cell_type": "markdown",
   "id": "138f6042",
   "metadata": {},
   "source": [
    "What caused the drop from 5 to 6, and waht is going on where the average eccentricity is constant "
   ]
  },
  {
   "cell_type": "code",
   "execution_count": 52,
   "id": "f96ebc6d",
   "metadata": {},
   "outputs": [
    {
     "data": {
      "text/plain": [
       "['/logs/TrilinosCGMay16th2014.csv',\n",
       " '/logs/TrilinosCGJul15th2014.csv',\n",
       " '/logs/TrilinosCGAug5th2014.csv',\n",
       " '/logs/TrilinosCGOct8th2014.csv',\n",
       " '/logs/TrilinosCGOct23rd2014.csv',\n",
       " '/logs/TrilinosCGJan22nd2015.csv',\n",
       " '/logs/TrilinosCGMar6th2015.csv']"
      ]
     },
     "execution_count": 52,
     "metadata": {},
     "output_type": "execute_result"
    }
   ],
   "source": [
    "sorted_callgraphMetrics_keys[5:12]"
   ]
  },
  {
   "cell_type": "code",
   "execution_count": 53,
   "id": "7e38eaf1",
   "metadata": {},
   "outputs": [
    {
     "data": {
      "text/plain": [
       "2.8311943655225895"
      ]
     },
     "execution_count": 53,
     "metadata": {},
     "output_type": "execute_result"
    }
   ],
   "source": [
    "sum(avg_eccentricities.values()) / len(avg_eccentricities.values())"
   ]
  },
  {
   "cell_type": "code",
   "execution_count": 54,
   "id": "a246daca",
   "metadata": {},
   "outputs": [],
   "source": [
    "gr_sizes = {} \n",
    "for f, f_gr in callgraphs.items(): \n",
    "    num_nodes = f_gr.numberOfNodes() \n",
    "    gr_sizes[f] = num_nodes "
   ]
  },
  {
   "cell_type": "code",
   "execution_count": 55,
   "id": "8a0e1132",
   "metadata": {},
   "outputs": [],
   "source": [
    "sorted_gr_sizes = [0] * len(sorted_callgraphMetrics_keys) \n",
    "for i, f in enumerate(sorted_callgraph_keys): \n",
    "    sorted_gr_sizes[i] = gr_sizes[f]"
   ]
  },
  {
   "cell_type": "code",
   "execution_count": 56,
   "id": "9e909898",
   "metadata": {},
   "outputs": [
    {
     "data": {
      "image/png": "[encoded data removed]",
      "text/plain": [
       "<Figure size 1008x576 with 1 Axes>"
      ]
     },
     "metadata": {
      "needs_background": "light"
     },
     "output_type": "display_data"
    }
   ],
   "source": [
    "fig, ax1 = plt.subplots(figsize=(14,8), nrows=1, ncols=1)\n",
    "ax1.plot(sorted_gr_sizes)\n",
    "ax1.set_xlabel('Version number')\n",
    "ax1.set_ylabel('Total Nodes') \n",
    "ax1.set_title('Trend of Total Number of Nodes in Trilinos')\n",
    "plt.savefig('TrilinosTotalNodesTrend.png')"
   ]
  },
  {
   "cell_type": "code",
   "execution_count": 57,
   "id": "00e72d7d",
   "metadata": {},
   "outputs": [],
   "source": [
    "gr_sizes_edges = {} \n",
    "for f, f_gr in callgraphs.items(): \n",
    "    num_edges = f_gr.numberOfEdges() \n",
    "    gr_sizes_edges[f] = num_edges "
   ]
  },
  {
   "cell_type": "code",
   "execution_count": 58,
   "id": "983c9063",
   "metadata": {},
   "outputs": [
    {
     "data": {
      "text/plain": [
       "{'/logs/TrilinosGR.TabOne': 101875,\n",
       " '/logs/TrilinosGR1300.TabOne': 105469,\n",
       " '/logs/TrilinosGR1301.TabOne': 105469,\n",
       " '/logs/TrilinosGR1320.TabOne': 101746,\n",
       " '/logs/TrilinosGRApr16th2015.TabOne': 74304,\n",
       " '/logs/TrilinosGRApr21st2015.TabOne': 43773,\n",
       " '/logs/TrilinosGRApr21st2016.TabOne': 70697,\n",
       " '/logs/TrilinosGRApr28th2016.TabOne': 70697,\n",
       " '/logs/TrilinosGRApr29th2014.TabOne': 6650,\n",
       " '/logs/TrilinosGRAug5th2014.TabOne': 32838,\n",
       " '/logs/TrilinosGRAug6th2015.TabOne': 100396,\n",
       " '/logs/TrilinosGRFeb20th2017.TabOne': 66740,\n",
       " '/logs/TrilinosGRFeb27th2019.TabOne': 74897,\n",
       " '/logs/TrilinosGRFeb9th2016.TabOne': 70694,\n",
       " '/logs/TrilinosGRJan12th2016.TabOne': 70977,\n",
       " '/logs/TrilinosGRJan14th2014.TabOne': 6659,\n",
       " '/logs/TrilinosGRJan22nd2015.TabOne': 43773,\n",
       " '/logs/TrilinosGRJan28th2016.TabOne': 106030,\n",
       " '/logs/TrilinosGRJan29th2014.TabOne': 6661,\n",
       " '/logs/TrilinosGRJul11th2013.TabOne': 6618,\n",
       " '/logs/TrilinosGRJul12th2016.TabOne': 70697,\n",
       " '/logs/TrilinosGRJul14th2015.TabOne': 100396,\n",
       " '/logs/TrilinosGRJul15th2014.TabOne': 32838,\n",
       " '/logs/TrilinosGRJul19th2017.TabOne': 60526,\n",
       " '/logs/TrilinosGRJul26th2016.TabOne': 70694,\n",
       " '/logs/TrilinosGRMar6th2015.TabOne': 43773,\n",
       " '/logs/TrilinosGRMay16th2014.TabOne': 6661,\n",
       " '/logs/TrilinosGRMay5th2020.TabOne': 100242,\n",
       " '/logs/TrilinosGRMay7th2015.TabOne': 74312,\n",
       " '/logs/TrilinosGRNov11th2019.TabOne': 77681,\n",
       " '/logs/TrilinosGRNov12th2015.TabOne': 107321,\n",
       " '/logs/TrilinosGRNov22nd2016.TabOne': 65501,\n",
       " '/logs/TrilinosGRNov3rd2015.TabOne': 107321,\n",
       " '/logs/TrilinosGRNov9th2016.TabOne': 65501,\n",
       " '/logs/TrilinosGROct23rd2013.TabOne': 6617,\n",
       " '/logs/TrilinosGROct23rd2014.TabOne': 32940,\n",
       " '/logs/TrilinosGROct23rd2019.TabOne': 77677,\n",
       " '/logs/TrilinosGROct6th2015.TabOne': 107321,\n",
       " '/logs/TrilinosGROct8th2014.TabOne': 32940,\n",
       " '/logs/TrilinosGRSep13th2018.TabOne': 74897,\n",
       " '/logs/TrilinosGRSep28th2017.TabOne': 60526}"
      ]
     },
     "execution_count": 58,
     "metadata": {},
     "output_type": "execute_result"
    }
   ],
   "source": [
    "gr_sizes_edges"
   ]
  },
  {
   "cell_type": "code",
   "execution_count": 59,
   "id": "f2f7331a",
   "metadata": {},
   "outputs": [],
   "source": [
    "sorted_gr_sizes_edges = [0] * len(sorted_callgraphMetrics_keys) \n",
    "sorted_gr_possible_edges = [N * (N - 1) for N in sorted_gr_sizes]\n",
    "for i, f in enumerate(sorted_callgraph_keys): \n",
    "    sorted_gr_sizes_edges[i] = gr_sizes_edges[f]"
   ]
  },
  {
   "cell_type": "code",
   "execution_count": 60,
   "id": "1cd5254c",
   "metadata": {},
   "outputs": [
    {
     "data": {
      "text/plain": [
       "[6618,\n",
       " 6617,\n",
       " 6659,\n",
       " 6661,\n",
       " 6650,\n",
       " 6661,\n",
       " 32838,\n",
       " 32838,\n",
       " 32940,\n",
       " 32940,\n",
       " 43773,\n",
       " 43773,\n",
       " 74304,\n",
       " 43773,\n",
       " 74312,\n",
       " 100396,\n",
       " 100396,\n",
       " 107321,\n",
       " 107321,\n",
       " 107321,\n",
       " 70977,\n",
       " 106030,\n",
       " 70694,\n",
       " 70697,\n",
       " 70697,\n",
       " 70697,\n",
       " 70694,\n",
       " 65501,\n",
       " 65501,\n",
       " 66740,\n",
       " 60526,\n",
       " 60526,\n",
       " 74897,\n",
       " 74897,\n",
       " 77677,\n",
       " 77681,\n",
       " 100242,\n",
       " 105469,\n",
       " 105469,\n",
       " 101746,\n",
       " 101875]"
      ]
     },
     "execution_count": 60,
     "metadata": {},
     "output_type": "execute_result"
    }
   ],
   "source": [
    "sorted_gr_sizes_edges"
   ]
  },
  {
   "cell_type": "code",
   "execution_count": 61,
   "id": "dcf6a0cf",
   "metadata": {},
   "outputs": [
    {
     "data": {
      "image/png": "[encoded data removed]",
      "text/plain": [
       "<Figure size 1008x576 with 1 Axes>"
      ]
     },
     "metadata": {
      "needs_background": "light"
     },
     "output_type": "display_data"
    }
   ],
   "source": [
    "fig, ax1 = plt.subplots(figsize=(14,8), nrows=1, ncols=1)\n",
    "ax1.plot(sorted_gr_sizes_edges)\n",
    "# ax1.plot(sorted_gr_possible_edges, color='red')\n",
    "ax1.set_xlabel('Version number')\n",
    "ax1.set_ylabel('Total Edges') \n",
    "ax1.set_title('Trend of Total Number of Edges in Trilinos')\n",
    "plt.savefig('TrilinosTotalEdgesTrend.png')"
   ]
  },
  {
   "cell_type": "code",
   "execution_count": 62,
   "id": "d6f505c8",
   "metadata": {},
   "outputs": [
    {
     "data": {
      "text/plain": [
       "13377.756097560976"
      ]
     },
     "execution_count": 62,
     "metadata": {},
     "output_type": "execute_result"
    }
   ],
   "source": [
    "sum(gr_sizes.values()) / len(gr_sizes.values())"
   ]
  },
  {
   "cell_type": "markdown",
   "id": "bda700b3",
   "metadata": {},
   "source": [
    "Clearly these eccentricities, staying between 2.5 and 3.3, are relatively small compared to the number of edges in each network (between 10k and 110k). Thus, we can conclude that, on average, it takes a maximum of around 3 hops for any function in the callgraph (of around 64472 nodes on average) to call any other function in the Trilinos---a characteristic which might have implications relating to propagation of bugs in the software, for example."
   ]
  },
  {
   "cell_type": "code",
   "execution_count": 63,
   "id": "636d2497",
   "metadata": {},
   "outputs": [
    {
     "data": {
      "text/plain": [
       "0.07747763397898029"
      ]
     },
     "execution_count": 63,
     "metadata": {},
     "output_type": "execute_result"
    }
   ],
   "source": [
    "nk.globals.clustering(sample_gr)"
   ]
  },
  {
   "cell_type": "code",
   "execution_count": 64,
   "id": "d9dcbaa5",
   "metadata": {},
   "outputs": [
    {
     "data": {
      "text/plain": [
       "0.0973418384208563"
      ]
     },
     "execution_count": 64,
     "metadata": {},
     "output_type": "execute_result"
    }
   ],
   "source": [
    "sample_gr_nx = nk.nxadapter.nk2nx(sample_gr)\n",
    "nx.average_clustering(sample_gr_nx)"
   ]
  },
  {
   "cell_type": "markdown",
   "id": "e0f6c649",
   "metadata": {},
   "source": [
    "**Are 7% or 9% small values of the clustering coefficient?**"
   ]
  },
  {
   "cell_type": "markdown",
   "id": "086b346b",
   "metadata": {},
   "source": [
    "### WattsStrogatz Model Comparison"
   ]
  },
  {
   "cell_type": "code",
   "execution_count": 65,
   "id": "d3ec7530",
   "metadata": {},
   "outputs": [],
   "source": [
    "watts_strog_graphs = {} \n",
    "limit_watts = {}\n",
    "watts_theoretical_clusts = {}\n",
    "erdos_theoretical_clusts = {}\n",
    "for f, g in callgraphs.items(): \n",
    "    g_nodes = g.numberOfNodes() \n",
    "    g_edges = g.numberOfEdges() \n",
    "    metric_fname = f.replace('GR', 'CG')\n",
    "    metric_fname = metric_fname.replace('.TabOne', '.csv')\n",
    "    K            = (callgraphMetrics[metric_fname].FanIn.mean() + callgraphMetrics[metric_fname].FanOut.mean()) / 2\n",
    "    g_possible_edges      = g_nodes * K / 2\n",
    "    p                     = g_edges / g_possible_edges\n",
    "    limit_watts[f]        = 3 / (1+p**2)\n",
    "    watts_theoretical_clusts[f] = 3*K*(K-1) / (2*K*(2*K - 1) + 8*p*K**2 + 4*p**2*K**2)  \n",
    "    erdos_theoretical_clusts[f] = K / g_nodes \n",
    "    g_wattsStrog                = nk.generators.WattsStrogatzGenerator(g_nodes, K, p)\n",
    "    g_wattsStrogG               = g_wattsStrog.generate() \n",
    "    watts_strog_graphs[f]       = g_wattsStrogG "
   ]
  },
  {
   "cell_type": "code",
   "execution_count": 66,
   "id": "55bacaef",
   "metadata": {},
   "outputs": [],
   "source": [
    "real_clusters = {} \n",
    "for f, g in callgraphs.items(): \n",
    "    g_nx = nk.nxadapter.nk2nx(g)\n",
    "    C                = nx.average_clustering(g_nx) \n",
    "    real_clusters[f] = C \n",
    "    \n",
    "watts_clusters           = {} \n",
    "for k in real_clusters.keys():  \n",
    "    g_nx = nk.nxadapter.nk2nx(watts_strog_graphs[f])\n",
    "    watts_clusters[k] = nx.average_clustering(g_nx)"
   ]
  },
  {
   "cell_type": "code",
   "execution_count": 67,
   "id": "9fbf5942",
   "metadata": {},
   "outputs": [
    {
     "data": {
      "text/html": [
       "<div>\n",
       "<style scoped>\n",
       "    .dataframe tbody tr th:only-of-type {\n",
       "        vertical-align: middle;\n",
       "    }\n",
       "\n",
       "    .dataframe tbody tr th {\n",
       "        vertical-align: top;\n",
       "    }\n",
       "\n",
       "    .dataframe thead th {\n",
       "        text-align: right;\n",
       "    }\n",
       "</style>\n",
       "<table border=\"1\" class=\"dataframe\">\n",
       "  <thead>\n",
       "    <tr style=\"text-align: right;\">\n",
       "      <th></th>\n",
       "      <th>Coefficient</th>\n",
       "    </tr>\n",
       "  </thead>\n",
       "  <tbody>\n",
       "    <tr>\n",
       "      <th>/logs/TrilinosGR.TabOne</th>\n",
       "      <td>0.095970</td>\n",
       "    </tr>\n",
       "    <tr>\n",
       "      <th>/logs/TrilinosGR1300.TabOne</th>\n",
       "      <td>0.097342</td>\n",
       "    </tr>\n",
       "    <tr>\n",
       "      <th>/logs/TrilinosGR1301.TabOne</th>\n",
       "      <td>0.097342</td>\n",
       "    </tr>\n",
       "    <tr>\n",
       "      <th>/logs/TrilinosGR1320.TabOne</th>\n",
       "      <td>0.095919</td>\n",
       "    </tr>\n",
       "    <tr>\n",
       "      <th>/logs/TrilinosGRApr16th2015.TabOne</th>\n",
       "      <td>0.112047</td>\n",
       "    </tr>\n",
       "  </tbody>\n",
       "</table>\n",
       "</div>"
      ],
      "text/plain": [
       "                                    Coefficient\n",
       "/logs/TrilinosGR.TabOne                0.095970\n",
       "/logs/TrilinosGR1300.TabOne            0.097342\n",
       "/logs/TrilinosGR1301.TabOne            0.097342\n",
       "/logs/TrilinosGR1320.TabOne            0.095919\n",
       "/logs/TrilinosGRApr16th2015.TabOne     0.112047"
      ]
     },
     "execution_count": 67,
     "metadata": {},
     "output_type": "execute_result"
    }
   ],
   "source": [
    "pd_real_C            = pd.DataFrame.from_dict(real_clusters, columns=['Coefficient'], orient='index')\n",
    "pd_watts_C           = pd.DataFrame.from_dict(watts_clusters, columns=['WattsCoefficient'], orient='index')\n",
    "pd_limit_watts       = pd.DataFrame.from_dict(limit_watts, columns=['LimitInftyCoefficient'], orient='index')\n",
    "pd_watts_theoretical = pd.DataFrame.from_dict(watts_theoretical_clusts, columns=['Coefficient'], orient='index')\n",
    "pd_erdos_theoretical = pd.DataFrame.from_dict(erdos_theoretical_clusts, columns=['Coefficient'], orient='index')\n",
    "pd_real_C.head()"
   ]
  },
  {
   "cell_type": "code",
   "execution_count": 68,
   "id": "c9ff642a",
   "metadata": {},
   "outputs": [
    {
     "data": {
      "text/html": [
       "<div>\n",
       "<style scoped>\n",
       "    .dataframe tbody tr th:only-of-type {\n",
       "        vertical-align: middle;\n",
       "    }\n",
       "\n",
       "    .dataframe tbody tr th {\n",
       "        vertical-align: top;\n",
       "    }\n",
       "\n",
       "    .dataframe thead th {\n",
       "        text-align: right;\n",
       "    }\n",
       "</style>\n",
       "<table border=\"1\" class=\"dataframe\">\n",
       "  <thead>\n",
       "    <tr style=\"text-align: right;\">\n",
       "      <th></th>\n",
       "      <th>WattsCoefficient</th>\n",
       "    </tr>\n",
       "  </thead>\n",
       "  <tbody>\n",
       "    <tr>\n",
       "      <th>/logs/TrilinosGR.TabOne</th>\n",
       "      <td>0.000664</td>\n",
       "    </tr>\n",
       "    <tr>\n",
       "      <th>/logs/TrilinosGR1300.TabOne</th>\n",
       "      <td>0.000664</td>\n",
       "    </tr>\n",
       "    <tr>\n",
       "      <th>/logs/TrilinosGR1301.TabOne</th>\n",
       "      <td>0.000664</td>\n",
       "    </tr>\n",
       "    <tr>\n",
       "      <th>/logs/TrilinosGR1320.TabOne</th>\n",
       "      <td>0.000664</td>\n",
       "    </tr>\n",
       "    <tr>\n",
       "      <th>/logs/TrilinosGRApr16th2015.TabOne</th>\n",
       "      <td>0.000664</td>\n",
       "    </tr>\n",
       "  </tbody>\n",
       "</table>\n",
       "</div>"
      ],
      "text/plain": [
       "                                    WattsCoefficient\n",
       "/logs/TrilinosGR.TabOne                     0.000664\n",
       "/logs/TrilinosGR1300.TabOne                 0.000664\n",
       "/logs/TrilinosGR1301.TabOne                 0.000664\n",
       "/logs/TrilinosGR1320.TabOne                 0.000664\n",
       "/logs/TrilinosGRApr16th2015.TabOne          0.000664"
      ]
     },
     "execution_count": 68,
     "metadata": {},
     "output_type": "execute_result"
    }
   ],
   "source": [
    "pd_watts_C.head()"
   ]
  },
  {
   "cell_type": "code",
   "execution_count": 69,
   "id": "e9f04604",
   "metadata": {},
   "outputs": [
    {
     "data": {
      "text/html": [
       "<div>\n",
       "<style scoped>\n",
       "    .dataframe tbody tr th:only-of-type {\n",
       "        vertical-align: middle;\n",
       "    }\n",
       "\n",
       "    .dataframe tbody tr th {\n",
       "        vertical-align: top;\n",
       "    }\n",
       "\n",
       "    .dataframe thead th {\n",
       "        text-align: right;\n",
       "    }\n",
       "</style>\n",
       "<table border=\"1\" class=\"dataframe\">\n",
       "  <thead>\n",
       "    <tr style=\"text-align: right;\">\n",
       "      <th></th>\n",
       "      <th>LimitInftyCoefficient</th>\n",
       "    </tr>\n",
       "  </thead>\n",
       "  <tbody>\n",
       "    <tr>\n",
       "      <th>/logs/TrilinosGR.TabOne</th>\n",
       "      <td>0.594334</td>\n",
       "    </tr>\n",
       "    <tr>\n",
       "      <th>/logs/TrilinosGR1300.TabOne</th>\n",
       "      <td>0.594965</td>\n",
       "    </tr>\n",
       "    <tr>\n",
       "      <th>/logs/TrilinosGR1301.TabOne</th>\n",
       "      <td>0.594965</td>\n",
       "    </tr>\n",
       "    <tr>\n",
       "      <th>/logs/TrilinosGR1320.TabOne</th>\n",
       "      <td>0.593855</td>\n",
       "    </tr>\n",
       "    <tr>\n",
       "      <th>/logs/TrilinosGRApr16th2015.TabOne</th>\n",
       "      <td>0.596004</td>\n",
       "    </tr>\n",
       "  </tbody>\n",
       "</table>\n",
       "</div>"
      ],
      "text/plain": [
       "                                    LimitInftyCoefficient\n",
       "/logs/TrilinosGR.TabOne                          0.594334\n",
       "/logs/TrilinosGR1300.TabOne                      0.594965\n",
       "/logs/TrilinosGR1301.TabOne                      0.594965\n",
       "/logs/TrilinosGR1320.TabOne                      0.593855\n",
       "/logs/TrilinosGRApr16th2015.TabOne               0.596004"
      ]
     },
     "execution_count": 69,
     "metadata": {},
     "output_type": "execute_result"
    }
   ],
   "source": [
    "pd_limit_watts.head()"
   ]
  },
  {
   "cell_type": "code",
   "execution_count": 70,
   "id": "a5bd628b",
   "metadata": {},
   "outputs": [
    {
     "data": {
      "text/html": [
       "<div>\n",
       "<style scoped>\n",
       "    .dataframe tbody tr th:only-of-type {\n",
       "        vertical-align: middle;\n",
       "    }\n",
       "\n",
       "    .dataframe tbody tr th {\n",
       "        vertical-align: top;\n",
       "    }\n",
       "\n",
       "    .dataframe thead th {\n",
       "        text-align: right;\n",
       "    }\n",
       "</style>\n",
       "<table border=\"1\" class=\"dataframe\">\n",
       "  <thead>\n",
       "    <tr style=\"text-align: right;\">\n",
       "      <th></th>\n",
       "      <th>Coefficient</th>\n",
       "    </tr>\n",
       "  </thead>\n",
       "  <tbody>\n",
       "    <tr>\n",
       "      <th>/logs/TrilinosGR.TabOne</th>\n",
       "      <td>0.066275</td>\n",
       "    </tr>\n",
       "    <tr>\n",
       "      <th>/logs/TrilinosGR1300.TabOne</th>\n",
       "      <td>0.067344</td>\n",
       "    </tr>\n",
       "    <tr>\n",
       "      <th>/logs/TrilinosGR1301.TabOne</th>\n",
       "      <td>0.067344</td>\n",
       "    </tr>\n",
       "    <tr>\n",
       "      <th>/logs/TrilinosGR1320.TabOne</th>\n",
       "      <td>0.066215</td>\n",
       "    </tr>\n",
       "    <tr>\n",
       "      <th>/logs/TrilinosGRApr16th2015.TabOne</th>\n",
       "      <td>0.065809</td>\n",
       "    </tr>\n",
       "  </tbody>\n",
       "</table>\n",
       "</div>"
      ],
      "text/plain": [
       "                                    Coefficient\n",
       "/logs/TrilinosGR.TabOne                0.066275\n",
       "/logs/TrilinosGR1300.TabOne            0.067344\n",
       "/logs/TrilinosGR1301.TabOne            0.067344\n",
       "/logs/TrilinosGR1320.TabOne            0.066215\n",
       "/logs/TrilinosGRApr16th2015.TabOne     0.065809"
      ]
     },
     "execution_count": 70,
     "metadata": {},
     "output_type": "execute_result"
    }
   ],
   "source": [
    "pd_watts_theoretical.head()"
   ]
  },
  {
   "cell_type": "code",
   "execution_count": 71,
   "id": "1493840a",
   "metadata": {},
   "outputs": [
    {
     "data": {
      "image/png": "[encoded data removed]",
      "text/plain": [
       "<Figure size 1152x576 with 1 Axes>"
      ]
     },
     "metadata": {
      "needs_background": "light"
     },
     "output_type": "display_data"
    }
   ],
   "source": [
    "fig, ax1 = plt.subplots(figsize=(16,8), nrows=1, ncols=1) \n",
    "pd_limit_watts['SortedIndex'] = sorted_callgraph_keys\n",
    "pd_limit_watts = pd_limit_watts.set_index(keys=['SortedIndex'])\n",
    "pd_limit_watts['RealCoefficient']       = pd_real_C['Coefficient']\n",
    "pd_limit_watts['WattsTheoreticCoefficient']  = pd_watts_theoretical['Coefficient']\n",
    "pd_limit_watts['ErdosTheoreticCoefficient']  = pd_erdos_theoretical['Coefficient']\n",
    "ax1.set_title('Comparing Theoritical Clustering Coefficients with Trilinos')\n",
    "plot = pd_limit_watts.plot.bar(ax=ax1, logy=True)\n",
    "fig = plot.get_figure() \n",
    "ax1.set_xticklabels(range(pd_limit_watts['RealCoefficient'].size))\n",
    "fig.savefig('ClusteringWattsStrog.png') "
   ]
  },
  {
   "cell_type": "code",
   "execution_count": 72,
   "id": "fc08033a",
   "metadata": {},
   "outputs": [
    {
     "data": {
      "text/html": [
       "<div>\n",
       "<style scoped>\n",
       "    .dataframe tbody tr th:only-of-type {\n",
       "        vertical-align: middle;\n",
       "    }\n",
       "\n",
       "    .dataframe tbody tr th {\n",
       "        vertical-align: top;\n",
       "    }\n",
       "\n",
       "    .dataframe thead th {\n",
       "        text-align: right;\n",
       "    }\n",
       "</style>\n",
       "<table border=\"1\" class=\"dataframe\">\n",
       "  <thead>\n",
       "    <tr style=\"text-align: right;\">\n",
       "      <th></th>\n",
       "      <th>LimitInftyCoefficient</th>\n",
       "      <th>RealCoefficient</th>\n",
       "      <th>WattsTheoreticCoefficient</th>\n",
       "      <th>ErdosTheoreticCoefficient</th>\n",
       "    </tr>\n",
       "    <tr>\n",
       "      <th>SortedIndex</th>\n",
       "      <th></th>\n",
       "      <th></th>\n",
       "      <th></th>\n",
       "      <th></th>\n",
       "    </tr>\n",
       "  </thead>\n",
       "  <tbody>\n",
       "    <tr>\n",
       "      <th>/logs/TrilinosGRJul11th2013.TabOne</th>\n",
       "      <td>0.594334</td>\n",
       "      <td>0.070576</td>\n",
       "      <td>0.056600</td>\n",
       "      <td>0.001494</td>\n",
       "    </tr>\n",
       "    <tr>\n",
       "      <th>/logs/TrilinosGROct23rd2013.TabOne</th>\n",
       "      <td>0.594965</td>\n",
       "      <td>0.070611</td>\n",
       "      <td>0.056608</td>\n",
       "      <td>0.001495</td>\n",
       "    </tr>\n",
       "    <tr>\n",
       "      <th>/logs/TrilinosGRJan14th2014.TabOne</th>\n",
       "      <td>0.594965</td>\n",
       "      <td>0.071440</td>\n",
       "      <td>0.056699</td>\n",
       "      <td>0.001496</td>\n",
       "    </tr>\n",
       "    <tr>\n",
       "      <th>/logs/TrilinosGRJan29th2014.TabOne</th>\n",
       "      <td>0.593855</td>\n",
       "      <td>0.071406</td>\n",
       "      <td>0.056696</td>\n",
       "      <td>0.001495</td>\n",
       "    </tr>\n",
       "    <tr>\n",
       "      <th>/logs/TrilinosGRApr29th2014.TabOne</th>\n",
       "      <td>0.596004</td>\n",
       "      <td>0.070866</td>\n",
       "      <td>0.056688</td>\n",
       "      <td>0.001497</td>\n",
       "    </tr>\n",
       "  </tbody>\n",
       "</table>\n",
       "</div>"
      ],
      "text/plain": [
       "                                    LimitInftyCoefficient  RealCoefficient  \\\n",
       "SortedIndex                                                                  \n",
       "/logs/TrilinosGRJul11th2013.TabOne               0.594334         0.070576   \n",
       "/logs/TrilinosGROct23rd2013.TabOne               0.594965         0.070611   \n",
       "/logs/TrilinosGRJan14th2014.TabOne               0.594965         0.071440   \n",
       "/logs/TrilinosGRJan29th2014.TabOne               0.593855         0.071406   \n",
       "/logs/TrilinosGRApr29th2014.TabOne               0.596004         0.070866   \n",
       "\n",
       "                                    WattsTheoreticCoefficient  \\\n",
       "SortedIndex                                                     \n",
       "/logs/TrilinosGRJul11th2013.TabOne                   0.056600   \n",
       "/logs/TrilinosGROct23rd2013.TabOne                   0.056608   \n",
       "/logs/TrilinosGRJan14th2014.TabOne                   0.056699   \n",
       "/logs/TrilinosGRJan29th2014.TabOne                   0.056696   \n",
       "/logs/TrilinosGRApr29th2014.TabOne                   0.056688   \n",
       "\n",
       "                                    ErdosTheoreticCoefficient  \n",
       "SortedIndex                                                    \n",
       "/logs/TrilinosGRJul11th2013.TabOne                   0.001494  \n",
       "/logs/TrilinosGROct23rd2013.TabOne                   0.001495  \n",
       "/logs/TrilinosGRJan14th2014.TabOne                   0.001496  \n",
       "/logs/TrilinosGRJan29th2014.TabOne                   0.001495  \n",
       "/logs/TrilinosGRApr29th2014.TabOne                   0.001497  "
      ]
     },
     "execution_count": 72,
     "metadata": {},
     "output_type": "execute_result"
    }
   ],
   "source": [
    "pd_limit_watts.head()"
   ]
  },
  {
   "cell_type": "code",
   "execution_count": 73,
   "id": "5cf5e1d5",
   "metadata": {},
   "outputs": [],
   "source": [
    "RSS = (pd_limit_watts['WattsTheoreticCoefficient'] - pd_limit_watts['RealCoefficient']).apply(lambda x: x**2).sum()"
   ]
  },
  {
   "cell_type": "code",
   "execution_count": 74,
   "id": "9a462c28",
   "metadata": {},
   "outputs": [
    {
     "data": {
      "text/plain": [
       "0.03601217651663841"
      ]
     },
     "execution_count": 74,
     "metadata": {},
     "output_type": "execute_result"
    }
   ],
   "source": [
    "RSS "
   ]
  },
  {
   "cell_type": "code",
   "execution_count": 75,
   "id": "82a521ca",
   "metadata": {},
   "outputs": [],
   "source": [
    "SD = math.sqrt((pd_limit_watts['RealCoefficient'] - pd_limit_watts['RealCoefficient'].mean()).apply(lambda x: x**2).sum())"
   ]
  },
  {
   "cell_type": "code",
   "execution_count": 76,
   "id": "d3a84e29",
   "metadata": {},
   "outputs": [
    {
     "data": {
      "text/plain": [
       "0.083195021892925"
      ]
     },
     "execution_count": 76,
     "metadata": {},
     "output_type": "execute_result"
    }
   ],
   "source": [
    "SD "
   ]
  },
  {
   "cell_type": "code",
   "execution_count": 77,
   "id": "b01932d5",
   "metadata": {},
   "outputs": [],
   "source": [
    "RSD = math.sqrt(RSS / (pd_limit_watts['WattsTheoreticCoefficient'].size - 2)) "
   ]
  },
  {
   "cell_type": "code",
   "execution_count": 78,
   "id": "81a6f03e",
   "metadata": {},
   "outputs": [
    {
     "data": {
      "text/plain": [
       "0.03038731876050052"
      ]
     },
     "execution_count": 78,
     "metadata": {},
     "output_type": "execute_result"
    }
   ],
   "source": [
    "RSD "
   ]
  },
  {
   "cell_type": "markdown",
   "id": "85dc6bc0",
   "metadata": {},
   "source": [
    "---"
   ]
  },
  {
   "cell_type": "code",
   "execution_count": null,
   "id": "0e28d8dd",
   "metadata": {},
   "outputs": [],
   "source": []
  },
  {
   "cell_type": "markdown",
   "id": "9eb1d560",
   "metadata": {},
   "source": [
    "### TODO\n",
    "\n",
    "   * #### Generate Barabasi albert model with characteristics almost similar to above graphs \n",
    "   * #### Generate Erdos-Renyi model with charactersitics almost similar to above graphs \n",
    "   * #### Generate Clustered-Networks with characteristics ''      \"          \"    \" "
   ]
  },
  {
   "cell_type": "markdown",
   "id": "7b3348a9",
   "metadata": {},
   "source": [
    "# Erdos-Renyi and Average Shortest Paths"
   ]
  },
  {
   "cell_type": "code",
   "execution_count": 79,
   "id": "2942250e",
   "metadata": {},
   "outputs": [],
   "source": [
    "erdos_graphs = {} \n",
    "for f, g in callgraphs.items(): \n",
    "    g_nodes = g.numberOfNodes() \n",
    "    g_edges = g.numberOfEdges() \n",
    "    g_possible_edges = g_nodes * (g_nodes - 1) \n",
    "    g_connect_prob   = g_edges / g_possible_edges \n",
    "    g_erg            = nk.generators.ErdosRenyiGenerator(g_nodes, g_connect_prob, directed=True)\n",
    "    g_ergG           = g_erg.generate() \n",
    "    erdos_graphs[f]  = g_ergG "
   ]
  },
  {
   "cell_type": "code",
   "execution_count": 80,
   "id": "e411751f",
   "metadata": {},
   "outputs": [
    {
     "name": "stdout",
     "output_type": "stream",
     "text": [
      "0\n",
      "1\n",
      "2\n",
      "3\n",
      "4\n",
      "5\n",
      "6\n",
      "7\n",
      "8\n",
      "9\n",
      "10\n",
      "11\n",
      "12\n",
      "13\n",
      "14\n",
      "15\n",
      "16\n",
      "17\n",
      "18\n",
      "19\n",
      "20\n",
      "21\n",
      "22\n",
      "23\n",
      "24\n",
      "25\n",
      "26\n",
      "27\n",
      "28\n",
      "29\n",
      "30\n",
      "31\n",
      "32\n",
      "33\n",
      "34\n",
      "35\n",
      "36\n",
      "37\n",
      "38\n",
      "39\n",
      "40\n"
     ]
    }
   ],
   "source": [
    "erdos_avgs = {}\n",
    "count = 0\n",
    "for f, g in erdos_graphs.items():\n",
    "    diam = 0 \n",
    "    for i in g.iterNodes(): \n",
    "        ecc_i = nk.distance.Eccentricity.getValue(g, i)[1]\n",
    "        if ecc_i > diam: \n",
    "            diam = ecc_i\n",
    "    erdos_avgs[f] = diam \n",
    "    print(count) \n",
    "    count += 1"
   ]
  },
  {
   "cell_type": "code",
   "execution_count": 81,
   "id": "4bf976a1",
   "metadata": {},
   "outputs": [
    {
     "name": "stdout",
     "output_type": "stream",
     "text": [
      "0\n",
      "1\n",
      "2\n",
      "3\n",
      "4\n",
      "5\n",
      "6\n",
      "7\n",
      "8\n",
      "9\n",
      "10\n",
      "11\n",
      "12\n",
      "13\n",
      "14\n",
      "15\n",
      "16\n",
      "17\n",
      "18\n",
      "19\n",
      "20\n",
      "21\n",
      "22\n",
      "23\n",
      "24\n",
      "25\n",
      "26\n",
      "27\n",
      "28\n",
      "29\n",
      "30\n",
      "31\n",
      "32\n",
      "33\n",
      "34\n",
      "35\n",
      "36\n",
      "37\n",
      "38\n",
      "39\n",
      "40\n"
     ]
    }
   ],
   "source": [
    "real_avgs = {} \n",
    "count = 0\n",
    "for f, g in callgraphs.items(): \n",
    "    diam = 0 \n",
    "    for i in g.iterNodes(): \n",
    "        ecc_i = nk.distance.Eccentricity.getValue(g, i)[1]\n",
    "        if ecc_i > diam: \n",
    "            diam = ecc_i\n",
    "    real_avgs[f] = diam \n",
    "    print(count) \n",
    "    count += 1"
   ]
  },
  {
   "cell_type": "code",
   "execution_count": 82,
   "id": "5add3bbf",
   "metadata": {},
   "outputs": [
    {
     "data": {
      "text/plain": [
       "{'/logs/TrilinosGR.TabOne': 14,\n",
       " '/logs/TrilinosGR1300.TabOne': 12,\n",
       " '/logs/TrilinosGR1301.TabOne': 13,\n",
       " '/logs/TrilinosGR1320.TabOne': 13,\n",
       " '/logs/TrilinosGRApr16th2015.TabOne': 14,\n",
       " '/logs/TrilinosGRApr21st2015.TabOne': 13,\n",
       " '/logs/TrilinosGRApr21st2016.TabOne': 13,\n",
       " '/logs/TrilinosGRApr28th2016.TabOne': 13,\n",
       " '/logs/TrilinosGRApr29th2014.TabOne': 15,\n",
       " '/logs/TrilinosGRAug5th2014.TabOne': 12,\n",
       " '/logs/TrilinosGRAug6th2015.TabOne': 15,\n",
       " '/logs/TrilinosGRFeb20th2017.TabOne': 11,\n",
       " '/logs/TrilinosGRFeb27th2019.TabOne': 12,\n",
       " '/logs/TrilinosGRFeb9th2016.TabOne': 13,\n",
       " '/logs/TrilinosGRJan12th2016.TabOne': 13,\n",
       " '/logs/TrilinosGRJan14th2014.TabOne': 14,\n",
       " '/logs/TrilinosGRJan22nd2015.TabOne': 13,\n",
       " '/logs/TrilinosGRJan28th2016.TabOne': 14,\n",
       " '/logs/TrilinosGRJan29th2014.TabOne': 15,\n",
       " '/logs/TrilinosGRJul11th2013.TabOne': 15,\n",
       " '/logs/TrilinosGRJul12th2016.TabOne': 13,\n",
       " '/logs/TrilinosGRJul14th2015.TabOne': 14,\n",
       " '/logs/TrilinosGRJul15th2014.TabOne': 11,\n",
       " '/logs/TrilinosGRJul19th2017.TabOne': 12,\n",
       " '/logs/TrilinosGRJul26th2016.TabOne': 14,\n",
       " '/logs/TrilinosGRMar6th2015.TabOne': 12,\n",
       " '/logs/TrilinosGRMay16th2014.TabOne': 14,\n",
       " '/logs/TrilinosGRMay5th2020.TabOne': 12,\n",
       " '/logs/TrilinosGRMay7th2015.TabOne': 13,\n",
       " '/logs/TrilinosGRNov11th2019.TabOne': 13,\n",
       " '/logs/TrilinosGRNov12th2015.TabOne': 14,\n",
       " '/logs/TrilinosGRNov22nd2016.TabOne': 12,\n",
       " '/logs/TrilinosGRNov3rd2015.TabOne': 13,\n",
       " '/logs/TrilinosGRNov9th2016.TabOne': 12,\n",
       " '/logs/TrilinosGROct23rd2013.TabOne': 16,\n",
       " '/logs/TrilinosGROct23rd2014.TabOne': 11,\n",
       " '/logs/TrilinosGROct23rd2019.TabOne': 12,\n",
       " '/logs/TrilinosGROct6th2015.TabOne': 14,\n",
       " '/logs/TrilinosGROct8th2014.TabOne': 11,\n",
       " '/logs/TrilinosGRSep13th2018.TabOne': 13,\n",
       " '/logs/TrilinosGRSep28th2017.TabOne': 12}"
      ]
     },
     "execution_count": 82,
     "metadata": {},
     "output_type": "execute_result"
    }
   ],
   "source": [
    "erdos_avgs"
   ]
  },
  {
   "cell_type": "code",
   "execution_count": 83,
   "id": "a93b1878",
   "metadata": {},
   "outputs": [
    {
     "data": {
      "text/plain": [
       "{'/logs/TrilinosGR.TabOne': 13,\n",
       " '/logs/TrilinosGR1300.TabOne': 14,\n",
       " '/logs/TrilinosGR1301.TabOne': 14,\n",
       " '/logs/TrilinosGR1320.TabOne': 13,\n",
       " '/logs/TrilinosGRApr16th2015.TabOne': 10,\n",
       " '/logs/TrilinosGRApr21st2015.TabOne': 10,\n",
       " '/logs/TrilinosGRApr21st2016.TabOne': 10,\n",
       " '/logs/TrilinosGRApr28th2016.TabOne': 10,\n",
       " '/logs/TrilinosGRApr29th2014.TabOne': 9,\n",
       " '/logs/TrilinosGRAug5th2014.TabOne': 10,\n",
       " '/logs/TrilinosGRAug6th2015.TabOne': 10,\n",
       " '/logs/TrilinosGRFeb20th2017.TabOne': 10,\n",
       " '/logs/TrilinosGRFeb27th2019.TabOne': 12,\n",
       " '/logs/TrilinosGRFeb9th2016.TabOne': 10,\n",
       " '/logs/TrilinosGRJan12th2016.TabOne': 10,\n",
       " '/logs/TrilinosGRJan14th2014.TabOne': 9,\n",
       " '/logs/TrilinosGRJan22nd2015.TabOne': 10,\n",
       " '/logs/TrilinosGRJan28th2016.TabOne': 10,\n",
       " '/logs/TrilinosGRJan29th2014.TabOne': 9,\n",
       " '/logs/TrilinosGRJul11th2013.TabOne': 9,\n",
       " '/logs/TrilinosGRJul12th2016.TabOne': 10,\n",
       " '/logs/TrilinosGRJul14th2015.TabOne': 10,\n",
       " '/logs/TrilinosGRJul15th2014.TabOne': 10,\n",
       " '/logs/TrilinosGRJul19th2017.TabOne': 11,\n",
       " '/logs/TrilinosGRJul26th2016.TabOne': 10,\n",
       " '/logs/TrilinosGRMar6th2015.TabOne': 10,\n",
       " '/logs/TrilinosGRMay16th2014.TabOne': 9,\n",
       " '/logs/TrilinosGRMay5th2020.TabOne': 14,\n",
       " '/logs/TrilinosGRMay7th2015.TabOne': 10,\n",
       " '/logs/TrilinosGRNov11th2019.TabOne': 13,\n",
       " '/logs/TrilinosGRNov12th2015.TabOne': 10,\n",
       " '/logs/TrilinosGRNov22nd2016.TabOne': 10,\n",
       " '/logs/TrilinosGRNov3rd2015.TabOne': 10,\n",
       " '/logs/TrilinosGRNov9th2016.TabOne': 10,\n",
       " '/logs/TrilinosGROct23rd2013.TabOne': 9,\n",
       " '/logs/TrilinosGROct23rd2014.TabOne': 10,\n",
       " '/logs/TrilinosGROct23rd2019.TabOne': 13,\n",
       " '/logs/TrilinosGROct6th2015.TabOne': 10,\n",
       " '/logs/TrilinosGROct8th2014.TabOne': 10,\n",
       " '/logs/TrilinosGRSep13th2018.TabOne': 12,\n",
       " '/logs/TrilinosGRSep28th2017.TabOne': 11}"
      ]
     },
     "execution_count": 83,
     "metadata": {},
     "output_type": "execute_result"
    }
   ],
   "source": [
    "real_avgs"
   ]
  },
  {
   "cell_type": "code",
   "execution_count": 84,
   "id": "25bf8078",
   "metadata": {},
   "outputs": [],
   "source": [
    "pd_real_avgs  = pd.DataFrame.from_dict(real_avgs, columns=['Diameter'], orient='index')\n",
    "pd_real_avgs['SortedIndex'] = sorted_callgraph_keys\n",
    "pd_erdos_avgs = pd.DataFrame.from_dict(erdos_avgs, columns=['Diameter'], orient='index')\n",
    "pd_real_avgs['ErdosDiameter'] = pd_erdos_avgs['Diameter']"
   ]
  },
  {
   "cell_type": "code",
   "execution_count": 85,
   "id": "a2593fa1",
   "metadata": {},
   "outputs": [
    {
     "data": {
      "text/html": [
       "<div>\n",
       "<style scoped>\n",
       "    .dataframe tbody tr th:only-of-type {\n",
       "        vertical-align: middle;\n",
       "    }\n",
       "\n",
       "    .dataframe tbody tr th {\n",
       "        vertical-align: top;\n",
       "    }\n",
       "\n",
       "    .dataframe thead th {\n",
       "        text-align: right;\n",
       "    }\n",
       "</style>\n",
       "<table border=\"1\" class=\"dataframe\">\n",
       "  <thead>\n",
       "    <tr style=\"text-align: right;\">\n",
       "      <th></th>\n",
       "      <th>Diameter</th>\n",
       "      <th>SortedIndex</th>\n",
       "      <th>ErdosDiameter</th>\n",
       "    </tr>\n",
       "  </thead>\n",
       "  <tbody>\n",
       "    <tr>\n",
       "      <th>/logs/TrilinosGR.TabOne</th>\n",
       "      <td>13</td>\n",
       "      <td>/logs/TrilinosGRJul11th2013.TabOne</td>\n",
       "      <td>14</td>\n",
       "    </tr>\n",
       "    <tr>\n",
       "      <th>/logs/TrilinosGR1300.TabOne</th>\n",
       "      <td>14</td>\n",
       "      <td>/logs/TrilinosGROct23rd2013.TabOne</td>\n",
       "      <td>12</td>\n",
       "    </tr>\n",
       "    <tr>\n",
       "      <th>/logs/TrilinosGR1301.TabOne</th>\n",
       "      <td>14</td>\n",
       "      <td>/logs/TrilinosGRJan14th2014.TabOne</td>\n",
       "      <td>13</td>\n",
       "    </tr>\n",
       "    <tr>\n",
       "      <th>/logs/TrilinosGR1320.TabOne</th>\n",
       "      <td>13</td>\n",
       "      <td>/logs/TrilinosGRJan29th2014.TabOne</td>\n",
       "      <td>13</td>\n",
       "    </tr>\n",
       "    <tr>\n",
       "      <th>/logs/TrilinosGRApr16th2015.TabOne</th>\n",
       "      <td>10</td>\n",
       "      <td>/logs/TrilinosGRApr29th2014.TabOne</td>\n",
       "      <td>14</td>\n",
       "    </tr>\n",
       "  </tbody>\n",
       "</table>\n",
       "</div>"
      ],
      "text/plain": [
       "                                    Diameter  \\\n",
       "/logs/TrilinosGR.TabOne                   13   \n",
       "/logs/TrilinosGR1300.TabOne               14   \n",
       "/logs/TrilinosGR1301.TabOne               14   \n",
       "/logs/TrilinosGR1320.TabOne               13   \n",
       "/logs/TrilinosGRApr16th2015.TabOne        10   \n",
       "\n",
       "                                                           SortedIndex  \\\n",
       "/logs/TrilinosGR.TabOne             /logs/TrilinosGRJul11th2013.TabOne   \n",
       "/logs/TrilinosGR1300.TabOne         /logs/TrilinosGROct23rd2013.TabOne   \n",
       "/logs/TrilinosGR1301.TabOne         /logs/TrilinosGRJan14th2014.TabOne   \n",
       "/logs/TrilinosGR1320.TabOne         /logs/TrilinosGRJan29th2014.TabOne   \n",
       "/logs/TrilinosGRApr16th2015.TabOne  /logs/TrilinosGRApr29th2014.TabOne   \n",
       "\n",
       "                                    ErdosDiameter  \n",
       "/logs/TrilinosGR.TabOne                        14  \n",
       "/logs/TrilinosGR1300.TabOne                    12  \n",
       "/logs/TrilinosGR1301.TabOne                    13  \n",
       "/logs/TrilinosGR1320.TabOne                    13  \n",
       "/logs/TrilinosGRApr16th2015.TabOne             14  "
      ]
     },
     "execution_count": 85,
     "metadata": {},
     "output_type": "execute_result"
    }
   ],
   "source": [
    "pd_real_avgs.head()"
   ]
  },
  {
   "cell_type": "code",
   "execution_count": 86,
   "id": "13e4aca0",
   "metadata": {},
   "outputs": [],
   "source": [
    "SS = (pd_real_avgs['Diameter'] - pd_real_avgs['Diameter'].mean()).apply(lambda x: x**2).sum()"
   ]
  },
  {
   "cell_type": "code",
   "execution_count": 87,
   "id": "f84094a0",
   "metadata": {},
   "outputs": [],
   "source": [
    "RSS = (pd_real_avgs['ErdosDiameter'] - pd_real_avgs['Diameter']).apply(lambda x: x**2).sum()"
   ]
  },
  {
   "cell_type": "code",
   "execution_count": 88,
   "id": "8c3fdb31",
   "metadata": {},
   "outputs": [],
   "source": [
    "ESS = (pd_real_avgs['ErdosDiameter'] - pd_real_avgs['Diameter'].mean()).apply(lambda x: x**2).sum()"
   ]
  },
  {
   "cell_type": "code",
   "execution_count": 89,
   "id": "3cac8e7f",
   "metadata": {},
   "outputs": [
    {
     "data": {
      "text/plain": [
       "308.70731707317066"
      ]
     },
     "execution_count": 89,
     "metadata": {},
     "output_type": "execute_result"
    }
   ],
   "source": [
    "ESS "
   ]
  },
  {
   "cell_type": "code",
   "execution_count": 90,
   "id": "b1d8cb9c",
   "metadata": {},
   "outputs": [
    {
     "data": {
      "text/plain": [
       "85.95121951219512"
      ]
     },
     "execution_count": 90,
     "metadata": {},
     "output_type": "execute_result"
    }
   ],
   "source": [
    "SS "
   ]
  },
  {
   "cell_type": "code",
   "execution_count": 91,
   "id": "cf0e33b5",
   "metadata": {},
   "outputs": [
    {
     "data": {
      "text/plain": [
       "443"
      ]
     },
     "execution_count": 91,
     "metadata": {},
     "output_type": "execute_result"
    }
   ],
   "source": [
    "RSS "
   ]
  },
  {
   "cell_type": "code",
   "execution_count": 92,
   "id": "c069b6c0",
   "metadata": {},
   "outputs": [
    {
     "data": {
      "text/plain": [
       "-357.0487804878049"
      ]
     },
     "execution_count": 92,
     "metadata": {},
     "output_type": "execute_result"
    }
   ],
   "source": [
    "SS - RSS "
   ]
  },
  {
   "cell_type": "code",
   "execution_count": 93,
   "id": "585e02e3",
   "metadata": {},
   "outputs": [],
   "source": [
    "X = list(real_avgs.values()) \n",
    "y = [0] * len(X) \n",
    "for k, i in zip(real_avgs.keys(), range(len(X))): \n",
    "    val  = X[i] \n",
    "    if real_avgs[k] == val: \n",
    "        y[i] = erdos_avgs[k]"
   ]
  },
  {
   "cell_type": "code",
   "execution_count": 94,
   "id": "79adf7ad",
   "metadata": {},
   "outputs": [],
   "source": [
    "versions = [s.split('/')[2] for s in real_avgs.keys()]"
   ]
  },
  {
   "cell_type": "code",
   "execution_count": 95,
   "id": "2c8f1fcd",
   "metadata": {},
   "outputs": [
    {
     "name": "stderr",
     "output_type": "stream",
     "text": [
      "/tmp/ipykernel_60/2906791201.py:8: UserWarning: FixedFormatter should only be used together with FixedLocator\n",
      "  ax.set_xticklabels(ax.get_xticks(), rotation = 45)\n"
     ]
    },
    {
     "data": {
      "image/png": "[encoded data removed]",
      "text/plain": [
       "<Figure size 864x576 with 1 Axes>"
      ]
     },
     "metadata": {
      "needs_background": "light"
     },
     "output_type": "display_data"
    }
   ],
   "source": [
    "fig, ax = plt.subplots(figsize=(12,8), nrows=1, ncols=1)\n",
    "colors = {'real':'red', 'erdos':'green'}         \n",
    "labels = list(colors.keys())\n",
    "handles = [plt.Rectangle((0,0),1,1, color=colors[label]) for label in labels]\n",
    "ax.legend(handles, labels)\n",
    "ax.bar(x=versions, height=X, color='r', alpha=0.45) \n",
    "ax.bar(height=y, x=versions, alpha=0.5, color='g')\n",
    "ax.set_xticklabels(ax.get_xticks(), rotation = 45)\n",
    "ax.set_title('Erdos-Renyi vs Trilinos Graphs (Diameters)') \n",
    "ax.set_ylabel('Graph Diameter') \n",
    "ax.set_xlabel('Version Number')\n",
    "plt.savefig(\"ErdosVRealDiams.png\", bbox_inches='tight')"
   ]
  },
  {
   "cell_type": "markdown",
   "id": "2af8f1f1",
   "metadata": {},
   "source": [
    "### Number of Nodes vs Number of Edges"
   ]
  },
  {
   "cell_type": "code",
   "execution_count": 97,
   "id": "0e496b30",
   "metadata": {},
   "outputs": [],
   "source": [
    "names    = sorted_callgraph_keys \n",
    "nodes    = [callgraphs[n].numberOfNodes() for n in names]\n",
    "connects = [(callgraphs[n].numberOfEdges() / (callgraphs[n].numberOfNodes() - 1)) for n, i in zip(names, nodes)]"
   ]
  },
  {
   "cell_type": "code",
   "execution_count": 98,
   "id": "a8806688",
   "metadata": {},
   "outputs": [],
   "source": [
    "s = (np.log(connects[-1]) - np.log(connects[0])) / np.log(nodes[-1]) - np.log(nodes[0])"
   ]
  },
  {
   "cell_type": "code",
   "execution_count": 99,
   "id": "95518743",
   "metadata": {},
   "outputs": [
    {
     "data": {
      "text/plain": [
       "Text(0, 0.5, 'ln(pN)')"
      ]
     },
     "execution_count": 99,
     "metadata": {},
     "output_type": "execute_result"
    },
    {
     "data": {
      "image/png": "[encoded data removed]",
      "text/plain": [
       "<Figure size 432x288 with 1 Axes>"
      ]
     },
     "metadata": {
      "needs_background": "light"
     },
     "output_type": "display_data"
    }
   ],
   "source": [
    "fig = plt.figure() \n",
    "ax = plt.gca()\n",
    "ax.scatter(nodes, connects, color='r')\n",
    "# ax.plot(np.unique(np.log(sample_pd_fanout.unique_fanouts)), np.poly1d(np.polyfit(np.log(sample_pd_fanout.unique_fanouts), np.log(sample_pd_fanout.probs), 1))(np.unique(np.log(sample_pd_fanout.unique_fanouts))), ':')\n",
    "# ax.set_yscale('log') \n",
    "# ax.set_xscale('log')\n",
    "ax.set_title('ln(N) vs ln(pN)')\n",
    "ax.set_xlabel('ln(N)') \n",
    "ax.set_ylabel('ln(pN)')"
   ]
  },
  {
   "cell_type": "raw",
   "id": "8a8e9f33",
   "metadata": {},
   "source": [
    "---"
   ]
  },
  {
   "cell_type": "markdown",
   "id": "6f2d96fc",
   "metadata": {},
   "source": [
    "# Barabasi-Albert Model Exploration"
   ]
  },
  {
   "cell_type": "code",
   "execution_count": 100,
   "id": "05205f98",
   "metadata": {},
   "outputs": [],
   "source": [
    "from datetime import date, timedelta "
   ]
  },
  {
   "cell_type": "code",
   "execution_count": 101,
   "id": "d1efd317",
   "metadata": {},
   "outputs": [
    {
     "data": {
      "text/plain": [
       "3032"
      ]
     },
     "execution_count": 101,
     "metadata": {},
     "output_type": "execute_result"
    }
   ],
   "source": [
    "earliest_date = date(2013, 7, 11)\n",
    "latest_date   = date(2021, 10, 29)\n",
    "elapsed_date  = latest_date - earliest_date \n",
    "elapsed_days  = elapsed_date.days\n",
    "elapsed_days"
   ]
  },
  {
   "cell_type": "code",
   "execution_count": 102,
   "id": "550191d0",
   "metadata": {},
   "outputs": [
    {
     "data": {
      "text/plain": [
       "72768"
      ]
     },
     "execution_count": 102,
     "metadata": {},
     "output_type": "execute_result"
    }
   ],
   "source": [
    "elapsed_hours = elapsed_days * 24 \n",
    "elapsed_hours"
   ]
  },
  {
   "cell_type": "code",
   "execution_count": 103,
   "id": "b036d833",
   "metadata": {},
   "outputs": [],
   "source": [
    "def make_diffs(l): \n",
    "    return list(map(lambda x: x[1] - x[0], zip(l, l[1:] + [l[-1]])))"
   ]
  },
  {
   "cell_type": "code",
   "execution_count": 104,
   "id": "12b63149",
   "metadata": {},
   "outputs": [],
   "source": [
    "diff_nodes = make_diffs(nodes)\n",
    "mean_nodes = sum(diff_nodes) / len(diff_nodes)"
   ]
  },
  {
   "cell_type": "code",
   "execution_count": 105,
   "id": "c007e5b2",
   "metadata": {},
   "outputs": [],
   "source": [
    "diff_edges = make_diffs(sorted_gr_sizes_edges) "
   ]
  },
  {
   "cell_type": "code",
   "execution_count": 106,
   "id": "68ec499f",
   "metadata": {},
   "outputs": [
    {
     "data": {
      "text/plain": [
       "2323.3414634146343"
      ]
     },
     "execution_count": 106,
     "metadata": {},
     "output_type": "execute_result"
    }
   ],
   "source": [
    "mean_edges = sum(diff_edges) / len(diff_edges)\n",
    "mean_edges"
   ]
  },
  {
   "cell_type": "code",
   "execution_count": 107,
   "id": "2f74e354",
   "metadata": {},
   "outputs": [
    {
     "data": {
      "text/plain": [
       "25.81490514905149"
      ]
     },
     "execution_count": 107,
     "metadata": {},
     "output_type": "execute_result"
    }
   ],
   "source": [
    "daily_edges = mean_edges / 90 # assume mean release time 3 months\n",
    "daily_edges"
   ]
  },
  {
   "cell_type": "code",
   "execution_count": 108,
   "id": "f55fe270",
   "metadata": {},
   "outputs": [],
   "source": [
    "diff_edges_frac = [c / sorted_gr_sizes_edges[i] for i, c in enumerate(diff_edges)]"
   ]
  },
  {
   "cell_type": "code",
   "execution_count": 109,
   "id": "912f06b1",
   "metadata": {},
   "outputs": [],
   "source": [
    "sorted_fan_ins = [callgraphMetrics[f].FanIn.sum() for i, f in enumerate(sorted_callgraphMetrics_keys)]"
   ]
  },
  {
   "cell_type": "code",
   "execution_count": 110,
   "id": "edfea38d",
   "metadata": {},
   "outputs": [],
   "source": [
    "sorted_fan_outs = [callgraphMetrics[f].FanOut.sum() for i, f in enumerate(sorted_callgraphMetrics_keys)]"
   ]
  },
  {
   "cell_type": "code",
   "execution_count": 111,
   "id": "6c205ff8",
   "metadata": {},
   "outputs": [],
   "source": [
    "fan_in_diffs = make_diffs(sorted_fan_ins)"
   ]
  },
  {
   "cell_type": "code",
   "execution_count": 112,
   "id": "8eba691a",
   "metadata": {},
   "outputs": [],
   "source": [
    "mean_new_ins = sum(fan_in_diffs) / len(fan_in_diffs)"
   ]
  },
  {
   "cell_type": "code",
   "execution_count": 113,
   "id": "26adfb5e",
   "metadata": {},
   "outputs": [
    {
     "data": {
      "text/plain": [
       "2325.170731707317"
      ]
     },
     "execution_count": 113,
     "metadata": {},
     "output_type": "execute_result"
    }
   ],
   "source": [
    "mean_new_ins"
   ]
  },
  {
   "cell_type": "code",
   "execution_count": 114,
   "id": "1ae5096d",
   "metadata": {},
   "outputs": [
    {
     "data": {
      "text/plain": [
       "25.835230352303522"
      ]
     },
     "execution_count": 114,
     "metadata": {},
     "output_type": "execute_result"
    }
   ],
   "source": [
    "mean_new_ins / 90"
   ]
  },
  {
   "cell_type": "code",
   "execution_count": 115,
   "id": "e0d541e2",
   "metadata": {},
   "outputs": [
    {
     "data": {
      "text/plain": [
       "5.036027469624933"
      ]
     },
     "execution_count": 115,
     "metadata": {},
     "output_type": "execute_result"
    }
   ],
   "source": [
    "M = mean_new_ins / mean_nodes \n",
    "M "
   ]
  },
  {
   "cell_type": "code",
   "execution_count": 116,
   "id": "95a25a14",
   "metadata": {},
   "outputs": [],
   "source": [
    "bag = nk.generators.BarabasiAlbertGenerator(k=M, nMax=nodes[-1], n0=nodes[0])"
   ]
  },
  {
   "cell_type": "code",
   "execution_count": 117,
   "id": "3fb47f95",
   "metadata": {},
   "outputs": [],
   "source": [
    "bagG = bag.generate()"
   ]
  },
  {
   "cell_type": "code",
   "execution_count": 118,
   "id": "77ced8f3",
   "metadata": {},
   "outputs": [
    {
     "name": "stdout",
     "output_type": "stream",
     "text": [
      "Network Properties:\n",
      "nodes, edges\t\t\t21020, 96740\n",
      "directed?\t\t\tFalse\n",
      "weighted?\t\t\tFalse\n",
      "isolated nodes\t\t\t0\n",
      "self-loops\t\t\t0\n",
      "density\t\t\t\t0.000438\n",
      "clustering coefficient\t\t0.000894\n",
      "min/max/avg degree\t\t2, 73, 9.204567\n",
      "degree assortativity\t\t0.178372\n",
      "number of connected components\t1\n",
      "size of largest component\t21020 (100.00 %)\n"
     ]
    }
   ],
   "source": [
    "nk.overview(bagG)"
   ]
  },
  {
   "cell_type": "code",
   "execution_count": 119,
   "id": "ac777b07",
   "metadata": {},
   "outputs": [
    {
     "name": "stdout",
     "output_type": "stream",
     "text": [
      "Network Properties:\n",
      "nodes, edges\t\t\t21020, 101875\n",
      "directed?\t\t\tTrue\n",
      "weighted?\t\t\tFalse\n",
      "isolated nodes\t\t\t2983\n",
      "self-loops\t\t\t258\n",
      "density\t\t\t\t0.000230\n",
      "min/max/avg degree\t\t0, 294, 4.846575\n",
      "degree assortativity\t\t0.058990\n",
      "number of connected components\t20979\n",
      "size of largest component\t7 (0.03 %)\n"
     ]
    }
   ],
   "source": [
    "nk.overview(callgraphs[sorted_callgraph_keys[-1]])"
   ]
  },
  {
   "cell_type": "code",
   "execution_count": 120,
   "id": "a3188907",
   "metadata": {},
   "outputs": [
    {
     "data": {
      "text/plain": [
       "['/logs/TrilinosGRJul11th2013.TabOne',\n",
       " '/logs/TrilinosGROct23rd2013.TabOne',\n",
       " '/logs/TrilinosGRJan14th2014.TabOne',\n",
       " '/logs/TrilinosGRJan29th2014.TabOne',\n",
       " '/logs/TrilinosGRApr29th2014.TabOne',\n",
       " '/logs/TrilinosGRMay16th2014.TabOne',\n",
       " '/logs/TrilinosGRJul15th2014.TabOne',\n",
       " '/logs/TrilinosGRAug5th2014.TabOne',\n",
       " '/logs/TrilinosGROct8th2014.TabOne',\n",
       " '/logs/TrilinosGROct23rd2014.TabOne',\n",
       " '/logs/TrilinosGRJan22nd2015.TabOne',\n",
       " '/logs/TrilinosGRMar6th2015.TabOne',\n",
       " '/logs/TrilinosGRApr16th2015.TabOne',\n",
       " '/logs/TrilinosGRApr21st2015.TabOne',\n",
       " '/logs/TrilinosGRMay7th2015.TabOne',\n",
       " '/logs/TrilinosGRJul14th2015.TabOne',\n",
       " '/logs/TrilinosGRAug6th2015.TabOne',\n",
       " '/logs/TrilinosGROct6th2015.TabOne',\n",
       " '/logs/TrilinosGRNov3rd2015.TabOne',\n",
       " '/logs/TrilinosGRNov12th2015.TabOne',\n",
       " '/logs/TrilinosGRJan12th2016.TabOne',\n",
       " '/logs/TrilinosGRJan28th2016.TabOne',\n",
       " '/logs/TrilinosGRFeb9th2016.TabOne',\n",
       " '/logs/TrilinosGRApr21st2016.TabOne',\n",
       " '/logs/TrilinosGRApr28th2016.TabOne',\n",
       " '/logs/TrilinosGRJul12th2016.TabOne',\n",
       " '/logs/TrilinosGRJul26th2016.TabOne',\n",
       " '/logs/TrilinosGRNov9th2016.TabOne',\n",
       " '/logs/TrilinosGRNov22nd2016.TabOne',\n",
       " '/logs/TrilinosGRFeb20th2017.TabOne',\n",
       " '/logs/TrilinosGRJul19th2017.TabOne',\n",
       " '/logs/TrilinosGRSep28th2017.TabOne',\n",
       " '/logs/TrilinosGRSep13th2018.TabOne',\n",
       " '/logs/TrilinosGRFeb27th2019.TabOne',\n",
       " '/logs/TrilinosGROct23rd2019.TabOne',\n",
       " '/logs/TrilinosGRNov11th2019.TabOne',\n",
       " '/logs/TrilinosGRMay5th2020.TabOne',\n",
       " '/logs/TrilinosGR1300.TabOne',\n",
       " '/logs/TrilinosGR1301.TabOne',\n",
       " '/logs/TrilinosGR1320.TabOne',\n",
       " '/logs/TrilinosGR.TabOne']"
      ]
     },
     "execution_count": 120,
     "metadata": {},
     "output_type": "execute_result"
    }
   ],
   "source": [
    "sorted_callgraph_keys"
   ]
  },
  {
   "cell_type": "markdown",
   "id": "f3b9c285",
   "metadata": {},
   "source": [
    "---"
   ]
  },
  {
   "cell_type": "code",
   "execution_count": 121,
   "id": "af28f53c",
   "metadata": {},
   "outputs": [],
   "source": [
    "current      = sorted_callgraph_keys[-2]\n",
    "prev_current = sorted_callgraph_keys[-3]"
   ]
  },
  {
   "cell_type": "code",
   "execution_count": 122,
   "id": "bba3b7bb",
   "metadata": {},
   "outputs": [
    {
     "data": {
      "text/plain": [
       "20301"
      ]
     },
     "execution_count": 122,
     "metadata": {},
     "output_type": "execute_result"
    }
   ],
   "source": [
    "common_funcs = [] \n",
    "for i in callgraphs[current].iterNodes(): \n",
    "    if i in callgraphs[prev_current].iterNodes(): \n",
    "        common_funcs.append(i)\n",
    "len(common_funcs)"
   ]
  },
  {
   "cell_type": "code",
   "execution_count": 123,
   "id": "fd0a96f7",
   "metadata": {},
   "outputs": [
    {
     "data": {
      "text/plain": [
       "701"
      ]
     },
     "execution_count": 123,
     "metadata": {},
     "output_type": "execute_result"
    }
   ],
   "source": [
    "diff_funcs = [] \n",
    "for i in callgraphs[current].iterNodes(): \n",
    "    if not (i in common_funcs): \n",
    "        diff_funcs.append(i) \n",
    "len(diff_funcs)"
   ]
  },
  {
   "cell_type": "code",
   "execution_count": 124,
   "id": "20c13623",
   "metadata": {},
   "outputs": [],
   "source": [
    "delta_k = callgraphs[current].numberOfEdges() - callgraphs[prev_current].numberOfEdges() "
   ]
  },
  {
   "cell_type": "code",
   "execution_count": 125,
   "id": "5f60593a",
   "metadata": {},
   "outputs": [],
   "source": [
    "k_i       = [callgraphs[prev_current].degreeIn(n) for n in common_funcs]"
   ]
  },
  {
   "cell_type": "code",
   "execution_count": 126,
   "id": "f1030b1b",
   "metadata": {},
   "outputs": [],
   "source": [
    "delta_k_i = [(callgraphs[current].degreeIn(n) - callgraphs[prev_current].degreeIn(n)) / delta_k for n in common_funcs]"
   ]
  },
  {
   "cell_type": "code",
   "execution_count": 127,
   "id": "42528616",
   "metadata": {},
   "outputs": [],
   "source": [
    "no_pref = [k / sum(k_i) for k in k_i]"
   ]
  },
  {
   "cell_type": "code",
   "execution_count": 128,
   "id": "7fca5cd7",
   "metadata": {},
   "outputs": [],
   "source": [
    "sorted_i = sorted(k_i, reverse=True)"
   ]
  },
  {
   "cell_type": "code",
   "execution_count": 134,
   "id": "687b5042",
   "metadata": {},
   "outputs": [],
   "source": [
    "pref_top_10 = [k / sum(sorted_i[:10]) for k in k_i]\n",
    "pref_top_20 = [k / sum(sorted_i[:20]) for k in k_i]\n",
    "pref_top_5 = [k / sum(sorted_i[:5]) for k in k_i]"
   ]
  },
  {
   "cell_type": "code",
   "execution_count": 135,
   "id": "2b62d933",
   "metadata": {},
   "outputs": [
    {
     "data": {
      "image/png": "[encoded data removed]",
      "text/plain": [
       "<Figure size 1152x576 with 1 Axes>"
      ]
     },
     "metadata": {
      "needs_background": "light"
     },
     "output_type": "display_data"
    }
   ],
   "source": [
    "fig = plt.figure(figsize=(16, 8)) \n",
    "ax = plt.gca()\n",
    "plt.scatter(y=delta_k_i, x=k_i)\n",
    "plt.plot(k_i, pref_top_20, color='green', linestyle='dashed')\n",
    "ax.set_yscale('log') \n",
    "ax.set_xscale('log')\n",
    "ax.set_title('Indegree Preferential Treatment for Trilinos v.13.2.0')\n",
    "ax.set_xlabel('Indegree k_i') \n",
    "ax.set_ylabel('delta k_i / total new edges')\n",
    "plt.savefig('IndegreePreferentialTreatment.png')"
   ]
  },
  {
   "cell_type": "code",
   "execution_count": 131,
   "id": "a525318f",
   "metadata": {},
   "outputs": [],
   "source": [
    "points = list(zip(k_i, delta_k_i))"
   ]
  },
  {
   "cell_type": "code",
   "execution_count": 132,
   "id": "7548d570",
   "metadata": {},
   "outputs": [
    {
     "data": {
      "text/plain": [
       "[(0, -0.0),\n",
       " (2, -0.0),\n",
       " (1071, -0.016921837228041903),\n",
       " (984, -0.0083266183185603),\n",
       " (516, -0.023099650819231803),\n",
       " (9820, 0.014235831318828902),\n",
       " (465, -0.038947085683588505),\n",
       " (732, -0.015041633091592801),\n",
       " (720, -0.019339242546333603),\n",
       " (642, -0.016921837228041903),\n",
       " (1368, -0.0316948697287134),\n",
       " (1206, 0.0029546065001343),\n",
       " (886, -0.0040290088638195),\n",
       " (138, -0.0026860059092130005),\n",
       " (1206, 0.0029546065001343),\n",
       " (1188, 0.0026860059092130005),\n",
       " (0, -0.0),\n",
       " (43, -0.0008058017727639),\n",
       " (0, -0.0),\n",
       " (0, -0.0),\n",
       " (462, -0.0220252484555466),\n",
       " (462, -0.0220252484555466),\n",
       " (0, -0.0),\n",
       " (0, -0.0),\n",
       " (56, -0.0021488047273704003),\n",
       " (860, -0.08004297609454741),\n",
       " (0, -0.0),\n",
       " (0, -0.0),\n",
       " (1628, -0.037335482138060705),\n",
       " (1, -0.0),\n",
       " (3461, 0.005372011818426001),\n",
       " (4, -0.0),\n",
       " (0, -0.0),\n",
       " (1, -0.0),\n",
       " (3, -0.0),\n",
       " (3, -0.0),\n",
       " (45, -0.0),\n",
       " (0, -0.0),\n",
       " (1, -0.0),\n",
       " (2, -0.0),\n",
       " (2, -0.0),\n",
       " (0, -0.0),\n",
       " (1, -0.0),\n",
       " (1, -0.0),\n",
       " (124, -0.0045662100456621),\n",
       " (31, -0.0010744023636852001),\n",
       " (1085, 0.0204136449100188),\n",
       " (0, -0.0),\n",
       " (391, -0.0045662100456621),\n",
       " (756, -0.024174053182917002),\n",
       " (0, -0.0),\n",
       " (1, -0.0),\n",
       " (0, -0.0),\n",
       " (0, -0.0),\n",
       " (47, -0.0008058017727639),\n",
       " (0, -0.0),\n",
       " (0, -0.0),\n",
       " (0, -0.0),\n",
       " (1, -0.0),\n",
       " (186, -0.007520816545796401),\n",
       " (192, -0.007520816545796401),\n",
       " (172, -0.006177813591189901),\n",
       " (187, -0.0069836153639538006),\n",
       " (0, -0.0),\n",
       " (1, -0.0),\n",
       " (1, -0.0),\n",
       " (1, -0.0),\n",
       " (3, -0.0),\n",
       " (3, -0.0),\n",
       " (1, -0.0),\n",
       " (1, -0.0),\n",
       " (1, -0.0),\n",
       " (1, -0.0),\n",
       " (2, -0.0),\n",
       " (2, -0.0),\n",
       " (1, -0.0),\n",
       " (1, -0.0),\n",
       " (1, -0.0),\n",
       " (1, -0.0),\n",
       " (4, -0.0),\n",
       " (3, -0.0),\n",
       " (3, -0.0),\n",
       " (3, -0.0),\n",
       " (1, -0.0),\n",
       " (1, -0.0),\n",
       " (1, -0.0),\n",
       " (1, -0.0),\n",
       " (1, -0.0),\n",
       " (1, -0.0),\n",
       " (1, -0.0),\n",
       " (1, -0.0),\n",
       " (1, -0.0),\n",
       " (2, -0.0),\n",
       " (3, -0.0),\n",
       " (1, -0.0),\n",
       " (1, -0.0),\n",
       " (1, -0.0),\n",
       " (1, -0.0),\n",
       " (1, -0.0),\n",
       " (311, -0.008595218909481601),\n",
       " (1, -0.0),\n",
       " (12, -0.0),\n",
       " (13, -0.0),\n",
       " (2, -0.0),\n",
       " (7, -0.0),\n",
       " (5, -0.0),\n",
       " (5, -0.0),\n",
       " (1, -0.0),\n",
       " (1, -0.0),\n",
       " (1, -0.0),\n",
       " (1, -0.0),\n",
       " (1, -0.0),\n",
       " (1, -0.0),\n",
       " (1, -0.0),\n",
       " (1, -0.0),\n",
       " (1, -0.0),\n",
       " (1, -0.0),\n",
       " (1, -0.0),\n",
       " (1, -0.0),\n",
       " (1, -0.0),\n",
       " (1, -0.0),\n",
       " (1, -0.0),\n",
       " (1, -0.0),\n",
       " (1, -0.0),\n",
       " (1, -0.0),\n",
       " (1, -0.0),\n",
       " (1, -0.0),\n",
       " (1, -0.0),\n",
       " (1, -0.0),\n",
       " (1, -0.0),\n",
       " (1, -0.0),\n",
       " (0, -0.0),\n",
       " (3, -0.0),\n",
       " (2, -0.0),\n",
       " (2, -0.0),\n",
       " (4, -0.0),\n",
       " (2, -0.0),\n",
       " (2, -0.0),\n",
       " (2, -0.0),\n",
       " (2, -0.0),\n",
       " (2, -0.0),\n",
       " (2, -0.0),\n",
       " (0, -0.0),\n",
       " (10, -0.0),\n",
       " (1, -0.0),\n",
       " (1198, -0.0),\n",
       " (1198, -0.0),\n",
       " (5386, -0.017190437818963202),\n",
       " (1, -0.0),\n",
       " (2, -0.0),\n",
       " (105, -0.0),\n",
       " (254, -0.0198764437281762),\n",
       " (3, -0.0),\n",
       " (0, -0.0),\n",
       " (8, 0.0016116035455278),\n",
       " (5, 0.0013430029546065002),\n",
       " (2, -0.0016116035455278),\n",
       " (2, -0.0008058017727639),\n",
       " (3, 0.00026860059092130003),\n",
       " (3, 0.00026860059092130003),\n",
       " (3, -0.0),\n",
       " (3, -0.0),\n",
       " (8, 0.0013430029546065002),\n",
       " (5, 0.0005372011818426001),\n",
       " (3, -0.0013430029546065002),\n",
       " (18, -0.00026860059092130003),\n",
       " (11, 0.0021488047273704003),\n",
       " (23, 0.0013430029546065002),\n",
       " (16, 0.0013430029546065002),\n",
       " (33, 0.0026860059092130005),\n",
       " (24, 0.0021488047273704003),\n",
       " (1, -0.008595218909481601),\n",
       " (2, -0.0059092130002686),\n",
       " (2, 0.00026860059092130003),\n",
       " (227, 0.060435132957292505),\n",
       " (19, 0.0045662100456621),\n",
       " (1, -0.06419554123019071),\n",
       " (55, 0.009669621273166801),\n",
       " (78, 0.020682245500940104),\n",
       " (1, -0.014504431909750202),\n",
       " (3, -0.020145044319097503),\n",
       " (3, 0.0005372011818426001),\n",
       " (1, -0.0005372011818426001),\n",
       " (1, -0.0005372011818426001),\n",
       " (816, 0.21890948160085952),\n",
       " (816, 0.21890948160085952),\n",
       " (816, -0.0013430029546065002),\n",
       " (83, -0.1982272360999194),\n",
       " (1, -0.22025248455546603),\n",
       " (1, -0.023368251410153102),\n",
       " (3, 0.0005372011818426001),\n",
       " (6, 0.0013430029546065002),\n",
       " (5, 0.0005372011818426001),\n",
       " (2, -0.0010744023636852001),\n",
       " (7, 0.0005372011818426001),\n",
       " (3, 0.00026860059092130003),\n",
       " (8, 0.00026860059092130003),\n",
       " (0, -0.0008058017727639),\n",
       " (330, 0.08648939027665861),\n",
       " (0, -0.0),\n",
       " (0, -0.088638195004029),\n",
       " (328, 0.0881009938221864),\n",
       " (57, 0.015310233682514102),\n",
       " (0, -0.0881009938221864),\n",
       " (548, 0.12543647596024712),\n",
       " (340, 0.091324200913242),\n",
       " (1, -0.14934192855224282),\n",
       " (328, -0.0037604082728982004),\n",
       " (529, 0.14182111200644643),\n",
       " (516, 0.05049691109320441),\n",
       " (416, -0.030351866774106902),\n",
       " (2, -0.14826752618855762),\n",
       " (38, -0.10287402632285791),\n",
       " (821, 0.21971528337362342),\n",
       " (0, -0.0128928283642224),\n",
       " (41, -0.18211120064464142),\n",
       " (0, -0.0),\n",
       " (0, -0.0110126242277733),\n",
       " (1, 0.00026860059092130003),\n",
       " (5, 0.0013430029546065002),\n",
       " (2, 0.00026860059092130003),\n",
       " (8, 0.0008058017727639),\n",
       " (0, -0.0005372011818426001),\n",
       " (0, -0.0021488047273704003),\n",
       " (0, -0.0),\n",
       " (1, 0.00026860059092130003),\n",
       " (0, -0.0),\n",
       " (0, -0.00026860059092130003),\n",
       " (0, -0.0),\n",
       " (1, 0.00026860059092130003),\n",
       " (0, -0.0),\n",
       " (86, 0.0228310502283105),\n",
       " (1, 0.00026860059092130003),\n",
       " (35, -0.013430029546065002),\n",
       " (139, 0.037066881547139406),\n",
       " (21, -0.0037604082728982004),\n",
       " (9, -0.034380875637926404),\n",
       " (57, 0.009669621273166801),\n",
       " (16, 0.0018802041364491002),\n",
       " (123, 0.017727639000805803),\n",
       " (18, 0.0005372011818426001),\n",
       " (4, -0.0394842868654311),\n",
       " (3, -0.0040290088638195),\n",
       " (317, 0.0840719849583669),\n",
       " (2, -0.00026860059092130003),\n",
       " (1, -0.0848777867311308),\n",
       " (132, 0.034918076819769),\n",
       " (160, 0.0427074939564867),\n",
       " (42, -0.024174053182917002),\n",
       " (133, -0.007252215954875101),\n",
       " (15, -0.007252215954875101),\n",
       " (1, -0.035455278001611606),\n",
       " (213, 0.0531829170024174),\n",
       " (253, 0.06768734891216761),\n",
       " (1, -0.0744023636852001),\n",
       " (57, -0.072522159548751),\n",
       " (78, 0.020682245500940104),\n",
       " (9, -0.0128928283642224),\n",
       " (80, -0.0018802041364491002),\n",
       " (112, 0.027665860864893903),\n",
       " (106, 0.0045662100456621),\n",
       " (29, -0.028471662637657803),\n",
       " (4, -0.0408272898200376),\n",
       " (1, -0.007520816545796401),\n",
       " (20, 0.0042976094547408005),\n",
       " (2, 0.00026860059092130003),\n",
       " (15, -0.0013430029546065002),\n",
       " (112, 0.029546065001343002),\n",
       " (13, -0.0005372011818426001),\n",
       " (1, -0.034918076819769),\n",
       " (2, -0.0029546065001343),\n",
       " (1, -0.0),\n",
       " (9, 0.0018802041364491002),\n",
       " (0, -0.00026860059092130003),\n",
       " (0, -0.0045662100456621),\n",
       " (0, -0.0),\n",
       " (0, -0.0),\n",
       " (0, -0.0),\n",
       " (11, 0.0029546065001343),\n",
       " (0, -0.0),\n",
       " (0, -0.0032232070910556),\n",
       " (38, 0.0102068224550094),\n",
       " (0, -0.0),\n",
       " (3, -0.010475423045930701),\n",
       " (2, 0.0005372011818426001),\n",
       " (0, -0.0008058017727639),\n",
       " (38, 0.009669621273166801),\n",
       " (0, -0.0),\n",
       " (0, -0.012087026591458501),\n",
       " (0, -0.0),\n",
       " (0, -0.0),\n",
       " (0, -0.0),\n",
       " (1, 0.00026860059092130003),\n",
       " (0, -0.0),\n",
       " (3, 0.0005372011818426001),\n",
       " (7, 0.0018802041364491002),\n",
       " (3, -0.0),\n",
       " (147, 0.037604082728982004),\n",
       " (13, 0.0026860059092130005),\n",
       " (34, -0.0346494762288477),\n",
       " (1, -0.0056406124093473006),\n",
       " (2, -0.008863819500402902),\n",
       " (3, 0.0005372011818426001),\n",
       " (19, 0.0045662100456621),\n",
       " (1, -0.0005372011818426001),\n",
       " (11, -0.0021488047273704003),\n",
       " (7, 0.0016116035455278),\n",
       " (31, 0.005372011818426001),\n",
       " (2, -0.0013430029546065002),\n",
       " (1, -0.008058017727639),\n",
       " (1, -0.00026860059092130003),\n",
       " (2, 0.00026860059092130003),\n",
       " (1, -0.0),\n",
       " (2, -0.0),\n",
       " (13, 0.0032232070910556),\n",
       " (3, 0.00026860059092130003),\n",
       " (1, -0.0032232070910556),\n",
       " (9, 0.0016116035455278),\n",
       " (14, 0.0034918076819769003),\n",
       " (1, -0.0021488047273704003),\n",
       " (6, -0.0021488047273704003),\n",
       " (20, 0.0051034112275047),\n",
       " (20, 0.0037604082728982004),\n",
       " (2, -0.0056406124093473006),\n",
       " (6, -0.0045662100456621),\n",
       " (19, 0.0045662100456621),\n",
       " (5, -0.00026860059092130003),\n",
       " (3, -0.0059092130002686),\n",
       " (9, 0.0010744023636852001),\n",
       " (260, 0.0690303518667741),\n",
       " (51, 0.009669621273166801),\n",
       " (58, -0.05989793177544991),\n",
       " (242, 0.0499597099113618),\n",
       " (0, -0.017190437818963202),\n",
       " (2, -0.06634434595756111),\n",
       " (4, 0.0010744023636852001),\n",
       " (1, -0.00026860059092130003),\n",
       " (0, -0.0010744023636852001),\n",
       " (0, -0.00026860059092130003),\n",
       " (3, 0.0008058017727639),\n",
       " (1, 0.00026860059092130003),\n",
       " (67, 0.017190437818963202),\n",
       " (3, 0.0005372011818426001),\n",
       " (1, -0.0220252484555466),\n",
       " (136, 0.035723878592532905),\n",
       " (2, 0.00026860059092130003),\n",
       " (25, -0.0351866774106903),\n",
       " (2, -0.0),\n",
       " (6, -0.006177813591189901),\n",
       " (1, -0.00026860059092130003),\n",
       " (1, -0.0013430029546065002),\n",
       " (2, 0.00026860059092130003),\n",
       " (2, 0.00026860059092130003),\n",
       " (2, -0.00026860059092130003),\n",
       " (0, -0.0005372011818426001),\n",
       " (6, 0.0010744023636852001),\n",
       " (84, 0.022562449637389202),\n",
       " (1, -0.0013430029546065002),\n",
       " (2, -0.026860059092130004),\n",
       " (1, -0.0),\n",
       " (0, -0.0005372011818426001),\n",
       " (11, 0.0026860059092130005),\n",
       " (0, -0.0),\n",
       " (8, -0.0010744023636852001),\n",
       " (0, -0.0),\n",
       " (2, -0.0016116035455278),\n",
       " (55, 0.014773032500671501),\n",
       " (9, 0.0018802041364491002),\n",
       " (2, -0.015310233682514102),\n",
       " (0, -0.0024174053182917004),\n",
       " (0, -0.0005372011818426001),\n",
       " (2, 0.0005372011818426001),\n",
       " (1, 0.00026860059092130003),\n",
       " (1, -0.00026860059092130003),\n",
       " (3, 0.0005372011818426001),\n",
       " (5, 0.0010744023636852001),\n",
       " (1, -0.0005372011818426001),\n",
       " (1, -0.0010744023636852001),\n",
       " (1, -0.0),\n",
       " (8, 0.0018802041364491002),\n",
       " (1, -0.0),\n",
       " (1, -0.0018802041364491002),\n",
       " (6, 0.0013430029546065002),\n",
       " (6, 0.0013430029546065002),\n",
       " (32, 0.0069836153639538006),\n",
       " (6, -0.0),\n",
       " (7, -0.006715014773032501),\n",
       " (1, -0.0013430029546065002),\n",
       " (8, 0.00026860059092130003),\n",
       " (1, -0.0),\n",
       " (8, -0.0),\n",
       " (1, -0.0),\n",
       " (8, -0.0),\n",
       " (1, -0.0),\n",
       " (9, 0.00026860059092130003),\n",
       " (1, -0.0),\n",
       " (21, 0.0032232070910556),\n",
       " (18, 0.0045662100456621),\n",
       " (15, -0.0018802041364491002),\n",
       " (1, -0.0045662100456621),\n",
       " (35, 0.0051034112275047),\n",
       " (29, 0.007520816545796401),\n",
       " (9, -0.007252215954875101),\n",
       " (12, -0.0056406124093473006),\n",
       " (107, 0.0257856567284448),\n",
       " (1, -0.0032232070910556),\n",
       " (9, -0.0367982809562181),\n",
       " (8, 0.0018802041364491002),\n",
       " (4, -0.0013430029546065002),\n",
       " (4, -0.0013430029546065002),\n",
       " (4, -0.0),\n",
       " (4, -0.0),\n",
       " (4, -0.0),\n",
       " (5, 0.00026860059092130003),\n",
       " (4, -0.0),\n",
       " (4, -0.00026860059092130003),\n",
       " (4, -0.0),\n",
       " (5, 0.00026860059092130003),\n",
       " (39, 0.009401020682245501),\n",
       " (16, 0.0029546065001343),\n",
       " (4, -0.005372011818426001),\n",
       " (0, -0.0059092130002686),\n",
       " (0, -0.0013430029546065002),\n",
       " (222, 0.05962933118452861),\n",
       " (3, 0.0008058017727639),\n",
       " (1, -0.0711791565941445),\n",
       " (1, -0.0005372011818426001),\n",
       " (1, -0.0),\n",
       " (1, -0.0),\n",
       " (254, 0.0679559495030889),\n",
       " (176, 0.0470051034112275),\n",
       " (1, -0.072522159548751),\n",
       " (0, -0.0472737040021488),\n",
       " (0, -0.00026860059092130003),\n",
       " (6, 0.0016116035455278),\n",
       " (0, -0.0),\n",
       " (4, -0.0018802041364491002),\n",
       " (1, 0.00026860059092130003),\n",
       " (1, -0.0008058017727639),\n",
       " (1, -0.0),\n",
       " (1, -0.0),\n",
       " (1, -0.0),\n",
       " (1, -0.0),\n",
       " (1, -0.0),\n",
       " (1, -0.0),\n",
       " (6, 0.0013430029546065002),\n",
       " (1, -0.0),\n",
       " (4, -0.0005372011818426001),\n",
       " (1, -0.0),\n",
       " (2, -0.0005372011818426001),\n",
       " (3, 0.0005372011818426001),\n",
       " (1, -0.0005372011818426001),\n",
       " (11, 0.0021488047273704003),\n",
       " (1, -0.0),\n",
       " (1, -0.0005372011818426001),\n",
       " (1, -0.0),\n",
       " (2, 0.00026860059092130003),\n",
       " (1, -0.0),\n",
       " (1, -0.00026860059092130003),\n",
       " (1, -0.0),\n",
       " (1, -0.0),\n",
       " (3, 0.0005372011818426001),\n",
       " (1, -0.0),\n",
       " (3, -0.0),\n",
       " (1, -0.0),\n",
       " (3, -0.0),\n",
       " (1, -0.0),\n",
       " (1, -0.0005372011818426001),\n",
       " (51, 0.013430029546065002),\n",
       " (5, 0.0010744023636852001),\n",
       " (5, -0.012355627182379801),\n",
       " (5, -0.0),\n",
       " (1, -0.0010744023636852001),\n",
       " (16, 0.0029546065001343),\n",
       " (1, -0.0),\n",
       " (1, -0.0040290088638195),\n",
       " (1, -0.0),\n",
       " (2, 0.00026860059092130003),\n",
       " (2, 0.00026860059092130003),\n",
       " (1, -0.00026860059092130003),\n",
       " (4, 0.0005372011818426001),\n",
       " (7, 0.0016116035455278),\n",
       " (2, -0.0005372011818426001),\n",
       " (3, -0.0010744023636852001),\n",
       " (2, -0.0),\n",
       " (15, 0.0032232070910556),\n",
       " (2, -0.0),\n",
       " (3, -0.0051034112275047),\n",
       " (4, 0.0005372011818426001),\n",
       " (0, -0.0013430029546065002),\n",
       " (0, -0.0016116035455278),\n",
       " (0, -0.0),\n",
       " (0, -0.0),\n",
       " (53, 0.014235831318828902),\n",
       " (0, -0.0),\n",
       " (0, -0.014235831318828902),\n",
       " (0, -0.0),\n",
       " (0, -0.0),\n",
       " (0, -0.0),\n",
       " (0, -0.0),\n",
       " (30, 0.008058017727639),\n",
       " (1, 0.00026860059092130003),\n",
       " (1, -0.0077894171367177),\n",
       " (1, -0.0),\n",
       " (1, -0.0),\n",
       " (1, -0.0),\n",
       " (27, 0.0069836153639538006),\n",
       " (5, 0.0010744023636852001),\n",
       " (7, -0.005372011818426001),\n",
       " (45, 0.010744023636852002),\n",
       " (3, -0.0010744023636852001),\n",
       " (1, -0.0136986301369863),\n",
       " (1, -0.0005372011818426001),\n",
       " (3, 0.0005372011818426001),\n",
       " (1, -0.0),\n",
       " (1, -0.0005372011818426001),\n",
       " (2, 0.00026860059092130003),\n",
       " (2, 0.00026860059092130003),\n",
       " (0, -0.0005372011818426001),\n",
       " (4, 0.0005372011818426001),\n",
       " (0, -0.0),\n",
       " (0, -0.0010744023636852001),\n",
       " (2, 0.0005372011818426001),\n",
       " (0, -0.0),\n",
       " (1, -0.00026860059092130003),\n",
       " (2, 0.0005372011818426001),\n",
       " (0, -0.00026860059092130003),\n",
       " (1, -0.00026860059092130003),\n",
       " (5, 0.0013430029546065002),\n",
       " (6, 0.0013430029546065002),\n",
       " (0, -0.0013430029546065002),\n",
       " (0, -0.0018802041364491002),\n",
       " (0, -0.0),\n",
       " (2, 0.0005372011818426001),\n",
       " (2, 0.0005372011818426001),\n",
       " (1, -0.00026860059092130003),\n",
       " (0, -0.0005372011818426001),\n",
       " (0, -0.00026860059092130003),\n",
       " (0, -0.0),\n",
       " (0, -0.0),\n",
       " (1, 0.00026860059092130003),\n",
       " (0, -0.0),\n",
       " (1, -0.0),\n",
       " (0, -0.0),\n",
       " (0, -0.00026860059092130003),\n",
       " (0, -0.0),\n",
       " (0, -0.0),\n",
       " (4, 0.0010744023636852001),\n",
       " (0, -0.0),\n",
       " (0, -0.0010744023636852001),\n",
       " (0, -0.0),\n",
       " (0, -0.0),\n",
       " (0, -0.0),\n",
       " (0, -0.0),\n",
       " (51, 0.0136986301369863),\n",
       " (0, -0.0),\n",
       " (0, -0.0136986301369863),\n",
       " (0, -0.0),\n",
       " (0, -0.0),\n",
       " (0, -0.0),\n",
       " (0, -0.0),\n",
       " (0, -0.0),\n",
       " (0, -0.0),\n",
       " (0, -0.0),\n",
       " (0, -0.0),\n",
       " (0, -0.0),\n",
       " (0, -0.0),\n",
       " (0, -0.0),\n",
       " (4, 0.0010744023636852001),\n",
       " (0, -0.0),\n",
       " (0, -0.0010744023636852001),\n",
       " (0, -0.0),\n",
       " (0, -0.0),\n",
       " (0, -0.0),\n",
       " (0, -0.0),\n",
       " (3, 0.0008058017727639),\n",
       " (0, -0.0),\n",
       " (0, -0.0008058017727639),\n",
       " (0, -0.0),\n",
       " (0, -0.0),\n",
       " (0, -0.0),\n",
       " (0, -0.0),\n",
       " (3, 0.0008058017727639),\n",
       " (0, -0.0),\n",
       " (0, -0.0008058017727639),\n",
       " (0, -0.0),\n",
       " (0, -0.0),\n",
       " (0, -0.0),\n",
       " (0, -0.0),\n",
       " (5, 0.0013430029546065002),\n",
       " (0, -0.0),\n",
       " (0, -0.0013430029546065002),\n",
       " (0, -0.0),\n",
       " (0, -0.0),\n",
       " (0, -0.0),\n",
       " (0, -0.0),\n",
       " (1, 0.00026860059092130003),\n",
       " (0, -0.0),\n",
       " (2, 0.00026860059092130003),\n",
       " (1, 0.00026860059092130003),\n",
       " (57, 0.014773032500671501),\n",
       " (64, 0.016921837228041903),\n",
       " (12, -0.012355627182379801),\n",
       " (0, -0.0228310502283105),\n",
       " (0, -0.0032232070910556),\n",
       " (0, -0.0),\n",
       " (0, -0.0),\n",
       " (0, -0.0),\n",
       " (0, -0.0),\n",
       " (1, 0.00026860059092130003),\n",
       " (0, -0.0),\n",
       " (2, 0.00026860059092130003),\n",
       " (1, 0.00026860059092130003),\n",
       " (0, -0.0005372011818426001),\n",
       " (0, -0.00026860059092130003),\n",
       " (0, -0.0),\n",
       " (0, -0.0),\n",
       " (0, -0.0),\n",
       " (0, -0.0),\n",
       " (1, 0.00026860059092130003),\n",
       " (0, -0.0),\n",
       " (2, 0.00026860059092130003),\n",
       " (1, 0.00026860059092130003),\n",
       " (0, -0.0005372011818426001),\n",
       " (0, -0.00026860059092130003),\n",
       " (0, -0.0),\n",
       " (0, -0.0),\n",
       " (0, -0.0),\n",
       " (0, -0.0),\n",
       " (1, 0.00026860059092130003),\n",
       " (0, -0.0),\n",
       " (2, 0.00026860059092130003),\n",
       " (1, 0.00026860059092130003),\n",
       " (1, -0.00026860059092130003),\n",
       " (8, 0.0018802041364491002),\n",
       " (3, 0.0005372011818426001),\n",
       " (2, -0.0016116035455278),\n",
       " (1, -0.0005372011818426001),\n",
       " (0, -0.0005372011818426001),\n",
       " (1, -0.0),\n",
       " (2, 0.0005372011818426001),\n",
       " (0, -0.00026860059092130003),\n",
       " (0, -0.0005372011818426001),\n",
       " (0, -0.0),\n",
       " (0, -0.0),\n",
       " (0, -0.0),\n",
       " (0, -0.0),\n",
       " (2, 0.0005372011818426001),\n",
       " (0, -0.0),\n",
       " (0, -0.0005372011818426001),\n",
       " (0, -0.0),\n",
       " (0, -0.0),\n",
       " (0, -0.0),\n",
       " (0, -0.0),\n",
       " (1, 0.00026860059092130003),\n",
       " (0, -0.0),\n",
       " (0, -0.00026860059092130003),\n",
       " (0, -0.0),\n",
       " (0, -0.0),\n",
       " (0, -0.0),\n",
       " (0, -0.0),\n",
       " (0, -0.0),\n",
       " (0, -0.0),\n",
       " (1, 0.00026860059092130003),\n",
       " (0, -0.0),\n",
       " (0, -0.00026860059092130003),\n",
       " (3, 0.0008058017727639),\n",
       " (5, 0.0013430029546065002),\n",
       " (17, 0.0037604082728982004),\n",
       " (2, -0.0008058017727639),\n",
       " (6, -0.0029546065001343),\n",
       " (1, -0.00026860059092130003),\n",
       " (1, -0.0013430029546065002),\n",
       " (2, 0.00026860059092130003),\n",
       " (0, -0.00026860059092130003),\n",
       " (1, -0.00026860059092130003),\n",
       " (3, 0.0008058017727639),\n",
       " (2, 0.00026860059092130003),\n",
       " (1, -0.0005372011818426001),\n",
       " (43, 0.0110126242277733),\n",
       " (1, -0.0),\n",
       " (1, -0.011281224818694601),\n",
       " (0, -0.00026860059092130003),\n",
       " (1, -0.0),\n",
       " (221, 0.0593607305936073),\n",
       " (9, 0.0021488047273704003),\n",
       " (1303, 0.2906258393768466),\n",
       " (0, -0.0024174053182917004),\n",
       " (1, -0.34971796937953264),\n",
       " (0, -0.0),\n",
       " (1, -0.0),\n",
       " (0, -0.0),\n",
       " (2, 0.00026860059092130003),\n",
       " (1010, 0.27128659683051304),\n",
       " (0, -0.0005372011818426001),\n",
       " (0, -0.27128659683051304),\n",
       " (1, 0.00026860059092130003),\n",
       " (13, 0.0034918076819769003),\n",
       " (0, -0.00026860059092130003),\n",
       " (1, -0.0034918076819769003),\n",
       " (1, 0.00026860059092130003),\n",
       " (2, 0.00026860059092130003),\n",
       " (0, -0.00026860059092130003),\n",
       " (1, -0.00026860059092130003),\n",
       " (60, 0.016116035455278),\n",
       " (1, -0.0),\n",
       " (16, -0.0128928283642224),\n",
       " (4, 0.0008058017727639),\n",
       " (6, -0.0026860059092130005),\n",
       " (0, -0.0010744023636852001),\n",
       " (1, -0.0013430029546065002),\n",
       " (1, 0.00026860059092130003),\n",
       " (1, -0.0),\n",
       " (0, -0.00026860059092130003),\n",
       " (2, 0.00026860059092130003),\n",
       " (0, -0.0),\n",
       " (0, -0.0005372011818426001),\n",
       " (0, -0.0),\n",
       " (0, -0.0),\n",
       " (0, -0.0),\n",
       " (0, -0.0),\n",
       " (0, -0.0),\n",
       " (0, -0.0),\n",
       " (0, -0.0),\n",
       " (0, -0.0),\n",
       " (0, -0.0),\n",
       " (0, -0.0),\n",
       " (0, -0.0),\n",
       " (0, -0.0),\n",
       " (0, -0.0),\n",
       " (0, -0.0),\n",
       " (0, -0.0),\n",
       " (0, -0.0),\n",
       " (0, -0.0),\n",
       " (0, -0.0),\n",
       " (0, -0.0),\n",
       " (0, -0.0),\n",
       " (0, -0.0),\n",
       " (0, -0.0),\n",
       " (0, -0.0),\n",
       " (0, -0.0),\n",
       " (1, 0.00026860059092130003),\n",
       " (0, -0.0),\n",
       " (0, -0.00026860059092130003),\n",
       " (0, -0.0),\n",
       " (1, 0.00026860059092130003),\n",
       " (0, -0.0),\n",
       " (0, -0.00026860059092130003),\n",
       " (0, -0.0),\n",
       " (1, 0.00026860059092130003),\n",
       " (0, -0.0),\n",
       " (0, -0.00026860059092130003),\n",
       " (0, -0.0),\n",
       " (1, 0.00026860059092130003),\n",
       " (0, -0.0),\n",
       " (0, -0.00026860059092130003),\n",
       " (0, -0.0),\n",
       " (1, 0.00026860059092130003),\n",
       " (0, -0.0),\n",
       " (0, -0.00026860059092130003),\n",
       " (0, -0.0),\n",
       " (1, 0.00026860059092130003),\n",
       " (0, -0.0),\n",
       " (0, -0.00026860059092130003),\n",
       " (0, -0.0),\n",
       " (1, 0.00026860059092130003),\n",
       " (0, -0.0),\n",
       " (0, -0.00026860059092130003),\n",
       " (0, -0.0),\n",
       " (0, -0.0),\n",
       " (0, -0.0),\n",
       " (0, -0.0),\n",
       " (0, -0.0),\n",
       " (0, -0.0),\n",
       " (0, -0.0),\n",
       " (30, 0.008058017727639),\n",
       " (1, 0.00026860059092130003),\n",
       " (1, -0.0077894171367177),\n",
       " (6, 0.0013430029546065002),\n",
       " (13, 0.0032232070910556),\n",
       " (0, -0.0016116035455278),\n",
       " (9, -0.0010744023636852001),\n",
       " (8, 0.0021488047273704003),\n",
       " (9, 0.0010744023636852001),\n",
       " (13, 0.0024174053182917004),\n",
       " (2, -0.0008058017727639),\n",
       " (4, -0.0024174053182917004),\n",
       " (1, -0.00026860059092130003),\n",
       " (1, -0.0008058017727639),\n",
       " (1, -0.0),\n",
       " (1, -0.0),\n",
       " (2, 0.00026860059092130003),\n",
       " (5, 0.0010744023636852001),\n",
       " (1, -0.00026860059092130003),\n",
       " (0, -0.0013430029546065002),\n",
       " (1, -0.0),\n",
       " (2, 0.0005372011818426001),\n",
       " (2, 0.00026860059092130003),\n",
       " (2, -0.0),\n",
       " (1, -0.00026860059092130003),\n",
       " (1, -0.00026860059092130003),\n",
       " (5, 0.0010744023636852001),\n",
       " (0, -0.00026860059092130003),\n",
       " (0, -0.0013430029546065002),\n",
       " (0, -0.0),\n",
       " (2, 0.0005372011818426001),\n",
       " (1, 0.00026860059092130003),\n",
       " (0, -0.0),\n",
       " (0, -0.0),\n",
       " (0, -0.0),\n",
       " (0, -0.0),\n",
       " (1, 0.00026860059092130003),\n",
       " (114, 0.030620467365028204),\n",
       " (93, 0.024711254364759603),\n",
       " (0, -0.026054257319366104),\n",
       " (0, -0.0249798549556809),\n",
       " (0, -0.0),\n",
       " (2, 0.0005372011818426001),\n",
       " (5, 0.0013430029546065002),\n",
       " (9, 0.0018802041364491002),\n",
       " (2, -0.0008058017727639),\n",
       " (16, 0.0018802041364491002),\n",
       " (0, -0.0008058017727639),\n",
       " (5, -0.0040290088638195),\n",
       " (6, 0.0016116035455278),\n",
       " (6, 0.00026860059092130003),\n",
       " (5, -0.00026860059092130003),\n",
       " (8, 0.0005372011818426001),\n",
       " (3, -0.0005372011818426001),\n",
       " (21, 0.0034918076819769003),\n",
       " (10, 0.0018802041364491002),\n",
       " (8, -0.0034918076819769003),\n",
       " (4, -0.0016116035455278),\n",
       " (0, -0.0021488047273704003),\n",
       " (4, -0.0),\n",
       " (12, 0.0032232070910556),\n",
       " (2, -0.0005372011818426001),\n",
       " (3, -0.0024174053182917004),\n",
       " (2, -0.0),\n",
       " (2, -0.00026860059092130003),\n",
       " (2, -0.0),\n",
       " (1, -0.00026860059092130003),\n",
       " (3, 0.00026860059092130003),\n",
       " (7, 0.0016116035455278),\n",
       " (1, -0.0005372011818426001),\n",
       " (21, 0.0034918076819769003),\n",
       " (1, -0.0),\n",
       " (1, -0.0056406124093473006),\n",
       " (6, 0.0013430029546065002),\n",
       " (2, 0.00026860059092130003),\n",
       " (2, -0.0010744023636852001),\n",
       " (3, 0.00026860059092130003),\n",
       " (1, -0.00026860059092130003),\n",
       " (1, -0.0005372011818426001),\n",
       " (5, 0.0010744023636852001),\n",
       " (3, 0.0005372011818426001),\n",
       " (1, -0.0010744023636852001),\n",
       " (1, -0.0005372011818426001),\n",
       " (1, -0.0),\n",
       " (1, -0.0),\n",
       " (1, -0.0),\n",
       " (1, -0.0),\n",
       " (2, 0.00026860059092130003),\n",
       " (3, 0.0005372011818426001),\n",
       " (1, -0.00026860059092130003),\n",
       " (2, -0.00026860059092130003),\n",
       " (1, -0.0),\n",
       " (3, 0.00026860059092130003),\n",
       " (0, -0.00026860059092130003),\n",
       " (0, -0.0008058017727639),\n",
       " (5, 0.0013430029546065002),\n",
       " (0, -0.0),\n",
       " (1, -0.0010744023636852001),\n",
       " (0, -0.0),\n",
       " (2, 0.00026860059092130003),\n",
       " (1, 0.00026860059092130003),\n",
       " (7, 0.0013430029546065002),\n",
       " (2, 0.00026860059092130003),\n",
       " (1, -0.0016116035455278),\n",
       " (0, -0.0005372011818426001),\n",
       " (0, -0.00026860059092130003),\n",
       " (0, -0.0),\n",
       " (1, 0.00026860059092130003),\n",
       " (1, 0.00026860059092130003),\n",
       " (0, -0.00026860059092130003),\n",
       " (1, -0.0),\n",
       " (1, 0.00026860059092130003),\n",
       " (7, 0.0016116035455278),\n",
       " (1, -0.0),\n",
       " (1, -0.0016116035455278),\n",
       " (1, -0.0),\n",
       " (1, -0.0),\n",
       " (1, -0.0),\n",
       " (1, -0.0),\n",
       " (14, 0.0034918076819769003),\n",
       " (1, -0.0),\n",
       " (1, -0.0034918076819769003),\n",
       " (0, -0.00026860059092130003),\n",
       " (1, -0.0),\n",
       " (4, 0.0010744023636852001),\n",
       " (4, 0.0008058017727639),\n",
       " (1, -0.0008058017727639),\n",
       " (2, -0.0005372011818426001),\n",
       " (2, 0.00026860059092130003),\n",
       " (2, -0.0),\n",
       " (12, 0.0026860059092130005),\n",
       " (3, 0.00026860059092130003),\n",
       " (2, -0.0026860059092130005),\n",
       " (3, -0.0),\n",
       " (12, 0.0026860059092130005),\n",
       " (0, -0.0008058017727639),\n",
       " (0, -0.0032232070910556),\n",
       " (0, -0.0),\n",
       " (0, -0.0),\n",
       " (1, 0.00026860059092130003),\n",
       " (3, 0.0008058017727639),\n",
       " (0, -0.00026860059092130003),\n",
       " (3, -0.0),\n",
       " (1, 0.00026860059092130003),\n",
       " (5, 0.0005372011818426001),\n",
       " (1, -0.0),\n",
       " (16, 0.0029546065001343),\n",
       " (9, 0.0021488047273704003),\n",
       " (0, -0.004834810636583401),\n",
       " (1, -0.0021488047273704003),\n",
       " (1, 0.00026860059092130003),\n",
       " (1, -0.0),\n",
       " (1, -0.0),\n",
       " (1, -0.0),\n",
       " (1, -0.0),\n",
       " (23, 0.0059092130002686),\n",
       " (1, -0.0),\n",
       " (1, -0.0059092130002686),\n",
       " (0, -0.00026860059092130003),\n",
       " (6, 0.0013430029546065002),\n",
       " (4, 0.0010744023636852001),\n",
       " (2, -0.0010744023636852001),\n",
       " (0, -0.0010744023636852001),\n",
       " (1, -0.00026860059092130003),\n",
       " (0, -0.0),\n",
       " (2, 0.00026860059092130003),\n",
       " (107, 0.028740263228579102),\n",
       " (0, -0.0005372011818426001),\n",
       " (0, -0.0346494762288477),\n",
       " (0, -0.0),\n",
       " (0, -0.0),\n",
       " (0, -0.0),\n",
       " (0, -0.0),\n",
       " (0, -0.0),\n",
       " (0, -0.0),\n",
       " (0, -0.0),\n",
       " (0, -0.0),\n",
       " (0, -0.0),\n",
       " (0, -0.0),\n",
       " (0, -0.0),\n",
       " (0, -0.0),\n",
       " (0, -0.0),\n",
       " (0, -0.0),\n",
       " (0, -0.0),\n",
       " (0, -0.0),\n",
       " (0, -0.0),\n",
       " (0, -0.0),\n",
       " (0, -0.0),\n",
       " (1, 0.00026860059092130003),\n",
       " (0, -0.0),\n",
       " (0, -0.00026860059092130003),\n",
       " (0, -0.0),\n",
       " (1, 0.00026860059092130003),\n",
       " (0, -0.0),\n",
       " (0, -0.00026860059092130003),\n",
       " (2, 0.0005372011818426001),\n",
       " (3, 0.0008058017727639),\n",
       " (1, -0.00026860059092130003),\n",
       " (1, -0.0005372011818426001),\n",
       " (1, -0.0),\n",
       " (7, 0.0016116035455278),\n",
       " (12, 0.0029546065001343),\n",
       " (22, 0.0040290088638195),\n",
       " (1, -0.0029546065001343),\n",
       " (1, -0.0056406124093473006),\n",
       " (2, 0.00026860059092130003),\n",
       " (1, -0.0),\n",
       " (3, 0.00026860059092130003),\n",
       " (0, -0.00026860059092130003),\n",
       " (2, -0.00026860059092130003),\n",
       " (11, 0.0029546065001343),\n",
       " (8, 0.0016116035455278),\n",
       " (9, -0.0005372011818426001),\n",
       " (9, 0.00026860059092130003),\n",
       " (9, -0.0),\n",
       " (1, -0.0021488047273704003),\n",
       " (2, -0.0018802041364491002),\n",
       " (1, -0.0),\n",
       " (1, -0.00026860059092130003),\n",
       " (1, -0.0),\n",
       " (1, -0.0),\n",
       " (1, -0.0),\n",
       " (0, -0.00026860059092130003),\n",
       " (0, -0.00026860059092130003),\n",
       " (0, -0.0),\n",
       " ...]"
      ]
     },
     "execution_count": 132,
     "metadata": {},
     "output_type": "execute_result"
    }
   ],
   "source": [
    "points"
   ]
  },
  {
   "cell_type": "code",
   "execution_count": 133,
   "id": "dffd7154",
   "metadata": {},
   "outputs": [
    {
     "ename": "NameError",
     "evalue": "name 'log' is not defined",
     "output_type": "error",
     "traceback": [
      "\u001b[0;31m---------------------------------------------------------------------------\u001b[0m",
      "\u001b[0;31mNameError\u001b[0m                                 Traceback (most recent call last)",
      "Input \u001b[0;32mIn [133]\u001b[0m, in \u001b[0;36m<module>\u001b[0;34m\u001b[0m\n\u001b[1;32m      1\u001b[0m x \u001b[38;5;241m=\u001b[39m points[\u001b[38;5;241m5\u001b[39m]\n\u001b[1;32m      2\u001b[0m y \u001b[38;5;241m=\u001b[39m points[\u001b[38;5;241m11\u001b[39m] \n\u001b[0;32m----> 3\u001b[0m slope \u001b[38;5;241m=\u001b[39m \u001b[43mlog\u001b[49m(y[\u001b[38;5;241m1\u001b[39m]\u001b[38;5;241m/\u001b[39mx[\u001b[38;5;241m1\u001b[39m]) \u001b[38;5;241m/\u001b[39m log(y[\u001b[38;5;241m0\u001b[39m]\u001b[38;5;241m/\u001b[39mx[\u001b[38;5;241m0\u001b[39m])\n\u001b[1;32m      4\u001b[0m slope\n",
      "\u001b[0;31mNameError\u001b[0m: name 'log' is not defined"
     ]
    }
   ],
   "source": [
    "x = points[5]\n",
    "y = points[11] \n",
    "slope = log(y[1]/x[1]) / log(y[0]/x[0])\n",
    "slope"
   ]
  },
  {
   "cell_type": "code",
   "execution_count": null,
   "id": "f48bf87a",
   "metadata": {},
   "outputs": [],
   "source": []
  },
  {
   "cell_type": "code",
   "execution_count": null,
   "id": "d0593e7f",
   "metadata": {},
   "outputs": [],
   "source": []
  },
  {
   "cell_type": "code",
   "execution_count": null,
   "id": "f86c31b8",
   "metadata": {},
   "outputs": [],
   "source": []
  },
  {
   "cell_type": "code",
   "execution_count": null,
   "id": "d4a618ab",
   "metadata": {},
   "outputs": [],
   "source": []
  }
 ],
 "metadata": {
  "kernelspec": {
   "display_name": "Python 3 (ipykernel)",
   "language": "python",
   "name": "python3"
  },
  "language_info": {
   "codemirror_mode": {
    "name": "ipython",
    "version": 3
   },
   "file_extension": ".py",
   "mimetype": "text/x-python",
   "name": "python",
   "nbconvert_exporter": "python",
   "pygments_lexer": "ipython3",
   "version": "3.8.10"
  }
 },
 "nbformat": 4,
 "nbformat_minor": 5
}
