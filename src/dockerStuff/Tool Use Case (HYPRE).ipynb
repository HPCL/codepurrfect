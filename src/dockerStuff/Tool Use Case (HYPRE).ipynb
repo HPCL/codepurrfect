{
 "cells": [
  {
   "cell_type": "code",
   "execution_count": 1,
   "metadata": {},
   "outputs": [],
   "source": [
    "import pandas as pd \n",
    "from matplotlib import pyplot as plt \n",
    "import numpy as np \n",
    "import scipy "
   ]
  },
  {
   "cell_type": "code",
   "execution_count": 2,
   "metadata": {},
   "outputs": [],
   "source": [
    "import networkx as nx"
   ]
  },
  {
   "cell_type": "code",
   "execution_count": 3,
   "metadata": {},
   "outputs": [],
   "source": [
    "import os "
   ]
  },
  {
   "cell_type": "markdown",
   "metadata": {},
   "source": [
    "# Motivation"
   ]
  },
  {
   "cell_type": "markdown",
   "metadata": {},
   "source": [
    "* A quality product is one that satisfies its specification. \n",
    "     - Addressed by the product engineers.\n",
    "* A quality product is one that users are happy to work with.\n",
    "     - Could be answered by surveying the product's users.\n",
    "* A quality product is one that has lasted for a long time with minimal, if any, breaks. \n",
    "     - Could be answered by looking at bug fix rates/counts. \n",
    "* A quality product is one with observable properties that fall within a good interval of some quality standard. \n",
    "     - Could be answered by defining a standard with desirable properties, a tool for \"observing\" these properties, and analysing the resulting numbers. "
   ]
  },
  {
   "cell_type": "markdown",
   "metadata": {},
   "source": [
    "## Signature-Based Static Analysis"
   ]
  },
  {
   "cell_type": "markdown",
   "metadata": {},
   "source": [
    "* In contrast to \"learning-based,\" signature-based static analysis can be thought to be a collection of techniques for observing the structure of programs, which relies on a pre-defined database of patterns (or anti-patterns) against which judgments relating to the quality of the program being observed can be made. "
   ]
  },
  {
   "cell_type": "markdown",
   "metadata": {},
   "source": [
    "* One such \"database of patterns\" is the recently released \"ISO/IEC 5055\" International Standard for automated source code quality measures---measures which, according to the authors, \"were calculated from detecting and counting violations of good architectural and coding practices in the source code that could result in unacceptable operational risks or excessive costs.\""
   ]
  },
  {
   "cell_type": "markdown",
   "metadata": {},
   "source": [
    "* This notebook presents a use case for a static analysis tool that is currently under development here at the University of Oregon for \"detecting and counting violations\" in coding practices as specified by the ISO/IEC 5055 standard. "
   ]
  },
  {
   "cell_type": "markdown",
   "metadata": {},
   "source": [
    "* Conformance: automated, objective, transparent, verifiable. "
   ]
  },
  {
   "cell_type": "markdown",
   "metadata": {},
   "source": [
    "## Why a New Tool? "
   ]
  },
  {
   "cell_type": "markdown",
   "metadata": {},
   "source": [
    "*Aren't tools that can do this type of thing already in abundance? What justification is there for trying to develop a new type of tool?* \n",
    "\n",
    "While it is true that there exists a not so small number of static analysis tools (see for example [this wikipedia article](https://en.wikipedia.org/wiki/List_of_tools_for_static_code_analysis)), most of them are, unfortunately, proprietary. Further, of those that are not proprietary and are still non-retired, only a small number support C/C++ codes. Finally, none of these tools claim to rely on the same ISO/IEC 5055 standard which we are targeting.\n",
    "\n"
   ]
  },
  {
   "cell_type": "markdown",
   "metadata": {},
   "source": [
    "# The Tool : What Can It Do?"
   ]
  },
  {
   "cell_type": "markdown",
   "metadata": {},
   "source": [
    "### The Gathered Data"
   ]
  },
  {
   "cell_type": "markdown",
   "metadata": {},
   "source": [
    "Given a C/C++ repository which can be built using CMake, data related to various aspects of the standard can be gathered with `/static/driver/main.py --init --all`. The following loads that data so we can look at how it is structured:"
   ]
  },
  {
   "cell_type": "code",
   "execution_count": 4,
   "metadata": {},
   "outputs": [
    {
     "name": "stdout",
     "output_type": "stream",
     "text": [
      "v2.22.0\n",
      "v2.22.1\n",
      "v2.19.0\n",
      "v2.13.0\n",
      "v2.17.0\n",
      "v2.11.2\n",
      "v2.21.0\n",
      "v2.18.2\n",
      "v2.14.0\n",
      "v2.20.0\n",
      "v2.24.0\n",
      "v2.11.0\n",
      "v2.15.1\n",
      "v2.11.1\n",
      "v2.15.0\n",
      "v2.23.0\n",
      "v2.12.0\n",
      "v2.18.0\n",
      "v2.16.0\n",
      "v2.18.1\n",
      "v2.12.1\n"
     ]
    }
   ],
   "source": [
    "logs_path     = \"logs/hypre\"\n",
    "version_paths = []\n",
    "for path in os.listdir(logs_path): \n",
    "    print(path)\n",
    "    version_paths.append(path)"
   ]
  },
  {
   "cell_type": "code",
   "execution_count": 5,
   "metadata": {},
   "outputs": [
    {
     "name": "stdout",
     "output_type": "stream",
     "text": [
      "hypre-ast-metrics\n",
      "hypre-qmetrics\n",
      "hypre-cgmetrics.csv\n",
      "hypre-ll\n",
      "hypre-callgraph\n",
      "hypre-pp-metrics\n",
      "hypre-funcnames.txt\n",
      "hypre-callgraph.TabOne\n",
      "hypre-qmetrics.csv\n"
     ]
    }
   ],
   "source": [
    "test_version_path = '/'.join([logs_path, \"v2.24.0\", \".quality-uo\"]) \n",
    "for path in os.listdir(test_version_path): \n",
    "    print(path)"
   ]
  },
  {
   "cell_type": "code",
   "execution_count": 37,
   "metadata": {},
   "outputs": [],
   "source": [
    "test_q_metrics_path = '/'.join([test_version_path, \"hypre-qmetrics\"]) \n",
    "for path in os.listdir(test_q_metrics_path): \n",
    "    if os.path.isdir(path):\n",
    "        print(path)"
   ]
  },
  {
   "cell_type": "code",
   "execution_count": 6,
   "metadata": {},
   "outputs": [
    {
     "name": "stdout",
     "output_type": "stream",
     "text": [
      "cwe-1087-cls-vrt-no-vrt-dstrctr\n",
      "cwe-1055\n",
      "visit-switch\n",
      "goto-out-of-switch\n",
      "cwe-1079-parcls-no-vrt-dstrctr\n"
     ]
    }
   ],
   "source": [
    "test_ast_metrics_path = '/'.join([test_version_path, \"hypre-ast-metrics\"])\n",
    "for path in os.listdir(test_ast_metrics_path): \n",
    "    print(path)"
   ]
  },
  {
   "cell_type": "code",
   "execution_count": 7,
   "metadata": {},
   "outputs": [
    {
     "name": "stdout",
     "output_type": "stream",
     "text": [
      "_hypre_src_struct_ls_red_black_constantcoef_gs_metrics.csv\n",
      "_hypre_src_struct_ls_sparse_msg2_setup_rap_metrics.csv\n",
      "_hypre_src_parcsr_ls_par_nodal_systems_metrics.csv\n",
      "_hypre_src_struct_ls_semi_restrict_metrics.csv\n",
      "_hypre_src_struct_mv_communication_info_metrics.csv\n",
      "_hypre_src_parcsr_block_mv_csr_block_matrix_metrics.csv\n",
      "_hypre_src_sstruct_ls_HYPRE_sstruct_split_metrics.csv\n",
      "_hypre_src_struct_ls_cyclic_reduction_metrics.csv\n",
      "_hypre_src_parcsr_ls_par_cheby_metrics.csv\n",
      "_hypre_src_struct_ls_pfmg_setup_interp_metrics.csv\n",
      "_hypre_src_struct_ls_semi_setup_rap_metrics.csv\n",
      "_hypre_src_struct_ls_sparse_msg_interp_metrics.csv\n",
      "_hypre_src_struct_ls_smg2_setup_rap_metrics.csv\n",
      "_hypre_src_parcsr_ls_ams_metrics.csv\n",
      "_hypre_src_struct_ls_red_black_gs_metrics.csv\n",
      "_hypre_src_struct_ls_smg_residual_metrics.csv\n",
      "_hypre_src_struct_ls_smg_setup_rap_metrics.csv\n",
      "_hypre_src_sstruct_ls_node_relax_metrics.csv\n",
      "_hypre_src_parcsr_ls_par_amg_solveT_metrics.csv\n",
      "_hypre_src_parcsr_ls_par_cr_metrics.csv\n",
      "_hypre_src_parcsr_ls_par_amg_setup_metrics.csv\n",
      "_hypre_src_struct_ls_semi_metrics.csv\n",
      "_hypre_src_struct_ls_sparse_msg3_setup_rap_metrics.csv\n",
      "_hypre_src_sstruct_mv_HYPRE_sstruct_graph_metrics.csv\n",
      "_hypre_src_sstruct_ls_sys_pfmg_relax_metrics.csv\n",
      "_hypre_src_struct_ls_semi_interp_metrics.csv\n",
      "_hypre_src_struct_mv_box_algebra_metrics.csv\n",
      "_hypre_src_struct_ls_smg_setup_interp_metrics.csv\n",
      "_hypre_src_parcsr_ls_par_cycle_metrics.csv\n",
      "_hypre_src_struct_ls_smg3_setup_rap_metrics.csv\n",
      "_hypre_src_parcsr_ls_par_ilu_metrics.csv\n",
      "_hypre_src_struct_ls_sparse_msg_setup_rap_metrics.csv\n",
      "_hypre_src_parcsr_ls_ads_metrics.csv\n",
      "_hypre_src_struct_ls_smg_relax_metrics.csv\n",
      "_hypre_src_sstruct_ls_fac_amr_fcoarsen_metrics.csv\n",
      "_hypre_src_parcsr_ls_par_ilu_setup_metrics.csv\n",
      "_hypre_src_struct_ls_pfmg_setup_rap_metrics.csv\n",
      "_hypre_src_parcsr_ls_par_relax_metrics.csv\n",
      "_hypre_src_blas_dnrm2_metrics.csv\n",
      "_hypre_src_utilities_printf_metrics.csv\n",
      "hypre-visit-switch.csv\n",
      "_hypre_src_struct_ls_sparse_msg_restrict_metrics.csv\n"
     ]
    }
   ],
   "source": [
    "test_visit_switch = '/'.join([test_ast_metrics_path, \"visit-switch\"]) \n",
    "for path in os.listdir(test_visit_switch): \n",
    "    print(path)"
   ]
  },
  {
   "cell_type": "code",
   "execution_count": 8,
   "metadata": {},
   "outputs": [],
   "source": [
    "data = {v : {} for v in version_paths} \n",
    "data_version_paths = ['/'.join([logs_path, v, \".quality-uo\"]) for v in version_paths]\n",
    "for dvp, v in zip(data_version_paths, version_paths): \n",
    "    qmetrics_path_p  = '/'.join([dvp, \"hypre-qmetrics.csv\"]) \n",
    "    callgraph_path_p = '/'.join([dvp, \"hypre-callgraph.TabOne\"]) \n",
    "    funcnames_path_p = '/'.join([dvp, \"hypre-funcnames.txt\"]) \n",
    "    cgmetrics_path_p = '/'.join([dvp, \"hypre-cgmetrics.csv\"]) \n",
    "    \n",
    "    data[v][\"qmetrics\"]  = pd.read_csv(qmetrics_path_p)\n",
    "    data[v][\"callgraph\"] = nx.read_edgelist(callgraph_path_p, create_using=nx.DiGraph) \n",
    "    funcnames_v = []\n",
    "    with open(funcnames_path_p, 'r') as fnames_reader: \n",
    "        funcnames_v = fnames_reader.readlines() \n",
    "    data[v][\"funcnames\"]        = pd.DataFrame(funcnames_v)\n",
    "    data[v][\"cgmetrics_path_p\"] = pd.read_csv(cgmetrics_path_p)\n",
    "    \n",
    "    data[v][\"ast_metrics\"] = {}\n",
    "    \n",
    "    ast_metrics = os.listdir('/'.join([dvp, \"hypre-ast-metrics\"]))\n",
    "    ast_metrics_path_ps = ['/'.join([dvp, \"hypre-ast-metrics\", metric]) for metric in ast_metrics]\n",
    "    for ast_m_path, metric in zip(ast_metrics_path_ps, ast_metrics): \n",
    "        m_path_file = '/'.join([dvp, \"hypre-ast-metrics\", metric, \"hypre\" + \"-\" + metric + \".csv\"])\n",
    "        if os.stat(m_path_file).st_size != 0:\n",
    "            if metric == \"visit-switch\":\n",
    "                data[v][\"ast_metrics\"][metric] = pd.read_csv(m_path_file, names=[\"Message\", \"Location\"])\n",
    "    "
   ]
  },
  {
   "cell_type": "code",
   "execution_count": 9,
   "metadata": {},
   "outputs": [
    {
     "data": {
      "text/html": [
       "<div>\n",
       "<style scoped>\n",
       "    .dataframe tbody tr th:only-of-type {\n",
       "        vertical-align: middle;\n",
       "    }\n",
       "\n",
       "    .dataframe tbody tr th {\n",
       "        vertical-align: top;\n",
       "    }\n",
       "\n",
       "    .dataframe thead th {\n",
       "        text-align: right;\n",
       "    }\n",
       "</style>\n",
       "<table border=\"1\" class=\"dataframe\">\n",
       "  <thead>\n",
       "    <tr style=\"text-align: right;\">\n",
       "      <th></th>\n",
       "      <th>Name</th>\n",
       "      <th>ArgCount</th>\n",
       "      <th>InstrCount</th>\n",
       "      <th>UniqVals</th>\n",
       "      <th>UniqOps</th>\n",
       "      <th>TotalOps</th>\n",
       "      <th>CC</th>\n",
       "    </tr>\n",
       "  </thead>\n",
       "  <tbody>\n",
       "    <tr>\n",
       "      <th>0</th>\n",
       "      <td>Axpy</td>\n",
       "      <td>4 4 4 4</td>\n",
       "      <td>0 18 0 18</td>\n",
       "      <td>0 0 0 0</td>\n",
       "      <td>0 1075871752 0 1075871752</td>\n",
       "      <td>0 1075871752 0 1075871752</td>\n",
       "      <td>1 3 1 3</td>\n",
       "    </tr>\n",
       "    <tr>\n",
       "      <th>1</th>\n",
       "      <td>ComputeValuesNonsym</td>\n",
       "      <td>4</td>\n",
       "      <td>325</td>\n",
       "      <td>0</td>\n",
       "      <td>0</td>\n",
       "      <td>0</td>\n",
       "      <td>21</td>\n",
       "    </tr>\n",
       "    <tr>\n",
       "      <th>2</th>\n",
       "      <td>ComputeValuesSym</td>\n",
       "      <td>5</td>\n",
       "      <td>277</td>\n",
       "      <td>0</td>\n",
       "      <td>0</td>\n",
       "      <td>0</td>\n",
       "      <td>23</td>\n",
       "    </tr>\n",
       "    <tr>\n",
       "      <th>3</th>\n",
       "      <td>CopyVec</td>\n",
       "      <td>3 3 3 3</td>\n",
       "      <td>0 15 0 15</td>\n",
       "      <td>0 0 0 0</td>\n",
       "      <td>0 32776 0 32776</td>\n",
       "      <td>0 32776 0 32776</td>\n",
       "      <td>1 3 1 3</td>\n",
       "    </tr>\n",
       "    <tr>\n",
       "      <th>4</th>\n",
       "      <td>DiagScaleCreate</td>\n",
       "      <td>2 2</td>\n",
       "      <td>311 0</td>\n",
       "      <td>0 0</td>\n",
       "      <td>8388608 0</td>\n",
       "      <td>143130624 0</td>\n",
       "      <td>22 1</td>\n",
       "    </tr>\n",
       "  </tbody>\n",
       "</table>\n",
       "</div>"
      ],
      "text/plain": [
       "                  Name  ArgCount  InstrCount  UniqVals  \\\n",
       "0                 Axpy   4 4 4 4   0 18 0 18   0 0 0 0   \n",
       "1  ComputeValuesNonsym         4         325         0   \n",
       "2     ComputeValuesSym         5         277         0   \n",
       "3              CopyVec   3 3 3 3   0 15 0 15   0 0 0 0   \n",
       "4      DiagScaleCreate       2 2       311 0       0 0   \n",
       "\n",
       "                      UniqOps                    TotalOps        CC  \n",
       "0   0 1075871752 0 1075871752   0 1075871752 0 1075871752   1 3 1 3  \n",
       "1                           0                           0        21  \n",
       "2                           0                           0        23  \n",
       "3             0 32776 0 32776             0 32776 0 32776   1 3 1 3  \n",
       "4                   8388608 0                 143130624 0      22 1  "
      ]
     },
     "execution_count": 9,
     "metadata": {},
     "output_type": "execute_result"
    }
   ],
   "source": [
    "data[\"v2.24.0\"][\"qmetrics\"].head()"
   ]
  },
  {
   "cell_type": "code",
   "execution_count": 10,
   "metadata": {},
   "outputs": [
    {
     "data": {
      "text/plain": [
       "<networkx.classes.digraph.DiGraph at 0x7fe8928f9fa0>"
      ]
     },
     "execution_count": 10,
     "metadata": {},
     "output_type": "execute_result"
    }
   ],
   "source": [
    "data[\"v2.24.0\"][\"callgraph\"]"
   ]
  },
  {
   "cell_type": "code",
   "execution_count": 11,
   "metadata": {},
   "outputs": [
    {
     "data": {
      "text/html": [
       "<div>\n",
       "<style scoped>\n",
       "    .dataframe tbody tr th:only-of-type {\n",
       "        vertical-align: middle;\n",
       "    }\n",
       "\n",
       "    .dataframe tbody tr th {\n",
       "        vertical-align: top;\n",
       "    }\n",
       "\n",
       "    .dataframe thead th {\n",
       "        text-align: right;\n",
       "    }\n",
       "</style>\n",
       "<table border=\"1\" class=\"dataframe\">\n",
       "  <thead>\n",
       "    <tr style=\"text-align: right;\">\n",
       "      <th></th>\n",
       "      <th>0</th>\n",
       "    </tr>\n",
       "  </thead>\n",
       "  <tbody>\n",
       "    <tr>\n",
       "      <th>0</th>\n",
       "      <td>hypre_dsygst\\n</td>\n",
       "    </tr>\n",
       "    <tr>\n",
       "      <th>1</th>\n",
       "      <td>hypre_lapack_lsame\\n</td>\n",
       "    </tr>\n",
       "    <tr>\n",
       "      <th>2</th>\n",
       "      <td>hypre_lapack_xerbla\\n</td>\n",
       "    </tr>\n",
       "    <tr>\n",
       "      <th>3</th>\n",
       "      <td>hypre_ilaenv\\n</td>\n",
       "    </tr>\n",
       "    <tr>\n",
       "      <th>4</th>\n",
       "      <td>hypre_dsygs2\\n</td>\n",
       "    </tr>\n",
       "  </tbody>\n",
       "</table>\n",
       "</div>"
      ],
      "text/plain": [
       "                       0\n",
       "0         hypre_dsygst\\n\n",
       "1   hypre_lapack_lsame\\n\n",
       "2  hypre_lapack_xerbla\\n\n",
       "3         hypre_ilaenv\\n\n",
       "4         hypre_dsygs2\\n"
      ]
     },
     "execution_count": 11,
     "metadata": {},
     "output_type": "execute_result"
    }
   ],
   "source": [
    "data[\"v2.24.0\"][\"funcnames\"].head()"
   ]
  },
  {
   "cell_type": "code",
   "execution_count": 12,
   "metadata": {},
   "outputs": [
    {
     "data": {
      "text/html": [
       "<div>\n",
       "<style scoped>\n",
       "    .dataframe tbody tr th:only-of-type {\n",
       "        vertical-align: middle;\n",
       "    }\n",
       "\n",
       "    .dataframe tbody tr th {\n",
       "        vertical-align: top;\n",
       "    }\n",
       "\n",
       "    .dataframe thead th {\n",
       "        text-align: right;\n",
       "    }\n",
       "</style>\n",
       "<table border=\"1\" class=\"dataframe\">\n",
       "  <thead>\n",
       "    <tr style=\"text-align: right;\">\n",
       "      <th></th>\n",
       "      <th>Unnamed: 0</th>\n",
       "      <th>Name</th>\n",
       "      <th>FanIn</th>\n",
       "      <th>FanOut</th>\n",
       "      <th>IsIsolated</th>\n",
       "      <th>AvgShortestPath</th>\n",
       "      <th>Closeness</th>\n",
       "      <th>Betweenness</th>\n",
       "      <th>Eccentricity_R</th>\n",
       "      <th>Eccentricity_N</th>\n",
       "    </tr>\n",
       "  </thead>\n",
       "  <tbody>\n",
       "    <tr>\n",
       "      <th>0</th>\n",
       "      <td>0</td>\n",
       "      <td>hypre_dsygst</td>\n",
       "      <td>1</td>\n",
       "      <td>8</td>\n",
       "      <td>False</td>\n",
       "      <td>549.888000</td>\n",
       "      <td>0.001819</td>\n",
       "      <td>10.0</td>\n",
       "      <td>6</td>\n",
       "      <td>983</td>\n",
       "    </tr>\n",
       "    <tr>\n",
       "      <th>1</th>\n",
       "      <td>1</td>\n",
       "      <td>hypre_lapack_lsame</td>\n",
       "      <td>15</td>\n",
       "      <td>0</td>\n",
       "      <td>False</td>\n",
       "      <td>inf</td>\n",
       "      <td>0.000000</td>\n",
       "      <td>0.0</td>\n",
       "      <td>0</td>\n",
       "      <td>1</td>\n",
       "    </tr>\n",
       "    <tr>\n",
       "      <th>2</th>\n",
       "      <td>2</td>\n",
       "      <td>hypre_lapack_xerbla</td>\n",
       "      <td>15</td>\n",
       "      <td>1</td>\n",
       "      <td>False</td>\n",
       "      <td>1267.916667</td>\n",
       "      <td>0.000789</td>\n",
       "      <td>258.0</td>\n",
       "      <td>5</td>\n",
       "      <td>983</td>\n",
       "    </tr>\n",
       "    <tr>\n",
       "      <th>3</th>\n",
       "      <td>3</td>\n",
       "      <td>hypre_ilaenv</td>\n",
       "      <td>11</td>\n",
       "      <td>3</td>\n",
       "      <td>False</td>\n",
       "      <td>1790.000000</td>\n",
       "      <td>0.000559</td>\n",
       "      <td>99.0</td>\n",
       "      <td>1</td>\n",
       "      <td>3940</td>\n",
       "    </tr>\n",
       "    <tr>\n",
       "      <th>4</th>\n",
       "      <td>4</td>\n",
       "      <td>hypre_dsygs2</td>\n",
       "      <td>1</td>\n",
       "      <td>0</td>\n",
       "      <td>False</td>\n",
       "      <td>inf</td>\n",
       "      <td>0.000000</td>\n",
       "      <td>0.0</td>\n",
       "      <td>0</td>\n",
       "      <td>4</td>\n",
       "    </tr>\n",
       "  </tbody>\n",
       "</table>\n",
       "</div>"
      ],
      "text/plain": [
       "   Unnamed: 0                 Name  FanIn  FanOut  IsIsolated  \\\n",
       "0           0         hypre_dsygst      1       8       False   \n",
       "1           1   hypre_lapack_lsame     15       0       False   \n",
       "2           2  hypre_lapack_xerbla     15       1       False   \n",
       "3           3         hypre_ilaenv     11       3       False   \n",
       "4           4         hypre_dsygs2      1       0       False   \n",
       "\n",
       "   AvgShortestPath  Closeness  Betweenness  Eccentricity_R  Eccentricity_N  \n",
       "0       549.888000   0.001819         10.0               6             983  \n",
       "1              inf   0.000000          0.0               0               1  \n",
       "2      1267.916667   0.000789        258.0               5             983  \n",
       "3      1790.000000   0.000559         99.0               1            3940  \n",
       "4              inf   0.000000          0.0               0               4  "
      ]
     },
     "execution_count": 12,
     "metadata": {},
     "output_type": "execute_result"
    }
   ],
   "source": [
    "data[\"v2.24.0\"][\"cgmetrics_path_p\"].head()"
   ]
  },
  {
   "cell_type": "markdown",
   "metadata": {},
   "source": [
    "### Example Checks"
   ]
  },
  {
   "cell_type": "markdown",
   "metadata": {},
   "source": [
    "A number of these can be reported by the tool with the report flag. e.g: `/static/driver/main.py --report --metric CC --excess` will print those functions with an excessive cyclomatic complexity value."
   ]
  },
  {
   "cell_type": "markdown",
   "metadata": {},
   "source": [
    "#### Omitted Break in Switch Clause "
   ]
  },
  {
   "cell_type": "code",
   "execution_count": 13,
   "metadata": {},
   "outputs": [
    {
     "data": {
      "text/html": [
       "<div>\n",
       "<style scoped>\n",
       "    .dataframe tbody tr th:only-of-type {\n",
       "        vertical-align: middle;\n",
       "    }\n",
       "\n",
       "    .dataframe tbody tr th {\n",
       "        vertical-align: top;\n",
       "    }\n",
       "\n",
       "    .dataframe thead th {\n",
       "        text-align: right;\n",
       "    }\n",
       "</style>\n",
       "<table border=\"1\" class=\"dataframe\">\n",
       "  <thead>\n",
       "    <tr style=\"text-align: right;\">\n",
       "      <th></th>\n",
       "      <th>Message</th>\n",
       "      <th>Location</th>\n",
       "    </tr>\n",
       "  </thead>\n",
       "  <tbody>\n",
       "    <tr>\n",
       "      <th>0</th>\n",
       "      <td>CASE MISSING BREAK</td>\n",
       "      <td>/hypre/src/struct_ls/sparse_msg3_setup_rap.c:...</td>\n",
       "    </tr>\n",
       "    <tr>\n",
       "      <th>1</th>\n",
       "      <td>CASE MISSING BREAK</td>\n",
       "      <td>/hypre/src/struct_ls/sparse_msg3_setup_rap.c:...</td>\n",
       "    </tr>\n",
       "    <tr>\n",
       "      <th>2</th>\n",
       "      <td>CASE MISSING BREAK</td>\n",
       "      <td>/hypre/src/struct_ls/sparse_msg3_setup_rap.c:...</td>\n",
       "    </tr>\n",
       "    <tr>\n",
       "      <th>3</th>\n",
       "      <td>CASE MISSING BREAK</td>\n",
       "      <td>/hypre/src/struct_ls/sparse_msg3_setup_rap.c:...</td>\n",
       "    </tr>\n",
       "    <tr>\n",
       "      <th>4</th>\n",
       "      <td>CASE MISSING BREAK</td>\n",
       "      <td>/hypre/src/parcsr_ls/par_cheby.c:119:10</td>\n",
       "    </tr>\n",
       "  </tbody>\n",
       "</table>\n",
       "</div>"
      ],
      "text/plain": [
       "              Message                                           Location\n",
       "0  CASE MISSING BREAK   /hypre/src/struct_ls/sparse_msg3_setup_rap.c:...\n",
       "1  CASE MISSING BREAK   /hypre/src/struct_ls/sparse_msg3_setup_rap.c:...\n",
       "2  CASE MISSING BREAK   /hypre/src/struct_ls/sparse_msg3_setup_rap.c:...\n",
       "3  CASE MISSING BREAK   /hypre/src/struct_ls/sparse_msg3_setup_rap.c:...\n",
       "4  CASE MISSING BREAK            /hypre/src/parcsr_ls/par_cheby.c:119:10"
      ]
     },
     "execution_count": 13,
     "metadata": {},
     "output_type": "execute_result"
    }
   ],
   "source": [
    "df = data[\"v2.24.0\"][\"ast_metrics\"][\"visit-switch\"] \n",
    "df = df.loc[df.Message == \"CASE MISSING BREAK\"]\n",
    "df.head()"
   ]
  },
  {
   "cell_type": "code",
   "execution_count": 14,
   "metadata": {},
   "outputs": [
    {
     "data": {
      "text/plain": [
       "308"
      ]
     },
     "execution_count": 14,
     "metadata": {},
     "output_type": "execute_result"
    }
   ],
   "source": [
    "df.size"
   ]
  },
  {
   "cell_type": "markdown",
   "metadata": {},
   "source": [
    "#### Missing Default in Switch"
   ]
  },
  {
   "cell_type": "code",
   "execution_count": 15,
   "metadata": {},
   "outputs": [
    {
     "data": {
      "text/html": [
       "<div>\n",
       "<style scoped>\n",
       "    .dataframe tbody tr th:only-of-type {\n",
       "        vertical-align: middle;\n",
       "    }\n",
       "\n",
       "    .dataframe tbody tr th {\n",
       "        vertical-align: top;\n",
       "    }\n",
       "\n",
       "    .dataframe thead th {\n",
       "        text-align: right;\n",
       "    }\n",
       "</style>\n",
       "<table border=\"1\" class=\"dataframe\">\n",
       "  <thead>\n",
       "    <tr style=\"text-align: right;\">\n",
       "      <th></th>\n",
       "      <th>Message</th>\n",
       "      <th>Location</th>\n",
       "    </tr>\n",
       "  </thead>\n",
       "  <tbody>\n",
       "    <tr>\n",
       "      <th>7</th>\n",
       "      <td>SWITCH MISSING DEFAULT</td>\n",
       "      <td>/hypre/src/parcsr_ls/par_cheby.c:111:7</td>\n",
       "    </tr>\n",
       "    <tr>\n",
       "      <th>11</th>\n",
       "      <td>SWITCH MISSING DEFAULT</td>\n",
       "      <td>/hypre/src/parcsr_ls/par_cheby.c:154:7</td>\n",
       "    </tr>\n",
       "    <tr>\n",
       "      <th>22</th>\n",
       "      <td>SWITCH MISSING DEFAULT</td>\n",
       "      <td>/hypre/src/utilities/printf.c:52:10</td>\n",
       "    </tr>\n",
       "    <tr>\n",
       "      <th>25</th>\n",
       "      <td>SWITCH MISSING DEFAULT</td>\n",
       "      <td>/hypre/src/struct_ls/smg_relax.c:283:7</td>\n",
       "    </tr>\n",
       "    <tr>\n",
       "      <th>26</th>\n",
       "      <td>SWITCH MISSING DEFAULT</td>\n",
       "      <td>/hypre/src/sstruct_ls/node_relax.c:418:13</td>\n",
       "    </tr>\n",
       "  </tbody>\n",
       "</table>\n",
       "</div>"
      ],
      "text/plain": [
       "                   Message                                    Location\n",
       "7   SWITCH MISSING DEFAULT      /hypre/src/parcsr_ls/par_cheby.c:111:7\n",
       "11  SWITCH MISSING DEFAULT      /hypre/src/parcsr_ls/par_cheby.c:154:7\n",
       "22  SWITCH MISSING DEFAULT         /hypre/src/utilities/printf.c:52:10\n",
       "25  SWITCH MISSING DEFAULT      /hypre/src/struct_ls/smg_relax.c:283:7\n",
       "26  SWITCH MISSING DEFAULT   /hypre/src/sstruct_ls/node_relax.c:418:13"
      ]
     },
     "execution_count": 15,
     "metadata": {},
     "output_type": "execute_result"
    }
   ],
   "source": [
    "df = data[\"v2.24.0\"][\"ast_metrics\"][\"visit-switch\"]\n",
    "df = df.loc[df.Message == \"SWITCH MISSING DEFAULT\"]\n",
    "df.head()"
   ]
  },
  {
   "cell_type": "code",
   "execution_count": 16,
   "metadata": {},
   "outputs": [
    {
     "data": {
      "text/plain": [
       "154"
      ]
     },
     "execution_count": 16,
     "metadata": {},
     "output_type": "execute_result"
    }
   ],
   "source": [
    "df.size"
   ]
  },
  {
   "cell_type": "markdown",
   "metadata": {},
   "source": [
    "#### Callable with Excessive Number of Parameters"
   ]
  },
  {
   "cell_type": "code",
   "execution_count": 17,
   "metadata": {},
   "outputs": [],
   "source": [
    "def qmetrics_column_func(x, frame): \n",
    "    '''\n",
    "    Given row entry *x* of dataframe *frame*, \n",
    "    return *x* if it's an 'int', otherwise \n",
    "    make sure it's a space separated string \n",
    "    of concatenated ints, and return the largest \n",
    "    of these. \n",
    "\n",
    "    (i.e since *frame* is grouped by function name, \n",
    "    metrics for the same function occuring in multiple \n",
    "    files may be grouped together, creating these \n",
    "    strings.)\n",
    "\n",
    "    Keyword arguments: \n",
    "    x     -- row entry of pandas dataframe \n",
    "    frame -- pandas dataframe to process.\n",
    "    '''\n",
    "    if isinstance(x, int): \n",
    "        return x \n",
    "    else: \n",
    "        return max([int(s) if (s != 'VARGS') \n",
    "                           and not (s in frame.columns)\n",
    "                        else 0 for s in x.strip().split()\n",
    "                 ])\n",
    "\n",
    "\n",
    "\n",
    "def prep_qmetrics(frame): \n",
    "    '''\n",
    "    Prepare quality metrics dataframe *fname* for processing \n",
    "    and return it. \n",
    "\n",
    "    Keyword arguments: \n",
    "\n",
    "    frame    -- Pandas dataframe containing structural code quality metrics. \n",
    "    '''\n",
    "    for c in frame.columns: \n",
    "        if c != 'Name': \n",
    "            frame[c] = frame[c].apply(lambda x : qmetrics_column_func(x, frame))\n",
    "    return frame "
   ]
  },
  {
   "cell_type": "code",
   "execution_count": 18,
   "metadata": {},
   "outputs": [
    {
     "data": {
      "text/html": [
       "<div>\n",
       "<style scoped>\n",
       "    .dataframe tbody tr th:only-of-type {\n",
       "        vertical-align: middle;\n",
       "    }\n",
       "\n",
       "    .dataframe tbody tr th {\n",
       "        vertical-align: top;\n",
       "    }\n",
       "\n",
       "    .dataframe thead th {\n",
       "        text-align: right;\n",
       "    }\n",
       "</style>\n",
       "<table border=\"1\" class=\"dataframe\">\n",
       "  <thead>\n",
       "    <tr style=\"text-align: right;\">\n",
       "      <th></th>\n",
       "      <th>Name</th>\n",
       "      <th>ArgCount</th>\n",
       "      <th>InstrCount</th>\n",
       "      <th>CC</th>\n",
       "    </tr>\n",
       "  </thead>\n",
       "  <tbody>\n",
       "    <tr>\n",
       "      <th>33</th>\n",
       "      <td>FGMRES_ParaSails</td>\n",
       "      <td>7</td>\n",
       "      <td>486</td>\n",
       "      <td>18</td>\n",
       "    </tr>\n",
       "    <tr>\n",
       "      <th>37</th>\n",
       "      <td>Factor_dhInit</td>\n",
       "      <td>7</td>\n",
       "      <td>142</td>\n",
       "      <td>10</td>\n",
       "    </tr>\n",
       "    <tr>\n",
       "      <th>52</th>\n",
       "      <td>GenerateCoordinates</td>\n",
       "      <td>11</td>\n",
       "      <td>135</td>\n",
       "      <td>12</td>\n",
       "    </tr>\n",
       "    <tr>\n",
       "      <th>54</th>\n",
       "      <td>GenerateDifConv</td>\n",
       "      <td>11</td>\n",
       "      <td>621</td>\n",
       "      <td>44</td>\n",
       "    </tr>\n",
       "    <tr>\n",
       "      <th>55</th>\n",
       "      <td>GenerateLaplacian</td>\n",
       "      <td>11</td>\n",
       "      <td>733</td>\n",
       "      <td>44</td>\n",
       "    </tr>\n",
       "  </tbody>\n",
       "</table>\n",
       "</div>"
      ],
      "text/plain": [
       "                   Name  ArgCount  InstrCount  CC\n",
       "33     FGMRES_ParaSails         7         486  18\n",
       "37        Factor_dhInit         7         142  10\n",
       "52  GenerateCoordinates        11         135  12\n",
       "54      GenerateDifConv        11         621  44\n",
       "55    GenerateLaplacian        11         733  44"
      ]
     },
     "execution_count": 18,
     "metadata": {},
     "output_type": "execute_result"
    }
   ],
   "source": [
    "MAX_ARGS = 7\n",
    "df = prep_qmetrics(data[\"v2.24.0\"][\"qmetrics\"])\n",
    "df = df.loc[df.ArgCount >= MAX_ARGS]\n",
    "df = df.drop(columns=[\"UniqVals\", \"UniqOps\", \"TotalOps\"])\n",
    "df.head()"
   ]
  },
  {
   "cell_type": "markdown",
   "metadata": {},
   "source": [
    "#### Large Number of Outward Calls"
   ]
  },
  {
   "cell_type": "code",
   "execution_count": 19,
   "metadata": {},
   "outputs": [],
   "source": [
    "from distfit import distfit"
   ]
  },
  {
   "cell_type": "code",
   "execution_count": 20,
   "metadata": {
    "collapsed": true
   },
   "outputs": [
    {
     "name": "stdout",
     "output_type": "stream",
     "text": [
      "[distfit] >fit..\n",
      "[distfit] >transform..\n",
      "[distfit] >[norm      ] [0.00 sec] [RSS: 0.0345981] [loc=2.493 scale=5.126]\n",
      "[distfit] >[expon     ] [0.00 sec] [RSS: 0.0032189] [loc=0.000 scale=2.493]\n",
      "[distfit] >[pareto    ] [0.13 sec] [RSS: 0.0058327] [loc=-2.659 scale=2.659]\n",
      "[distfit] >[dweibull  ] [0.08 sec] [RSS: 0.0151845] [loc=1.000 scale=1.141]\n",
      "[distfit] >[t         ] [0.08 sec] [RSS: 0.0652023] [loc=1.000 scale=0.000]\n",
      "[distfit] >[genextreme] [0.10 sec] [RSS: 0.0029625] [loc=0.753 scale=0.928]\n",
      "[distfit] >[gamma     ] [0.12 sec] [RSS: 0.0599536] [loc=-0.000 scale=1.562]\n",
      "[distfit] >[lognorm   ] [0.05 sec] [RSS: 0.0092057] [loc=-0.091 scale=1.101]\n",
      "[distfit] >[beta      ] [0.19 sec] [RSS: 0.0147876] [loc=-0.000 scale=1085.630]\n",
      "[distfit] >[uniform   ] [0.00 sec] [RSS: 0.0633433] [loc=0.000 scale=164.000]\n",
      "[distfit] >[loggamma  ] [0.12 sec] [RSS: 0.0369103] [loc=-2153.108 scale=276.614]\n",
      "[distfit] >Compute confidence interval [parametric]\n"
     ]
    },
    {
     "data": {
      "text/plain": [
       "{'model': {'distr': <scipy.stats._continuous_distns.genextreme_gen at 0x7fe89a7fd7c0>,\n",
       "  'stats': 'RSS',\n",
       "  'params': (-0.6114960356000514, 0.7525175667191945, 0.9278829569638545),\n",
       "  'name': 'genextreme',\n",
       "  'model': <scipy.stats._distn_infrastructure.rv_frozen at 0x7fe89822ff10>,\n",
       "  'score': 0.0029625227864957396,\n",
       "  'loc': 0.7525175667191945,\n",
       "  'scale': 0.9278829569638545,\n",
       "  'arg': (-0.6114960356000514,),\n",
       "  'CII_min_alpha': 0.010865969199187364,\n",
       "  'CII_max_alpha': 8.565350179010126},\n",
       " 'summary':          distr       score  LLE          loc        scale  \\\n",
       " 0   genextreme  0.00296252  NaN     0.752518     0.927883   \n",
       " 1        expon  0.00321893  NaN            0       2.4932   \n",
       " 2       pareto  0.00583266  NaN     -2.65918      2.65918   \n",
       " 3      lognorm   0.0092057  NaN   -0.0910203      1.10109   \n",
       " 4         beta   0.0147876  NaN -4.29726e-27      1085.63   \n",
       " 5     dweibull   0.0151845  NaN            1      1.14101   \n",
       " 6         norm   0.0345981  NaN       2.4932      5.12558   \n",
       " 7     loggamma   0.0369103  NaN     -2153.11      276.614   \n",
       " 8        gamma   0.0599536  NaN -8.82204e-27      1.56221   \n",
       " 9      uniform   0.0633433  NaN            0          164   \n",
       " 10           t   0.0652023  NaN            1  5.07666e-16   \n",
       " \n",
       "                                         arg  \n",
       " 0                    (-0.6114960356000514,)  \n",
       " 1                                        ()  \n",
       " 2                     (2.0327248278623946,)  \n",
       " 3                     (1.3792942411051898,)  \n",
       " 4   (0.426498589906563, 246.58441645150532)  \n",
       " 5                    (0.47124882137258767,)  \n",
       " 6                                        ()  \n",
       " 7                     (2424.4826997400482,)  \n",
       " 8                   (0.047882912744706865,)  \n",
       " 9                                        ()  \n",
       " 10                    (0.6142979315247588,)  ,\n",
       " 'histdata': (array([2.53904210e-01, 2.35001885e-02, 1.01039458e-02, 7.77663241e-03,\n",
       "         3.51935189e-03, 1.98673091e-03, 1.70291221e-03, 3.97346182e-04,\n",
       "         3.97346182e-04, 1.70291221e-04, 6.81164883e-04, 1.70291221e-04,\n",
       "         5.67637402e-05, 1.13527480e-04, 5.67637402e-05, 0.00000000e+00,\n",
       "         5.67637402e-05, 0.00000000e+00, 1.13527480e-04, 0.00000000e+00,\n",
       "         0.00000000e+00, 0.00000000e+00, 5.67637402e-05, 0.00000000e+00,\n",
       "         0.00000000e+00, 0.00000000e+00, 0.00000000e+00, 5.67637402e-05,\n",
       "         0.00000000e+00, 0.00000000e+00, 0.00000000e+00, 0.00000000e+00,\n",
       "         0.00000000e+00, 0.00000000e+00, 0.00000000e+00, 0.00000000e+00,\n",
       "         0.00000000e+00, 0.00000000e+00, 0.00000000e+00, 0.00000000e+00,\n",
       "         0.00000000e+00, 0.00000000e+00, 0.00000000e+00, 0.00000000e+00,\n",
       "         0.00000000e+00, 0.00000000e+00, 0.00000000e+00, 0.00000000e+00,\n",
       "         0.00000000e+00, 5.67637402e-05]),\n",
       "  array([  1.64,   4.92,   8.2 ,  11.48,  14.76,  18.04,  21.32,  24.6 ,\n",
       "          27.88,  31.16,  34.44,  37.72,  41.  ,  44.28,  47.56,  50.84,\n",
       "          54.12,  57.4 ,  60.68,  63.96,  67.24,  70.52,  73.8 ,  77.08,\n",
       "          80.36,  83.64,  86.92,  90.2 ,  93.48,  96.76, 100.04, 103.32,\n",
       "         106.6 , 109.88, 113.16, 116.44, 119.72, 123.  , 126.28, 129.56,\n",
       "         132.84, 136.12, 139.4 , 142.68, 145.96, 149.24, 152.52, 155.8 ,\n",
       "         159.08, 162.36])),\n",
       " 'size': 5371,\n",
       " 'alpha': 0.05,\n",
       " 'stats': 'RSS',\n",
       " 'bins': 50,\n",
       " 'bound': 'both',\n",
       " 'distr': 'popular',\n",
       " 'method': 'parametric',\n",
       " 'multtest': 'fdr_bh',\n",
       " 'n_perm': 10000,\n",
       " 'smooth': None,\n",
       " 'weighted': True,\n",
       " 'f': 1.5}"
      ]
     },
     "execution_count": 20,
     "metadata": {},
     "output_type": "execute_result"
    }
   ],
   "source": [
    "dist = distfit()\n",
    "X    = data[\"v2.24.0\"][\"cgmetrics_path_p\"].FanOut\n",
    "dist.fit_transform(X)"
   ]
  },
  {
   "cell_type": "code",
   "execution_count": 28,
   "metadata": {},
   "outputs": [],
   "source": [
    "high = dist.model['CII_max_alpha']"
   ]
  },
  {
   "cell_type": "code",
   "execution_count": 29,
   "metadata": {},
   "outputs": [],
   "source": [
    "low = dist.model['CII_min_alpha']"
   ]
  },
  {
   "cell_type": "code",
   "execution_count": 30,
   "metadata": {},
   "outputs": [
    {
     "data": {
      "text/plain": [
       "8.565350179010126"
      ]
     },
     "execution_count": 30,
     "metadata": {},
     "output_type": "execute_result"
    }
   ],
   "source": [
    "high"
   ]
  },
  {
   "cell_type": "code",
   "execution_count": 31,
   "metadata": {},
   "outputs": [
    {
     "data": {
      "text/plain": [
       "0.010865969199187364"
      ]
     },
     "execution_count": 31,
     "metadata": {},
     "output_type": "execute_result"
    }
   ],
   "source": [
    "low"
   ]
  },
  {
   "cell_type": "code",
   "execution_count": 32,
   "metadata": {
    "collapsed": true
   },
   "outputs": [
    {
     "data": {
      "text/html": [
       "<div>\n",
       "<style scoped>\n",
       "    .dataframe tbody tr th:only-of-type {\n",
       "        vertical-align: middle;\n",
       "    }\n",
       "\n",
       "    .dataframe tbody tr th {\n",
       "        vertical-align: top;\n",
       "    }\n",
       "\n",
       "    .dataframe thead th {\n",
       "        text-align: right;\n",
       "    }\n",
       "</style>\n",
       "<table border=\"1\" class=\"dataframe\">\n",
       "  <thead>\n",
       "    <tr style=\"text-align: right;\">\n",
       "      <th></th>\n",
       "      <th>Unnamed: 0</th>\n",
       "      <th>Name</th>\n",
       "      <th>FanIn</th>\n",
       "      <th>FanOut</th>\n",
       "      <th>IsIsolated</th>\n",
       "      <th>AvgShortestPath</th>\n",
       "      <th>Closeness</th>\n",
       "      <th>Betweenness</th>\n",
       "      <th>Eccentricity_R</th>\n",
       "      <th>Eccentricity_N</th>\n",
       "    </tr>\n",
       "  </thead>\n",
       "  <tbody>\n",
       "    <tr>\n",
       "      <th>19</th>\n",
       "      <td>19</td>\n",
       "      <td>hypre_ParCSRCommPkgCreate_core</td>\n",
       "      <td>3</td>\n",
       "      <td>9</td>\n",
       "      <td>False</td>\n",
       "      <td>382.239583</td>\n",
       "      <td>0.002616</td>\n",
       "      <td>54.000000</td>\n",
       "      <td>3</td>\n",
       "      <td>3077</td>\n",
       "    </tr>\n",
       "    <tr>\n",
       "      <th>51</th>\n",
       "      <td>51</td>\n",
       "      <td>hypre_BoomerAMGBlockRelax</td>\n",
       "      <td>1</td>\n",
       "      <td>16</td>\n",
       "      <td>False</td>\n",
       "      <td>148.989298</td>\n",
       "      <td>0.006712</td>\n",
       "      <td>308.133333</td>\n",
       "      <td>5</td>\n",
       "      <td>1047</td>\n",
       "    </tr>\n",
       "    <tr>\n",
       "      <th>57</th>\n",
       "      <td>57</td>\n",
       "      <td>hypre_ParCSRBlockMatrixConvertToParCSRMatrix</td>\n",
       "      <td>1</td>\n",
       "      <td>10</td>\n",
       "      <td>False</td>\n",
       "      <td>341.926531</td>\n",
       "      <td>0.002925</td>\n",
       "      <td>111.000000</td>\n",
       "      <td>5</td>\n",
       "      <td>3077</td>\n",
       "    </tr>\n",
       "    <tr>\n",
       "      <th>58</th>\n",
       "      <td>58</td>\n",
       "      <td>hypre_ParCSRMatrixToCSRMatrixAll</td>\n",
       "      <td>5</td>\n",
       "      <td>17</td>\n",
       "      <td>False</td>\n",
       "      <td>193.082948</td>\n",
       "      <td>0.005179</td>\n",
       "      <td>698.011111</td>\n",
       "      <td>4</td>\n",
       "      <td>479</td>\n",
       "    </tr>\n",
       "    <tr>\n",
       "      <th>59</th>\n",
       "      <td>59</td>\n",
       "      <td>hypre_ParVectorToVectorAll</td>\n",
       "      <td>5</td>\n",
       "      <td>14</td>\n",
       "      <td>False</td>\n",
       "      <td>223.656810</td>\n",
       "      <td>0.004471</td>\n",
       "      <td>460.577778</td>\n",
       "      <td>5</td>\n",
       "      <td>479</td>\n",
       "    </tr>\n",
       "  </tbody>\n",
       "</table>\n",
       "</div>"
      ],
      "text/plain": [
       "    Unnamed: 0                                          Name  FanIn  FanOut  \\\n",
       "19          19                hypre_ParCSRCommPkgCreate_core      3       9   \n",
       "51          51                     hypre_BoomerAMGBlockRelax      1      16   \n",
       "57          57  hypre_ParCSRBlockMatrixConvertToParCSRMatrix      1      10   \n",
       "58          58              hypre_ParCSRMatrixToCSRMatrixAll      5      17   \n",
       "59          59                    hypre_ParVectorToVectorAll      5      14   \n",
       "\n",
       "    IsIsolated  AvgShortestPath  Closeness  Betweenness  Eccentricity_R  \\\n",
       "19       False       382.239583   0.002616    54.000000               3   \n",
       "51       False       148.989298   0.006712   308.133333               5   \n",
       "57       False       341.926531   0.002925   111.000000               5   \n",
       "58       False       193.082948   0.005179   698.011111               4   \n",
       "59       False       223.656810   0.004471   460.577778               5   \n",
       "\n",
       "    Eccentricity_N  \n",
       "19            3077  \n",
       "51            1047  \n",
       "57            3077  \n",
       "58             479  \n",
       "59             479  "
      ]
     },
     "execution_count": 32,
     "metadata": {},
     "output_type": "execute_result"
    }
   ],
   "source": [
    "high_d     = data[\"v2.24.0\"][\"cgmetrics_path_p\"][X > high]\n",
    "high_d.head()"
   ]
  },
  {
   "cell_type": "code",
   "execution_count": 33,
   "metadata": {
    "collapsed": true
   },
   "outputs": [
    {
     "data": {
      "text/html": [
       "<div>\n",
       "<style scoped>\n",
       "    .dataframe tbody tr th:only-of-type {\n",
       "        vertical-align: middle;\n",
       "    }\n",
       "\n",
       "    .dataframe tbody tr th {\n",
       "        vertical-align: top;\n",
       "    }\n",
       "\n",
       "    .dataframe thead th {\n",
       "        text-align: right;\n",
       "    }\n",
       "</style>\n",
       "<table border=\"1\" class=\"dataframe\">\n",
       "  <thead>\n",
       "    <tr style=\"text-align: right;\">\n",
       "      <th></th>\n",
       "      <th>Unnamed: 0</th>\n",
       "      <th>Name</th>\n",
       "      <th>FanIn</th>\n",
       "      <th>FanOut</th>\n",
       "      <th>IsIsolated</th>\n",
       "      <th>AvgShortestPath</th>\n",
       "      <th>Closeness</th>\n",
       "      <th>Betweenness</th>\n",
       "      <th>Eccentricity_R</th>\n",
       "      <th>Eccentricity_N</th>\n",
       "    </tr>\n",
       "  </thead>\n",
       "  <tbody>\n",
       "    <tr>\n",
       "      <th>5181</th>\n",
       "      <td>5181</td>\n",
       "      <td>hypre_NodeRelaxSetup</td>\n",
       "      <td>1</td>\n",
       "      <td>18</td>\n",
       "      <td>False</td>\n",
       "      <td>172.007812</td>\n",
       "      <td>0.005814</td>\n",
       "      <td>99.346753</td>\n",
       "      <td>5</td>\n",
       "      <td>479</td>\n",
       "    </tr>\n",
       "    <tr>\n",
       "      <th>5210</th>\n",
       "      <td>5210</td>\n",
       "      <td>hypre_PFMGSetup</td>\n",
       "      <td>1</td>\n",
       "      <td>39</td>\n",
       "      <td>False</td>\n",
       "      <td>59.384748</td>\n",
       "      <td>0.016839</td>\n",
       "      <td>704.480952</td>\n",
       "      <td>6</td>\n",
       "      <td>3469</td>\n",
       "    </tr>\n",
       "    <tr>\n",
       "      <th>5255</th>\n",
       "      <td>5255</td>\n",
       "      <td>hypre_Maxwell_PNedelec</td>\n",
       "      <td>1</td>\n",
       "      <td>33</td>\n",
       "      <td>False</td>\n",
       "      <td>133.102888</td>\n",
       "      <td>0.007513</td>\n",
       "      <td>9.800000</td>\n",
       "      <td>6</td>\n",
       "      <td>1044</td>\n",
       "    </tr>\n",
       "    <tr>\n",
       "      <th>5301</th>\n",
       "      <td>5301</td>\n",
       "      <td>FGMRES_ParaSails</td>\n",
       "      <td>0</td>\n",
       "      <td>12</td>\n",
       "      <td>False</td>\n",
       "      <td>328.775510</td>\n",
       "      <td>0.003042</td>\n",
       "      <td>0.000000</td>\n",
       "      <td>3</td>\n",
       "      <td>479</td>\n",
       "    </tr>\n",
       "    <tr>\n",
       "      <th>5319</th>\n",
       "      <td>5319</td>\n",
       "      <td>SubdomainGraph_dhExchangePerms</td>\n",
       "      <td>1</td>\n",
       "      <td>12</td>\n",
       "      <td>False</td>\n",
       "      <td>344.803805</td>\n",
       "      <td>0.002900</td>\n",
       "      <td>24.342857</td>\n",
       "      <td>4</td>\n",
       "      <td>983</td>\n",
       "    </tr>\n",
       "  </tbody>\n",
       "</table>\n",
       "</div>"
      ],
      "text/plain": [
       "      Unnamed: 0                            Name  FanIn  FanOut  IsIsolated  \\\n",
       "5181        5181            hypre_NodeRelaxSetup      1      18       False   \n",
       "5210        5210                 hypre_PFMGSetup      1      39       False   \n",
       "5255        5255          hypre_Maxwell_PNedelec      1      33       False   \n",
       "5301        5301                FGMRES_ParaSails      0      12       False   \n",
       "5319        5319  SubdomainGraph_dhExchangePerms      1      12       False   \n",
       "\n",
       "      AvgShortestPath  Closeness  Betweenness  Eccentricity_R  Eccentricity_N  \n",
       "5181       172.007812   0.005814    99.346753               5             479  \n",
       "5210        59.384748   0.016839   704.480952               6            3469  \n",
       "5255       133.102888   0.007513     9.800000               6            1044  \n",
       "5301       328.775510   0.003042     0.000000               3             479  \n",
       "5319       344.803805   0.002900    24.342857               4             983  "
      ]
     },
     "execution_count": 33,
     "metadata": {},
     "output_type": "execute_result"
    }
   ],
   "source": [
    "high_d.tail()"
   ]
  },
  {
   "cell_type": "markdown",
   "metadata": {},
   "source": [
    "#### Excessive CC value"
   ]
  },
  {
   "cell_type": "code",
   "execution_count": 62,
   "metadata": {
    "collapsed": true
   },
   "outputs": [
    {
     "name": "stdout",
     "output_type": "stream",
     "text": [
      "[distfit] >fit..\n",
      "[distfit] >transform..\n",
      "[distfit] >[norm      ] [0.00 sec] [RSS: 0.0018760] [loc=7.603 scale=26.219]\n",
      "[distfit] >[expon     ] [0.00 sec] [RSS: 0.0001168] [loc=0.000 scale=7.603]\n",
      "[distfit] >[pareto    ] [0.08 sec] [RSS: 0.0014235] [loc=-2.160 scale=2.160]\n",
      "[distfit] >[dweibull  ] [0.15 sec] [RSS: 0.0024107] [loc=1.000 scale=1.759]\n",
      "[distfit] >[t         ] [0.08 sec] [RSS: 0.0032524] [loc=1.000 scale=0.000]\n",
      "[distfit] >[genextreme] [0.16 sec] [RSS: 0.0018271] [loc=1.342 scale=1.006]\n",
      "[distfit] >[gamma     ] [0.10 sec] [RSS: 0.0032353] [loc=-0.000 scale=3.071]\n",
      "[distfit] >[lognorm   ] [0.06 sec] [RSS: 0.0011022] [loc=-0.002 scale=2.184]\n",
      "[distfit] >[beta      ] [0.18 sec] [RSS: 0.0006939] [loc=-0.000 scale=7303.290]\n",
      "[distfit] >[uniform   ] [0.00 sec] [RSS: 0.0031723] [loc=0.000 scale=790.000]\n",
      "[distfit] >[loggamma  ] [0.11 sec] [RSS: 0.0024606] [loc=-636.668 scale=211.652]\n",
      "[distfit] >Compute confidence interval [parametric]\n"
     ]
    },
    {
     "data": {
      "text/plain": [
       "{'model': {'distr': <scipy.stats._continuous_distns.expon_gen at 0x7fe89a7d3250>,\n",
       "  'stats': 'RSS',\n",
       "  'params': (0.0, 7.603373231773667),\n",
       "  'name': 'expon',\n",
       "  'model': <scipy.stats._distn_infrastructure.rv_frozen at 0x7fe89e83f370>,\n",
       "  'score': 0.00011681693215105001,\n",
       "  'loc': 0.0,\n",
       "  'scale': 7.603373231773667,\n",
       "  'arg': (),\n",
       "  'CII_min_alpha': 0.39000206151578826,\n",
       "  'CII_max_alpha': 22.777670578300878},\n",
       " 'summary':          distr        score  LLE          loc        scale  \\\n",
       " 0        expon  0.000116817  NaN            0      7.60337   \n",
       " 1         beta  0.000693893  NaN -2.07522e-24      7303.29   \n",
       " 2      lognorm    0.0011022  NaN  -0.00169813      2.18425   \n",
       " 3       pareto    0.0014235  NaN     -2.15957      2.15957   \n",
       " 4   genextreme   0.00182712  NaN      1.34196      1.00571   \n",
       " 5         norm   0.00187595  NaN      7.60337      26.2186   \n",
       " 6     dweibull   0.00241073  NaN            1        1.759   \n",
       " 7     loggamma   0.00246056  NaN     -636.668      211.652   \n",
       " 8      uniform   0.00317227  NaN            0          790   \n",
       " 9        gamma   0.00323525  NaN -3.66651e-23      3.07131   \n",
       " 10           t   0.00325239  NaN            1  3.74151e-20   \n",
       " \n",
       "                                         arg  \n",
       " 0                                        ()  \n",
       " 1   (0.504523302526544, 478.02540147052434)  \n",
       " 2                     (1.2255194309607607,)  \n",
       " 3                     (1.1709577996171427,)  \n",
       " 4                    (-0.7181125307310332,)  \n",
       " 5                                        ()  \n",
       " 6                     (0.3325056895319345,)  \n",
       " 7                     (21.998266873675412,)  \n",
       " 8                                        ()  \n",
       " 9                    (0.01523270743461762,)  \n",
       " 10                    (0.2861528394071884,)  ,\n",
       " 'histdata': (array([5.69321818e-02, 3.03026129e-03, 1.01008710e-03, 7.57565323e-04,\n",
       "         3.67304399e-04, 3.09913087e-04, 1.72173937e-04, 2.18086987e-04,\n",
       "         8.03478373e-05, 6.88695748e-05, 1.03304362e-04, 8.03478373e-05,\n",
       "         0.00000000e+00, 4.59130499e-05, 2.29565249e-05, 1.14782625e-05,\n",
       "         0.00000000e+00, 1.14782625e-05, 0.00000000e+00, 0.00000000e+00,\n",
       "         1.14782625e-05, 0.00000000e+00, 1.14782625e-05, 0.00000000e+00,\n",
       "         0.00000000e+00, 1.14782625e-05, 0.00000000e+00, 0.00000000e+00,\n",
       "         0.00000000e+00, 0.00000000e+00, 0.00000000e+00, 0.00000000e+00,\n",
       "         0.00000000e+00, 0.00000000e+00, 0.00000000e+00, 1.14782625e-05,\n",
       "         1.14782625e-05, 0.00000000e+00, 0.00000000e+00, 0.00000000e+00,\n",
       "         0.00000000e+00, 0.00000000e+00, 0.00000000e+00, 0.00000000e+00,\n",
       "         0.00000000e+00, 0.00000000e+00, 0.00000000e+00, 0.00000000e+00,\n",
       "         0.00000000e+00, 1.14782625e-05]),\n",
       "  array([  7.9,  23.7,  39.5,  55.3,  71.1,  86.9, 102.7, 118.5, 134.3,\n",
       "         150.1, 165.9, 181.7, 197.5, 213.3, 229.1, 244.9, 260.7, 276.5,\n",
       "         292.3, 308.1, 323.9, 339.7, 355.5, 371.3, 387.1, 402.9, 418.7,\n",
       "         434.5, 450.3, 466.1, 481.9, 497.7, 513.5, 529.3, 545.1, 560.9,\n",
       "         576.7, 592.5, 608.3, 624.1, 639.9, 655.7, 671.5, 687.3, 703.1,\n",
       "         718.9, 734.7, 750.5, 766.3, 782.1])),\n",
       " 'size': 5514,\n",
       " 'alpha': 0.05,\n",
       " 'stats': 'RSS',\n",
       " 'bins': 50,\n",
       " 'bound': 'both',\n",
       " 'distr': 'popular',\n",
       " 'method': 'parametric',\n",
       " 'multtest': 'fdr_bh',\n",
       " 'n_perm': 10000,\n",
       " 'smooth': None,\n",
       " 'weighted': True,\n",
       " 'f': 1.5}"
      ]
     },
     "execution_count": 62,
     "metadata": {},
     "output_type": "execute_result"
    }
   ],
   "source": [
    "dist = distfit()\n",
    "X    = prep_qmetrics(data[\"v2.24.0\"][\"qmetrics\"]).CC\n",
    "X.drop(columns=[\"UniqVals\", \"UniqOps\", \"TotalOps\"])\n",
    "dist.fit_transform(X)"
   ]
  },
  {
   "cell_type": "code",
   "execution_count": 63,
   "metadata": {},
   "outputs": [
    {
     "data": {
      "text/html": [
       "<div>\n",
       "<style scoped>\n",
       "    .dataframe tbody tr th:only-of-type {\n",
       "        vertical-align: middle;\n",
       "    }\n",
       "\n",
       "    .dataframe tbody tr th {\n",
       "        vertical-align: top;\n",
       "    }\n",
       "\n",
       "    .dataframe thead th {\n",
       "        text-align: right;\n",
       "    }\n",
       "</style>\n",
       "<table border=\"1\" class=\"dataframe\">\n",
       "  <thead>\n",
       "    <tr style=\"text-align: right;\">\n",
       "      <th></th>\n",
       "      <th>Name</th>\n",
       "      <th>ArgCount</th>\n",
       "      <th>InstrCount</th>\n",
       "      <th>CC</th>\n",
       "    </tr>\n",
       "  </thead>\n",
       "  <tbody>\n",
       "    <tr>\n",
       "      <th>2</th>\n",
       "      <td>ComputeValuesSym</td>\n",
       "      <td>5</td>\n",
       "      <td>277</td>\n",
       "      <td>23</td>\n",
       "    </tr>\n",
       "    <tr>\n",
       "      <th>17</th>\n",
       "      <td>Euclid_dhDestroy</td>\n",
       "      <td>1</td>\n",
       "      <td>138</td>\n",
       "      <td>23</td>\n",
       "    </tr>\n",
       "    <tr>\n",
       "      <th>25</th>\n",
       "      <td>Euclid_dhSetup</td>\n",
       "      <td>1</td>\n",
       "      <td>310</td>\n",
       "      <td>35</td>\n",
       "    </tr>\n",
       "    <tr>\n",
       "      <th>28</th>\n",
       "      <td>ExternalRows_dhDestroy</td>\n",
       "      <td>1</td>\n",
       "      <td>147</td>\n",
       "      <td>25</td>\n",
       "    </tr>\n",
       "    <tr>\n",
       "      <th>31</th>\n",
       "      <td>ExternalRows_dhRecvRows</td>\n",
       "      <td>1</td>\n",
       "      <td>385</td>\n",
       "      <td>41</td>\n",
       "    </tr>\n",
       "  </tbody>\n",
       "</table>\n",
       "</div>"
      ],
      "text/plain": [
       "                       Name  ArgCount  InstrCount  CC\n",
       "2          ComputeValuesSym         5         277  23\n",
       "17         Euclid_dhDestroy         1         138  23\n",
       "25           Euclid_dhSetup         1         310  35\n",
       "28   ExternalRows_dhDestroy         1         147  25\n",
       "31  ExternalRows_dhRecvRows         1         385  41"
      ]
     },
     "execution_count": 63,
     "metadata": {},
     "output_type": "execute_result"
    }
   ],
   "source": [
    "high = dist.model['CII_max_alpha']\n",
    "high_d = prep_qmetrics(data[\"v2.24.0\"][\"qmetrics\"]).drop(columns=[\"UniqVals\", \"UniqOps\", \"TotalOps\"])[X > high]\n",
    "high_d.head()"
   ]
  },
  {
   "cell_type": "code",
   "execution_count": 64,
   "metadata": {},
   "outputs": [
    {
     "name": "stdout",
     "output_type": "stream",
     "text": [
      "22.777670578300878\n"
     ]
    }
   ],
   "source": [
    "print(high)"
   ]
  },
  {
   "cell_type": "markdown",
   "metadata": {},
   "source": [
    "### Project Growth"
   ]
  },
  {
   "cell_type": "markdown",
   "metadata": {},
   "source": [
    "#### Total CC"
   ]
  },
  {
   "cell_type": "code",
   "execution_count": 38,
   "metadata": {},
   "outputs": [],
   "source": [
    "sorted_versions = [\"v2.24.0\", \"v2.23.0\", \"v2.22.1\", \"v2.22.0\"\n",
    "                            , \"v2.21.0\", \"v2.20.0\", \"v2.19.0\"\n",
    "                            , \"v2.18.2\", \"v2.18.1\", \"v2.18.0\"\n",
    "                            , \"v2.17.0\", \"v2.16.0\", \"v2.15.1\"\n",
    "                            , \"v2.15.0\", \"v2.14.0\", \"v2.13.0\"\n",
    "                            , \"v2.12.1\", \"v2.12.0\", \"v2.11.2\"\n",
    "                            , \"v2.11.1\", \"v2.11.0\"][::-1]\n"
   ]
  },
  {
   "cell_type": "code",
   "execution_count": 45,
   "metadata": {},
   "outputs": [
    {
     "data": {
      "text/plain": [
       "Text(0.5, 1.0, 'Hypre Cyclomatic Complexity Trends')"
      ]
     },
     "execution_count": 45,
     "metadata": {},
     "output_type": "execute_result"
    },
    {
     "data": {
      "image/png": "[encoded data removed]",
      "text/plain": [
       "<Figure size 648x648 with 1 Axes>"
      ]
     },
     "metadata": {
      "needs_background": "light"
     },
     "output_type": "display_data"
    }
   ],
   "source": [
    "total_ccs = [] \n",
    "for version in sorted_versions: \n",
    "    df = prep_qmetrics(data[version][\"qmetrics\"])\n",
    "    df = df.drop(columns=[\"UniqVals\", \"UniqOps\", \"TotalOps\"]) \n",
    "    tt_cc = df.CC.sum() \n",
    "    total_ccs.append(tt_cc)\n",
    "\n",
    "plt.figure(figsize=(9, 9))\n",
    "plt.plot(sorted_versions, total_ccs)\n",
    "plt.xticks(rotation=90)\n",
    "plt.xlabel(\"Version\")\n",
    "plt.ylabel(\"Total Cyclomatic Complexity\")\n",
    "plt.title(\"Hypre Cyclomatic Complexity Trends\")"
   ]
  },
  {
   "cell_type": "markdown",
   "metadata": {},
   "source": [
    "#### Total Functions"
   ]
  },
  {
   "cell_type": "code",
   "execution_count": 48,
   "metadata": {},
   "outputs": [
    {
     "data": {
      "text/plain": [
       "5371"
      ]
     },
     "execution_count": 48,
     "metadata": {},
     "output_type": "execute_result"
    }
   ],
   "source": [
    "data[\"v2.24.0\"][\"funcnames\"].size"
   ]
  },
  {
   "cell_type": "code",
   "execution_count": 50,
   "metadata": {},
   "outputs": [
    {
     "data": {
      "text/plain": [
       "Text(0.5, 1.0, 'Hypre Total Number of Functions Trend')"
      ]
     },
     "execution_count": 50,
     "metadata": {},
     "output_type": "execute_result"
    },
    {
     "data": {
      "image/png": "[encoded data removed]",
      "text/plain": [
       "<Figure size 648x648 with 1 Axes>"
      ]
     },
     "metadata": {
      "needs_background": "light"
     },
     "output_type": "display_data"
    }
   ],
   "source": [
    "total_fs = [] \n",
    "for version in sorted_versions: \n",
    "    size = data[version][\"funcnames\"].size\n",
    "    total_fs.append(size)\n",
    "\n",
    "plt.figure(figsize=(9, 9))\n",
    "plt.plot(sorted_versions, total_fs)\n",
    "plt.xticks(rotation=90)\n",
    "plt.xlabel(\"Version\")\n",
    "plt.ylabel(\"Total Number of Functions\")\n",
    "plt.title(\"Hypre Total Number of Functions Trend\")"
   ]
  },
  {
   "cell_type": "markdown",
   "metadata": {},
   "source": [
    "#### Eccentricity"
   ]
  },
  {
   "cell_type": "code",
   "execution_count": 53,
   "metadata": {},
   "outputs": [
    {
     "data": {
      "text/plain": [
       "Text(0.5, 1.0, 'Hypre Callgraph Diameter Trends')"
      ]
     },
     "execution_count": 53,
     "metadata": {},
     "output_type": "execute_result"
    },
    {
     "data": {
      "image/png": "[encoded data removed]",
      "text/plain": [
       "<Figure size 648x648 with 1 Axes>"
      ]
     },
     "metadata": {
      "needs_background": "light"
     },
     "output_type": "display_data"
    }
   ],
   "source": [
    "total_ecc = [] \n",
    "for version in sorted_versions: \n",
    "    df = data[version][\"cgmetrics_path_p\"]\n",
    "    tt_ecc = df.Eccentricity_R.max() \n",
    "    total_ecc.append(tt_ecc)\n",
    "\n",
    "plt.figure(figsize=(9, 9))\n",
    "plt.plot(sorted_versions, total_ecc)\n",
    "plt.xticks(rotation=90)\n",
    "plt.xlabel(\"Version\")\n",
    "plt.ylabel(\"Callgraph Diameter\")\n",
    "plt.title(\"Hypre Callgraph Diameter Trends\")"
   ]
  },
  {
   "cell_type": "markdown",
   "metadata": {},
   "source": [
    "#### Total FanOut"
   ]
  },
  {
   "cell_type": "code",
   "execution_count": 58,
   "metadata": {},
   "outputs": [
    {
     "data": {
      "text/plain": [
       "Text(0.5, 1.0, 'Hypre Function Call Trends')"
      ]
     },
     "execution_count": 58,
     "metadata": {},
     "output_type": "execute_result"
    },
    {
     "data": {
      "image/png": "[encoded data removed]",
      "text/plain": [
       "<Figure size 648x648 with 1 Axes>"
      ]
     },
     "metadata": {
      "needs_background": "light"
     },
     "output_type": "display_data"
    }
   ],
   "source": [
    "total_fanout = [] \n",
    "for version in sorted_versions: \n",
    "    df = data[version][\"cgmetrics_path_p\"]\n",
    "    fanout = df.FanOut.sum() \n",
    "    total_fanout.append(fanout)\n",
    "\n",
    "plt.figure(figsize=(9, 9))\n",
    "plt.plot(sorted_versions, total_fanout)\n",
    "plt.xticks(rotation=90)\n",
    "plt.xlabel(\"Version\")\n",
    "plt.ylabel(\"Total FanOut\")\n",
    "plt.title(\"Hypre Function Call Trends\")"
   ]
  },
  {
   "cell_type": "markdown",
   "metadata": {},
   "source": [
    "#### Total Instructions in LLVM IR"
   ]
  },
  {
   "cell_type": "code",
   "execution_count": 65,
   "metadata": {},
   "outputs": [
    {
     "data": {
      "text/plain": [
       "Text(0.5, 1.0, 'Hypre Cyclomatic Complexity Trends')"
      ]
     },
     "execution_count": 65,
     "metadata": {},
     "output_type": "execute_result"
    },
    {
     "data": {
      "image/png": "[encoded data removed]",
      "text/plain": [
       "<Figure size 648x648 with 1 Axes>"
      ]
     },
     "metadata": {
      "needs_background": "light"
     },
     "output_type": "display_data"
    }
   ],
   "source": [
    "total_instrs = [] \n",
    "for version in sorted_versions: \n",
    "    df = prep_qmetrics(data[version][\"qmetrics\"])\n",
    "    df = df.drop(columns=[\"UniqVals\", \"UniqOps\", \"TotalOps\"]) \n",
    "    tt_instrs = df.InstrCount.sum() \n",
    "    total_instrs.append(tt_instrs)\n",
    "\n",
    "plt.figure(figsize=(9, 9))\n",
    "plt.plot(sorted_versions, total_instrs)\n",
    "plt.xticks(rotation=90)\n",
    "plt.xlabel(\"Version\")\n",
    "plt.ylabel(\"Total Cyclomatic Complexity\")\n",
    "plt.title(\"Hypre Cyclomatic Complexity Trends\")"
   ]
  },
  {
   "cell_type": "markdown",
   "metadata": {},
   "source": [
    "### Smell Trends"
   ]
  },
  {
   "cell_type": "markdown",
   "metadata": {},
   "source": [
    "#### Total Missing Default in Switch"
   ]
  },
  {
   "cell_type": "code",
   "execution_count": 67,
   "metadata": {},
   "outputs": [
    {
     "data": {
      "text/plain": [
       "Text(0.5, 1.0, 'Hypre Missing Default in Switch Trends')"
      ]
     },
     "execution_count": 67,
     "metadata": {},
     "output_type": "execute_result"
    },
    {
     "data": {
      "image/png": "[encoded data removed]",
      "text/plain": [
       "<Figure size 648x648 with 1 Axes>"
      ]
     },
     "metadata": {
      "needs_background": "light"
     },
     "output_type": "display_data"
    }
   ],
   "source": [
    "df = data[\"v2.24.0\"][\"ast_metrics\"][\"visit-switch\"]\n",
    "df = df.loc[df.Message == \"SWITCH MISSING DEFAULT\"]\n",
    "df.head()\n",
    "\n",
    "total_switch_miss = [] \n",
    "for version in sorted_versions: \n",
    "    df = data[version][\"ast_metrics\"][\"visit-switch\"] \n",
    "    df = df.loc[df.Message == \"SWITCH MISSING DEFAULT\"] \n",
    "    total_switch_miss.append(df.size)\n",
    "plt.figure(figsize=(9, 9))\n",
    "plt.plot(sorted_versions, total_switch_miss)\n",
    "plt.xticks(rotation=90)\n",
    "plt.xlabel(\"Version\")\n",
    "plt.ylabel(\"Total Missing Default in Switch\")\n",
    "plt.title(\"Hypre Missing Default in Switch Trends\")"
   ]
  },
  {
   "cell_type": "markdown",
   "metadata": {},
   "source": [
    "#### Total Case Clauses Missing Break"
   ]
  },
  {
   "cell_type": "code",
   "execution_count": 68,
   "metadata": {},
   "outputs": [
    {
     "data": {
      "text/plain": [
       "Text(0.5, 1.0, 'Hypre Total Cases Missing Break Trends')"
      ]
     },
     "execution_count": 68,
     "metadata": {},
     "output_type": "execute_result"
    },
    {
     "data": {
      "image/png": "[encoded data removed]",
      "text/plain": [
       "<Figure size 648x648 with 1 Axes>"
      ]
     },
     "metadata": {
      "needs_background": "light"
     },
     "output_type": "display_data"
    }
   ],
   "source": [
    "df = data[\"v2.24.0\"][\"ast_metrics\"][\"visit-switch\"] \n",
    "df = df.loc[df.Message == \"CASE MISSING BREAK\"]\n",
    "df.head()\n",
    "\n",
    "total_cases = [] \n",
    "for version in sorted_versions: \n",
    "    df = data[version][\"ast_metrics\"][\"visit-switch\"]\n",
    "    df = df.loc[df.Message == \"CASE MISSING BREAK\"] \n",
    "    total_cases.append(df.size)\n",
    "plt.figure(figsize=(9, 9))\n",
    "plt.plot(sorted_versions, total_cases)\n",
    "plt.xticks(rotation=90)\n",
    "plt.xlabel(\"Version\")\n",
    "plt.ylabel(\"Total Cases Missing Break\")\n",
    "plt.title(\"Hypre Total Cases Missing Break Trends\")   "
   ]
  },
  {
   "cell_type": "code",
   "execution_count": 73,
   "metadata": {},
   "outputs": [],
   "source": [
    "df = data[\"v2.24.0\"][\"ast_metrics\"][\"visit-switch\"]"
   ]
  },
  {
   "cell_type": "code",
   "execution_count": 74,
   "metadata": {},
   "outputs": [
    {
     "data": {
      "text/html": [
       "<div>\n",
       "<style scoped>\n",
       "    .dataframe tbody tr th:only-of-type {\n",
       "        vertical-align: middle;\n",
       "    }\n",
       "\n",
       "    .dataframe tbody tr th {\n",
       "        vertical-align: top;\n",
       "    }\n",
       "\n",
       "    .dataframe thead th {\n",
       "        text-align: right;\n",
       "    }\n",
       "</style>\n",
       "<table border=\"1\" class=\"dataframe\">\n",
       "  <thead>\n",
       "    <tr style=\"text-align: right;\">\n",
       "      <th></th>\n",
       "      <th>Message</th>\n",
       "      <th>Location</th>\n",
       "    </tr>\n",
       "  </thead>\n",
       "  <tbody>\n",
       "    <tr>\n",
       "      <th>0</th>\n",
       "      <td>CASE MISSING BREAK</td>\n",
       "      <td>/hypre/src/struct_ls/sparse_msg3_setup_rap.c:...</td>\n",
       "    </tr>\n",
       "    <tr>\n",
       "      <th>1</th>\n",
       "      <td>CASE MISSING BREAK</td>\n",
       "      <td>/hypre/src/struct_ls/sparse_msg3_setup_rap.c:...</td>\n",
       "    </tr>\n",
       "    <tr>\n",
       "      <th>2</th>\n",
       "      <td>CASE MISSING BREAK</td>\n",
       "      <td>/hypre/src/struct_ls/sparse_msg3_setup_rap.c:...</td>\n",
       "    </tr>\n",
       "    <tr>\n",
       "      <th>3</th>\n",
       "      <td>CASE MISSING BREAK</td>\n",
       "      <td>/hypre/src/struct_ls/sparse_msg3_setup_rap.c:...</td>\n",
       "    </tr>\n",
       "    <tr>\n",
       "      <th>4</th>\n",
       "      <td>CASE MISSING BREAK</td>\n",
       "      <td>/hypre/src/parcsr_ls/par_cheby.c:119:10</td>\n",
       "    </tr>\n",
       "    <tr>\n",
       "      <th>...</th>\n",
       "      <td>...</td>\n",
       "      <td>...</td>\n",
       "    </tr>\n",
       "    <tr>\n",
       "      <th>226</th>\n",
       "      <td>SWITCH MISSING DEFAULT</td>\n",
       "      <td>/hypre/src/sstruct_mv/HYPRE_sstruct_graph.c:4...</td>\n",
       "    </tr>\n",
       "    <tr>\n",
       "      <th>227</th>\n",
       "      <td>SWITCH MISSING DEFAULT</td>\n",
       "      <td>/hypre/src/struct_ls/sparse_msg_setup_rap.c:34:4</td>\n",
       "    </tr>\n",
       "    <tr>\n",
       "      <th>228</th>\n",
       "      <td>CASE MISSING BREAK</td>\n",
       "      <td>/hypre/src/struct_ls/sparse_msg_setup_rap.c:74:7</td>\n",
       "    </tr>\n",
       "    <tr>\n",
       "      <th>229</th>\n",
       "      <td>CASE MISSING BREAK</td>\n",
       "      <td>/hypre/src/struct_ls/sparse_msg_setup_rap.c:91:7</td>\n",
       "    </tr>\n",
       "    <tr>\n",
       "      <th>230</th>\n",
       "      <td>SWITCH MISSING DEFAULT</td>\n",
       "      <td>/hypre/src/struct_ls/sparse_msg_setup_rap.c:71:4</td>\n",
       "    </tr>\n",
       "  </tbody>\n",
       "</table>\n",
       "<p>231 rows × 2 columns</p>\n",
       "</div>"
      ],
      "text/plain": [
       "                    Message                                           Location\n",
       "0        CASE MISSING BREAK   /hypre/src/struct_ls/sparse_msg3_setup_rap.c:...\n",
       "1        CASE MISSING BREAK   /hypre/src/struct_ls/sparse_msg3_setup_rap.c:...\n",
       "2        CASE MISSING BREAK   /hypre/src/struct_ls/sparse_msg3_setup_rap.c:...\n",
       "3        CASE MISSING BREAK   /hypre/src/struct_ls/sparse_msg3_setup_rap.c:...\n",
       "4        CASE MISSING BREAK            /hypre/src/parcsr_ls/par_cheby.c:119:10\n",
       "..                      ...                                                ...\n",
       "226  SWITCH MISSING DEFAULT   /hypre/src/sstruct_mv/HYPRE_sstruct_graph.c:4...\n",
       "227  SWITCH MISSING DEFAULT   /hypre/src/struct_ls/sparse_msg_setup_rap.c:34:4\n",
       "228      CASE MISSING BREAK   /hypre/src/struct_ls/sparse_msg_setup_rap.c:74:7\n",
       "229      CASE MISSING BREAK   /hypre/src/struct_ls/sparse_msg_setup_rap.c:91:7\n",
       "230  SWITCH MISSING DEFAULT   /hypre/src/struct_ls/sparse_msg_setup_rap.c:71:4\n",
       "\n",
       "[231 rows x 2 columns]"
      ]
     },
     "execution_count": 74,
     "metadata": {},
     "output_type": "execute_result"
    }
   ],
   "source": [
    "df"
   ]
  },
  {
   "cell_type": "code",
   "execution_count": 71,
   "metadata": {},
   "outputs": [
    {
     "data": {
      "text/plain": [
       "dict_keys(['v2.22.0', 'v2.22.1', 'v2.19.0', 'v2.13.0', 'v2.17.0', 'v2.11.2', 'v2.21.0', 'v2.18.2', 'v2.14.0', 'v2.20.0', 'v2.24.0', 'v2.11.0', 'v2.15.1', 'v2.11.1', 'v2.15.0', 'v2.23.0', 'v2.12.0', 'v2.18.0', 'v2.16.0', 'v2.18.1', 'v2.12.1'])"
      ]
     },
     "execution_count": 71,
     "metadata": {},
     "output_type": "execute_result"
    }
   ],
   "source": [
    "data.keys()"
   ]
  },
  {
   "cell_type": "code",
   "execution_count": 72,
   "metadata": {},
   "outputs": [
    {
     "data": {
      "text/plain": [
       "{'qmetrics':                              Name  ArgCount  InstrCount  UniqVals     UniqOps  \\\n",
       " 0                            Axpy         4          18         0  1075871752   \n",
       " 1             ComputeValuesNonsym         4         325         0           0   \n",
       " 2                ComputeValuesSym         5         277         0           0   \n",
       " 3                         CopyVec         3          15         0       32776   \n",
       " 4                 DiagScaleCreate         2         311         0     8388608   \n",
       " ...                           ...       ...         ...       ...         ...   \n",
       " 5509  utilities_FortranMatrixWrap         5          22         0           0   \n",
       " 5510                     vfprintf         3           0         0           0   \n",
       " 5511                     vsprintf         3           0         0           0   \n",
       " 5512                     writeMat         3          44         0   268435520   \n",
       " 5513                     writeVec         3          38         0   268435520   \n",
       " \n",
       "         TotalOps  CC  \n",
       " 0     1075871752   3  \n",
       " 1              0  21  \n",
       " 2              0  23  \n",
       " 3          32776   3  \n",
       " 4      143130624  22  \n",
       " ...          ...  ..  \n",
       " 5509           0   3  \n",
       " 5510           0   1  \n",
       " 5511           0   1  \n",
       " 5512   285352000   9  \n",
       " 5513   285352000   8  \n",
       " \n",
       " [5514 rows x 7 columns],\n",
       " 'callgraph': <networkx.classes.digraph.DiGraph at 0x7fe8928f9fa0>,\n",
       " 'funcnames':                                         0\n",
       " 0                          hypre_dsygst\\n\n",
       " 1                    hypre_lapack_lsame\\n\n",
       " 2                   hypre_lapack_xerbla\\n\n",
       " 3                          hypre_ilaenv\\n\n",
       " 4                          hypre_dsygs2\\n\n",
       " ...                                   ...\n",
       " 5366  hypre_sstructgridsetneighborpart_\\n\n",
       " 5367    hypre_sstructgridsetsharedpart_\\n\n",
       " 5368         hypre_sstructgridassemble_\\n\n",
       " 5369      hypre_sstructgridsetperiodic_\\n\n",
       " 5370        hypre_sstructgridsetnumghost_\n",
       " \n",
       " [5371 rows x 1 columns],\n",
       " 'cgmetrics_path_p':       Unnamed: 0                               Name  FanIn  FanOut  \\\n",
       " 0              0                       hypre_dsygst      1       8   \n",
       " 1              1                 hypre_lapack_lsame     15       0   \n",
       " 2              2                hypre_lapack_xerbla     15       1   \n",
       " 3              3                       hypre_ilaenv     11       3   \n",
       " 4              4                       hypre_dsygs2      1       0   \n",
       " ...          ...                                ...    ...     ...   \n",
       " 5366        5366  hypre_sstructgridsetneighborpart_      0       1   \n",
       " 5367        5367    hypre_sstructgridsetsharedpart_      0       1   \n",
       " 5368        5368         hypre_sstructgridassemble_      0       1   \n",
       " 5369        5369      hypre_sstructgridsetperiodic_      0       1   \n",
       " 5370        5370      hypre_sstructgridsetnumghost_      0       1   \n",
       " \n",
       "       IsIsolated  AvgShortestPath  Closeness  Betweenness  Eccentricity_R  \\\n",
       " 0          False       549.888000   0.001819         10.0               6   \n",
       " 1          False              inf   0.000000          0.0               0   \n",
       " 2          False      1267.916667   0.000789        258.0               5   \n",
       " 3          False      1790.000000   0.000559         99.0               1   \n",
       " 4          False              inf   0.000000          0.0               0   \n",
       " ...          ...              ...        ...          ...             ...   \n",
       " 5366       False       742.789116   0.001346          0.0               5   \n",
       " 5367       False       792.075000   0.001263          0.0               5   \n",
       " 5368       False       154.571841   0.006469          0.0               6   \n",
       " 5369       False      5370.000000   0.000186          0.0               1   \n",
       " 5370       False      3580.000000   0.000279          0.0               3   \n",
       " \n",
       "       Eccentricity_N  \n",
       " 0                983  \n",
       " 1                  1  \n",
       " 2                983  \n",
       " 3               3940  \n",
       " 4                  4  \n",
       " ...              ...  \n",
       " 5366             479  \n",
       " 5367             479  \n",
       " 5368            1044  \n",
       " 5369            2262  \n",
       " 5370            1588  \n",
       " \n",
       " [5371 rows x 10 columns],\n",
       " 'ast_metrics': {'visit-switch':                     Message                                           Location\n",
       "  0        CASE MISSING BREAK   /hypre/src/struct_ls/sparse_msg3_setup_rap.c:...\n",
       "  1        CASE MISSING BREAK   /hypre/src/struct_ls/sparse_msg3_setup_rap.c:...\n",
       "  2        CASE MISSING BREAK   /hypre/src/struct_ls/sparse_msg3_setup_rap.c:...\n",
       "  3        CASE MISSING BREAK   /hypre/src/struct_ls/sparse_msg3_setup_rap.c:...\n",
       "  4        CASE MISSING BREAK            /hypre/src/parcsr_ls/par_cheby.c:119:10\n",
       "  ..                      ...                                                ...\n",
       "  226  SWITCH MISSING DEFAULT   /hypre/src/sstruct_mv/HYPRE_sstruct_graph.c:4...\n",
       "  227  SWITCH MISSING DEFAULT   /hypre/src/struct_ls/sparse_msg_setup_rap.c:34:4\n",
       "  228      CASE MISSING BREAK   /hypre/src/struct_ls/sparse_msg_setup_rap.c:74:7\n",
       "  229      CASE MISSING BREAK   /hypre/src/struct_ls/sparse_msg_setup_rap.c:91:7\n",
       "  230  SWITCH MISSING DEFAULT   /hypre/src/struct_ls/sparse_msg_setup_rap.c:71:4\n",
       "  \n",
       "  [231 rows x 2 columns]}}"
      ]
     },
     "execution_count": 72,
     "metadata": {},
     "output_type": "execute_result"
    }
   ],
   "source": [
    "data[\"v2.24.0\"]"
   ]
  },
  {
   "cell_type": "code",
   "execution_count": null,
   "metadata": {},
   "outputs": [],
   "source": []
  }
 ],
 "metadata": {
  "kernelspec": {
   "display_name": "Python 3",
   "language": "python",
   "name": "python3"
  },
  "language_info": {
   "codemirror_mode": {
    "name": "ipython",
    "version": 3
   },
   "file_extension": ".py",
   "mimetype": "text/x-python",
   "name": "python",
   "nbconvert_exporter": "python",
   "pygments_lexer": "ipython3",
   "version": "3.8.3"
  }
 },
 "nbformat": 4,
 "nbformat_minor": 4
}
