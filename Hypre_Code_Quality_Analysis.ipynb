{
 "cells": [
  {
   "cell_type": "markdown",
   "id": "72a84ca1",
   "metadata": {},
   "source": [
    "We seek to answer these questions: \n",
    "   * Are **prolific** developers writing **better code** than average? \n",
    "   * How do **bursts** in productivity affect code in a given time frame? \n",
    "   * How can **outliers** (developers who submit code that is beyond average or falls far from average) be identified in terms of the code submitted."
   ]
  },
  {
   "cell_type": "markdown",
   "id": "74a1ff43",
   "metadata": {},
   "source": [
    "To do this, we need to define these terms: \n",
    "  * **prolific developer**: A developer who scores higher than average in terms of some productivity metric (e.g: commits submitted per month) \n",
    "  * **better code** code that scores better than average in terms of some code quality/complexity measure (e.g: *CC* cyclomatic complexity)\n",
    "  * **burst in development** In the fourier transform of the time series data of some development metric (e.g total commits submitted), identify the wave with the highest amplitude. Then, identify the average code quality in the neighborhood? \n",
    "  * **outliers** : In a given time period, identify developers who sumbit code that is beyond average or falls far from average."
   ]
  },
  {
   "cell_type": "code",
   "execution_count": null,
   "id": "d6bd7552",
   "metadata": {},
   "outputs": [],
   "source": []
  }
 ],
 "metadata": {
  "kernelspec": {
   "display_name": "Python 3 (ipykernel)",
   "language": "python",
   "name": "python3"
  },
  "language_info": {
   "codemirror_mode": {
    "name": "ipython",
    "version": 3
   },
   "file_extension": ".py",
   "mimetype": "text/x-python",
   "name": "python",
   "nbconvert_exporter": "python",
   "pygments_lexer": "ipython3",
   "version": "3.10.5"
  }
 },
 "nbformat": 4,
 "nbformat_minor": 5
}
